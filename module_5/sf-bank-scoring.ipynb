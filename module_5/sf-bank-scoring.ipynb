{
 "cells": [
  {
   "cell_type": "markdown",
   "id": "6ade2b45",
   "metadata": {
    "papermill": {
     "duration": 0.097797,
     "end_time": "2022-02-01T18:29:57.495646",
     "exception": false,
     "start_time": "2022-02-01T18:29:57.397849",
     "status": "completed"
    },
    "tags": []
   },
   "source": [
    "## Задача\n",
    "Создание скоринг модели для вторичных клиентов банка, предсказывающую веротяность дефолта клиента."
   ]
  },
  {
   "cell_type": "markdown",
   "id": "a8547d78",
   "metadata": {
    "execution": {
     "iopub.execute_input": "2022-01-31T19:22:16.013592Z",
     "iopub.status.busy": "2022-01-31T19:22:16.012787Z",
     "iopub.status.idle": "2022-01-31T19:22:16.024786Z",
     "shell.execute_reply": "2022-01-31T19:22:16.023251Z",
     "shell.execute_reply.started": "2022-01-31T19:22:16.01352Z"
    },
    "papermill": {
     "duration": 0.13053,
     "end_time": "2022-02-01T18:29:57.703710",
     "exception": false,
     "start_time": "2022-02-01T18:29:57.573180",
     "status": "completed"
    },
    "tags": []
   },
   "source": [
    "## Данные датасета\n",
    "\n",
    "* client_id - идентификатор клиента\n",
    "\n",
    "* education - уровень образования\n",
    "\n",
    "* sex - пол заемщика\n",
    "\n",
    "* age - возраст заемщика\n",
    "\n",
    "* car - флаг наличия автомобиля\n",
    "\n",
    "* car_type - флаг автомобиля иномарки\n",
    "\n",
    "* bki_request_cnt - количество запросов в БКИ\n",
    "\n",
    "* good_work - флаг наличия “хорошей” работы\n",
    "\n",
    "* score_bki - скоринговый балл по данным из БКИ\n",
    "\n",
    "* home_address - категоризатор домашнего адреса\n",
    "\n",
    "* work_address - категоризатор рабочего адреса\n",
    "\n",
    "* income - доход заемщика\n",
    "\n",
    "* foreign_passport - наличие загранпаспорта\n",
    "\n",
    "* sna - связь заемщика с клиентами банка\n",
    "\n",
    "* first_time - давность наличия информации о заемщике\n",
    "\n",
    "* region_rating - рейтинг региона\n",
    "\n",
    "* app_date - дата подачи заявки\n",
    "\n",
    "* default - флаг дефолта по кредиту"
   ]
  },
  {
   "cell_type": "markdown",
   "id": "5494016f",
   "metadata": {
    "papermill": {
     "duration": 0.075085,
     "end_time": "2022-02-01T18:29:57.853797",
     "exception": false,
     "start_time": "2022-02-01T18:29:57.778712",
     "status": "completed"
    },
    "tags": []
   },
   "source": [
    "## Библиотеки"
   ]
  },
  {
   "cell_type": "code",
   "execution_count": 1,
   "id": "3b9c98ad",
   "metadata": {
    "_cell_guid": "b1076dfc-b9ad-4769-8c92-a6c4dae69d19",
    "_uuid": "8f2839f25d086af736a60e9eeb907d3b93b6e0e5",
    "execution": {
     "iopub.execute_input": "2022-02-01T18:29:58.037503Z",
     "iopub.status.busy": "2022-02-01T18:29:58.035540Z",
     "iopub.status.idle": "2022-02-01T18:29:59.308247Z",
     "shell.execute_reply": "2022-02-01T18:29:59.307502Z",
     "shell.execute_reply.started": "2022-02-01T18:29:04.929888Z"
    },
    "papermill": {
     "duration": 1.362621,
     "end_time": "2022-02-01T18:29:59.308406",
     "exception": false,
     "start_time": "2022-02-01T18:29:57.945785",
     "status": "completed"
    },
    "tags": []
   },
   "outputs": [],
   "source": [
    "import numpy as np # linear algebra\n",
    "import pandas as pd # data processing, CSV file I/O (e.g. pd.read_csv)\n",
    "import os\n",
    "import matplotlib.pyplot as plt\n",
    "import seaborn as sns\n",
    "\n",
    "from sklearn.preprocessing import LabelEncoder\n",
    "from sklearn.preprocessing import OneHotEncoder\n",
    "from sklearn.preprocessing import StandardScaler\n",
    "from sklearn.feature_selection import f_classif\n",
    "from sklearn.feature_selection import mutual_info_classif\n",
    "from sklearn.preprocessing import MinMaxScaler\n",
    "from sklearn.model_selection import train_test_split\n",
    "from sklearn.linear_model import LogisticRegression\n",
    "from sklearn.metrics import accuracy_score,f1_score,roc_auc_score ,confusion_matrix,roc_curve\n",
    "from sklearn.model_selection import GridSearchCV\n",
    "from sklearn.metrics import classification_report"
   ]
  },
  {
   "cell_type": "markdown",
   "id": "db4cbc59",
   "metadata": {
    "papermill": {
     "duration": 0.075203,
     "end_time": "2022-02-01T18:29:59.459389",
     "exception": false,
     "start_time": "2022-02-01T18:29:59.384186",
     "status": "completed"
    },
    "tags": []
   },
   "source": [
    "## Используемые функции"
   ]
  },
  {
   "cell_type": "code",
   "execution_count": 2,
   "id": "b250d6a6",
   "metadata": {
    "execution": {
     "iopub.execute_input": "2022-02-01T18:29:59.639458Z",
     "iopub.status.busy": "2022-02-01T18:29:59.638740Z",
     "iopub.status.idle": "2022-02-01T18:29:59.654892Z",
     "shell.execute_reply": "2022-02-01T18:29:59.655512Z",
     "shell.execute_reply.started": "2022-02-01T18:29:04.947130Z"
    },
    "papermill": {
     "duration": 0.10598,
     "end_time": "2022-02-01T18:29:59.655705",
     "exception": false,
     "start_time": "2022-02-01T18:29:59.549725",
     "status": "completed"
    },
    "tags": []
   },
   "outputs": [],
   "source": [
    "def num_check(col): #визуализация и проверка выбросов числовых признаков\n",
    "    df[col].hist( bins = 100)\n",
    "    plt.show()\n",
    "    sns.boxplot(x=df['default'],y = df[col])\n",
    "    plt.show()\n",
    "    Q1 = df[col].quantile(0.25)\n",
    "    Q3 = df[col].quantile(0.75)\n",
    "    IQR = Q3 - Q1\n",
    "    df_min = Q1 - 1.5 * IQR\n",
    "    df_max = Q3 + 1.5 * IQR\n",
    "    df_sum = (df[col] < df_min).sum() + (df[col] > df_max).sum()\n",
    "    print(\"Всего выбросов:\", df_sum, \" Минимум:\", df_min,\" Максимум:\", df_max)\n",
    "    return df_min, df_max\n",
    "\n",
    "def metrics_counter(Y_valid,y_predict,y_proba):\n",
    "    acc = accuracy_score(Y_valid, y_predict)\n",
    "    f1 = f1_score(Y_valid, y_predict)\n",
    "    roc = roc_auc_score(Y_valid, y_proba)  \n",
    "    cm = confusion_matrix(Y_valid, y_predict)\n",
    "    print (\"accuracy: \",acc,\"f1: \",f1,\"Roc score:\",roc,\"Confusion matrix:\",cm,sep='\\n')\n",
    "    roc_auc(Y_valid,y_proba)\n",
    "    \n",
    "def roc_auc(Y_valid,y_proba):\n",
    "    fpr, tpr, threshold = roc_curve(Y_valid, y_proba)\n",
    "    roc_auc = roc_auc_score(Y_valid,y_proba)\n",
    "    plt.figure()\n",
    "    plt.plot([0, 1], label='Baseline', linestyle='--')\n",
    "    plt.plot(fpr, tpr, label = 'Regression')\n",
    "    plt.title('Logistic Regression ROC AUC = %0.3f' % roc_auc)\n",
    "    plt.ylabel('True Positive Rate')\n",
    "    plt.xlabel('False Positive Rate')\n",
    "    plt.legend(loc = 'lower right')\n",
    "    plt.show()\n"
   ]
  },
  {
   "cell_type": "code",
   "execution_count": 3,
   "id": "68f64dd1",
   "metadata": {
    "execution": {
     "iopub.execute_input": "2022-02-01T18:29:59.831928Z",
     "iopub.status.busy": "2022-02-01T18:29:59.830702Z",
     "iopub.status.idle": "2022-02-01T18:30:00.153988Z",
     "shell.execute_reply": "2022-02-01T18:30:00.153432Z",
     "shell.execute_reply.started": "2022-02-01T18:29:04.964064Z"
    },
    "papermill": {
     "duration": 0.414061,
     "end_time": "2022-02-01T18:30:00.154164",
     "exception": false,
     "start_time": "2022-02-01T18:29:59.740103",
     "status": "completed"
    },
    "tags": []
   },
   "outputs": [],
   "source": [
    "\n",
    "df_train = pd.read_csv('train.csv')\n",
    "df_test = pd.read_csv('test.csv')\n",
    "sample_submission = pd.read_csv('sample_submission.csv')"
   ]
  },
  {
   "cell_type": "code",
   "execution_count": 4,
   "id": "c56fc009",
   "metadata": {
    "execution": {
     "iopub.execute_input": "2022-02-01T18:30:00.316781Z",
     "iopub.status.busy": "2022-02-01T18:30:00.315784Z",
     "iopub.status.idle": "2022-02-01T18:30:00.430447Z",
     "shell.execute_reply": "2022-02-01T18:30:00.431312Z",
     "shell.execute_reply.started": "2022-02-01T18:29:05.233008Z"
    },
    "papermill": {
     "duration": 0.194458,
     "end_time": "2022-02-01T18:30:00.431531",
     "exception": false,
     "start_time": "2022-02-01T18:30:00.237073",
     "status": "completed"
    },
    "tags": []
   },
   "outputs": [
    {
     "name": "stdout",
     "output_type": "stream",
     "text": [
      "Train data\n",
      "<class 'pandas.core.frame.DataFrame'>\n",
      "RangeIndex: 73799 entries, 0 to 73798\n",
      "Data columns (total 19 columns):\n",
      " #   Column            Non-Null Count  Dtype  \n",
      "---  ------            --------------  -----  \n",
      " 0   client_id         73799 non-null  int64  \n",
      " 1   app_date          73799 non-null  object \n",
      " 2   education         73492 non-null  object \n",
      " 3   sex               73799 non-null  object \n",
      " 4   age               73799 non-null  int64  \n",
      " 5   car               73799 non-null  object \n",
      " 6   car_type          73799 non-null  object \n",
      " 7   decline_app_cnt   73799 non-null  int64  \n",
      " 8   good_work         73799 non-null  int64  \n",
      " 9   score_bki         73799 non-null  float64\n",
      " 10  bki_request_cnt   73799 non-null  int64  \n",
      " 11  region_rating     73799 non-null  int64  \n",
      " 12  home_address      73799 non-null  int64  \n",
      " 13  work_address      73799 non-null  int64  \n",
      " 14  income            73799 non-null  int64  \n",
      " 15  sna               73799 non-null  int64  \n",
      " 16  first_time        73799 non-null  int64  \n",
      " 17  foreign_passport  73799 non-null  object \n",
      " 18  default           73799 non-null  int64  \n",
      "dtypes: float64(1), int64(12), object(6)\n",
      "memory usage: 10.7+ MB\n",
      "None\n",
      "Test data\n",
      "<class 'pandas.core.frame.DataFrame'>\n",
      "RangeIndex: 36349 entries, 0 to 36348\n",
      "Data columns (total 18 columns):\n",
      " #   Column            Non-Null Count  Dtype  \n",
      "---  ------            --------------  -----  \n",
      " 0   client_id         36349 non-null  int64  \n",
      " 1   app_date          36349 non-null  object \n",
      " 2   education         36178 non-null  object \n",
      " 3   sex               36349 non-null  object \n",
      " 4   age               36349 non-null  int64  \n",
      " 5   car               36349 non-null  object \n",
      " 6   car_type          36349 non-null  object \n",
      " 7   decline_app_cnt   36349 non-null  int64  \n",
      " 8   good_work         36349 non-null  int64  \n",
      " 9   score_bki         36349 non-null  float64\n",
      " 10  bki_request_cnt   36349 non-null  int64  \n",
      " 11  region_rating     36349 non-null  int64  \n",
      " 12  home_address      36349 non-null  int64  \n",
      " 13  work_address      36349 non-null  int64  \n",
      " 14  income            36349 non-null  int64  \n",
      " 15  sna               36349 non-null  int64  \n",
      " 16  first_time        36349 non-null  int64  \n",
      " 17  foreign_passport  36349 non-null  object \n",
      "dtypes: float64(1), int64(11), object(6)\n",
      "memory usage: 5.0+ MB\n",
      "None\n",
      "Submission data\n",
      "<class 'pandas.core.frame.DataFrame'>\n",
      "RangeIndex: 36349 entries, 0 to 36348\n",
      "Data columns (total 2 columns):\n",
      " #   Column     Non-Null Count  Dtype\n",
      "---  ------     --------------  -----\n",
      " 0   client_id  36349 non-null  int64\n",
      " 1   default    36349 non-null  int64\n",
      "dtypes: int64(2)\n",
      "memory usage: 568.1 KB\n",
      "None\n"
     ]
    }
   ],
   "source": [
    "print('Train data')\n",
    "print(df_train.info())\n",
    "print('Test data')\n",
    "print(df_test.info())\n",
    "print('Submission data')\n",
    "print(sample_submission.info())"
   ]
  },
  {
   "cell_type": "markdown",
   "id": "08f6ae3e",
   "metadata": {
    "papermill": {
     "duration": 0.075267,
     "end_time": "2022-02-01T18:30:00.583751",
     "exception": false,
     "start_time": "2022-02-01T18:30:00.508484",
     "status": "completed"
    },
    "tags": []
   },
   "source": [
    "#### Пропуски пристутствуют лишь в education. Так же для удобства стоит на время соединить трейн и тест датасеты"
   ]
  },
  {
   "cell_type": "code",
   "execution_count": 5,
   "id": "7db4cac9",
   "metadata": {
    "execution": {
     "iopub.execute_input": "2022-02-01T18:30:00.739739Z",
     "iopub.status.busy": "2022-02-01T18:30:00.738754Z",
     "iopub.status.idle": "2022-02-01T18:30:00.766109Z",
     "shell.execute_reply": "2022-02-01T18:30:00.766597Z",
     "shell.execute_reply.started": "2022-02-01T18:29:05.343715Z"
    },
    "papermill": {
     "duration": 0.106949,
     "end_time": "2022-02-01T18:30:00.766809",
     "exception": false,
     "start_time": "2022-02-01T18:30:00.659860",
     "status": "completed"
    },
    "tags": []
   },
   "outputs": [],
   "source": [
    "df = pd.concat([df_train, df_test])"
   ]
  },
  {
   "cell_type": "markdown",
   "id": "c2abe73d",
   "metadata": {
    "papermill": {
     "duration": 0.077154,
     "end_time": "2022-02-01T18:30:00.921469",
     "exception": false,
     "start_time": "2022-02-01T18:30:00.844315",
     "status": "completed"
    },
    "tags": []
   },
   "source": [
    "#### у df_test нет default, тем самым у всех примеров из test`а значение default будет NaN, что мы и используем в будующем чтобы разделить test и train"
   ]
  },
  {
   "cell_type": "code",
   "execution_count": 6,
   "id": "d2bd3621",
   "metadata": {
    "execution": {
     "iopub.execute_input": "2022-02-01T18:30:01.078550Z",
     "iopub.status.busy": "2022-02-01T18:30:01.077905Z",
     "iopub.status.idle": "2022-02-01T18:30:01.101897Z",
     "shell.execute_reply": "2022-02-01T18:30:01.102406Z",
     "shell.execute_reply.started": "2022-02-01T18:29:05.374033Z"
    },
    "papermill": {
     "duration": 0.104511,
     "end_time": "2022-02-01T18:30:01.102574",
     "exception": false,
     "start_time": "2022-02-01T18:30:00.998063",
     "status": "completed"
    },
    "tags": []
   },
   "outputs": [
    {
     "data": {
      "text/html": [
       "<div>\n",
       "<style scoped>\n",
       "    .dataframe tbody tr th:only-of-type {\n",
       "        vertical-align: middle;\n",
       "    }\n",
       "\n",
       "    .dataframe tbody tr th {\n",
       "        vertical-align: top;\n",
       "    }\n",
       "\n",
       "    .dataframe thead th {\n",
       "        text-align: right;\n",
       "    }\n",
       "</style>\n",
       "<table border=\"1\" class=\"dataframe\">\n",
       "  <thead>\n",
       "    <tr style=\"text-align: right;\">\n",
       "      <th></th>\n",
       "      <th>client_id</th>\n",
       "      <th>app_date</th>\n",
       "      <th>education</th>\n",
       "      <th>sex</th>\n",
       "      <th>age</th>\n",
       "      <th>car</th>\n",
       "      <th>car_type</th>\n",
       "      <th>decline_app_cnt</th>\n",
       "      <th>good_work</th>\n",
       "      <th>score_bki</th>\n",
       "      <th>bki_request_cnt</th>\n",
       "      <th>region_rating</th>\n",
       "      <th>home_address</th>\n",
       "      <th>work_address</th>\n",
       "      <th>income</th>\n",
       "      <th>sna</th>\n",
       "      <th>first_time</th>\n",
       "      <th>foreign_passport</th>\n",
       "      <th>default</th>\n",
       "    </tr>\n",
       "  </thead>\n",
       "  <tbody>\n",
       "    <tr>\n",
       "      <th>0</th>\n",
       "      <td>25905</td>\n",
       "      <td>01FEB2014</td>\n",
       "      <td>SCH</td>\n",
       "      <td>M</td>\n",
       "      <td>62</td>\n",
       "      <td>Y</td>\n",
       "      <td>Y</td>\n",
       "      <td>0</td>\n",
       "      <td>0</td>\n",
       "      <td>-2.008753</td>\n",
       "      <td>1</td>\n",
       "      <td>50</td>\n",
       "      <td>1</td>\n",
       "      <td>2</td>\n",
       "      <td>18000</td>\n",
       "      <td>4</td>\n",
       "      <td>1</td>\n",
       "      <td>N</td>\n",
       "      <td>0.0</td>\n",
       "    </tr>\n",
       "    <tr>\n",
       "      <th>1</th>\n",
       "      <td>63161</td>\n",
       "      <td>12MAR2014</td>\n",
       "      <td>SCH</td>\n",
       "      <td>F</td>\n",
       "      <td>59</td>\n",
       "      <td>N</td>\n",
       "      <td>N</td>\n",
       "      <td>0</td>\n",
       "      <td>0</td>\n",
       "      <td>-1.532276</td>\n",
       "      <td>3</td>\n",
       "      <td>50</td>\n",
       "      <td>2</td>\n",
       "      <td>3</td>\n",
       "      <td>19000</td>\n",
       "      <td>4</td>\n",
       "      <td>1</td>\n",
       "      <td>N</td>\n",
       "      <td>0.0</td>\n",
       "    </tr>\n",
       "    <tr>\n",
       "      <th>2</th>\n",
       "      <td>25887</td>\n",
       "      <td>01FEB2014</td>\n",
       "      <td>SCH</td>\n",
       "      <td>M</td>\n",
       "      <td>25</td>\n",
       "      <td>Y</td>\n",
       "      <td>N</td>\n",
       "      <td>2</td>\n",
       "      <td>0</td>\n",
       "      <td>-1.408142</td>\n",
       "      <td>1</td>\n",
       "      <td>80</td>\n",
       "      <td>1</td>\n",
       "      <td>2</td>\n",
       "      <td>30000</td>\n",
       "      <td>1</td>\n",
       "      <td>4</td>\n",
       "      <td>Y</td>\n",
       "      <td>0.0</td>\n",
       "    </tr>\n",
       "    <tr>\n",
       "      <th>3</th>\n",
       "      <td>16222</td>\n",
       "      <td>23JAN2014</td>\n",
       "      <td>SCH</td>\n",
       "      <td>F</td>\n",
       "      <td>53</td>\n",
       "      <td>N</td>\n",
       "      <td>N</td>\n",
       "      <td>0</td>\n",
       "      <td>0</td>\n",
       "      <td>-2.057471</td>\n",
       "      <td>2</td>\n",
       "      <td>50</td>\n",
       "      <td>2</td>\n",
       "      <td>3</td>\n",
       "      <td>10000</td>\n",
       "      <td>1</td>\n",
       "      <td>3</td>\n",
       "      <td>N</td>\n",
       "      <td>0.0</td>\n",
       "    </tr>\n",
       "    <tr>\n",
       "      <th>4</th>\n",
       "      <td>101655</td>\n",
       "      <td>18APR2014</td>\n",
       "      <td>GRD</td>\n",
       "      <td>M</td>\n",
       "      <td>48</td>\n",
       "      <td>N</td>\n",
       "      <td>N</td>\n",
       "      <td>0</td>\n",
       "      <td>1</td>\n",
       "      <td>-1.244723</td>\n",
       "      <td>1</td>\n",
       "      <td>60</td>\n",
       "      <td>2</td>\n",
       "      <td>3</td>\n",
       "      <td>30000</td>\n",
       "      <td>1</td>\n",
       "      <td>4</td>\n",
       "      <td>Y</td>\n",
       "      <td>0.0</td>\n",
       "    </tr>\n",
       "  </tbody>\n",
       "</table>\n",
       "</div>"
      ],
      "text/plain": [
       "   client_id   app_date education sex  age car car_type  decline_app_cnt  \\\n",
       "0      25905  01FEB2014       SCH   M   62   Y        Y                0   \n",
       "1      63161  12MAR2014       SCH   F   59   N        N                0   \n",
       "2      25887  01FEB2014       SCH   M   25   Y        N                2   \n",
       "3      16222  23JAN2014       SCH   F   53   N        N                0   \n",
       "4     101655  18APR2014       GRD   M   48   N        N                0   \n",
       "\n",
       "   good_work  score_bki  bki_request_cnt  region_rating  home_address  \\\n",
       "0          0  -2.008753                1             50             1   \n",
       "1          0  -1.532276                3             50             2   \n",
       "2          0  -1.408142                1             80             1   \n",
       "3          0  -2.057471                2             50             2   \n",
       "4          1  -1.244723                1             60             2   \n",
       "\n",
       "   work_address  income  sna  first_time foreign_passport  default  \n",
       "0             2   18000    4           1                N      0.0  \n",
       "1             3   19000    4           1                N      0.0  \n",
       "2             2   30000    1           4                Y      0.0  \n",
       "3             3   10000    1           3                N      0.0  \n",
       "4             3   30000    1           4                Y      0.0  "
      ]
     },
     "execution_count": 6,
     "metadata": {},
     "output_type": "execute_result"
    }
   ],
   "source": [
    "df_num = []\n",
    "df_cat = []\n",
    "df_bin = []\n",
    "df.head()"
   ]
  },
  {
   "cell_type": "markdown",
   "id": "80cb2aa2",
   "metadata": {
    "papermill": {
     "duration": 0.076712,
     "end_time": "2022-02-01T18:30:01.256481",
     "exception": false,
     "start_time": "2022-02-01T18:30:01.179769",
     "status": "completed"
    },
    "tags": []
   },
   "source": [
    "### Пройдемся по всем признакам, поделим их по категориям и подправим необходимое\n",
    "#### 1. client_id - уникальный идентефикатор клиента, внутри него самого никакой дополнительной полезной информации нет. Для модели бесполезен.\n",
    "#### 2. app_date - дата подачи заявки на кредит, вероятно стоит перевести его в более удобную форму и разобрать его на отдельные признаки."
   ]
  },
  {
   "cell_type": "code",
   "execution_count": 7,
   "id": "46a8546f",
   "metadata": {
    "execution": {
     "iopub.execute_input": "2022-02-01T18:30:01.425923Z",
     "iopub.status.busy": "2022-02-01T18:30:01.415458Z",
     "iopub.status.idle": "2022-02-01T18:30:01.512517Z",
     "shell.execute_reply": "2022-02-01T18:30:01.513079Z",
     "shell.execute_reply.started": "2022-02-01T18:29:05.394656Z"
    },
    "papermill": {
     "duration": 0.179522,
     "end_time": "2022-02-01T18:30:01.513265",
     "exception": false,
     "start_time": "2022-02-01T18:30:01.333743",
     "status": "completed"
    },
    "tags": []
   },
   "outputs": [],
   "source": [
    "df['app_date'] = pd.to_datetime(df.app_date)\n",
    "df['app_date_day'] = df.app_date.dt.day\n",
    "df['app_date_month'] = df.app_date.dt.month\n",
    "df['app_date_year'] = df.app_date.dt.year\n",
    "df['app_date_weekday'] = df.app_date.dt.weekday"
   ]
  },
  {
   "cell_type": "code",
   "execution_count": 8,
   "id": "38d0b490",
   "metadata": {
    "execution": {
     "iopub.execute_input": "2022-02-01T18:30:01.672791Z",
     "iopub.status.busy": "2022-02-01T18:30:01.671783Z",
     "iopub.status.idle": "2022-02-01T18:30:02.064749Z",
     "shell.execute_reply": "2022-02-01T18:30:02.065285Z",
     "shell.execute_reply.started": "2022-02-01T18:29:05.501438Z"
    },
    "papermill": {
     "duration": 0.475556,
     "end_time": "2022-02-01T18:30:02.065457",
     "exception": false,
     "start_time": "2022-02-01T18:30:01.589901",
     "status": "completed"
    },
    "tags": []
   },
   "outputs": [
    {
     "data": {
      "image/png": "[encoded data removed]",
      "text/plain": [
       "<Figure size 432x288 with 1 Axes>"
      ]
     },
     "metadata": {
      "needs_background": "light"
     },
     "output_type": "display_data"
    }
   ],
   "source": [
    "sns.countplot(x = df.app_date_day)\n",
    "plt.show()"
   ]
  },
  {
   "cell_type": "code",
   "execution_count": 9,
   "id": "eee392d9",
   "metadata": {
    "execution": {
     "iopub.execute_input": "2022-02-01T18:30:02.227173Z",
     "iopub.status.busy": "2022-02-01T18:30:02.226222Z",
     "iopub.status.idle": "2022-02-01T18:30:02.402319Z",
     "shell.execute_reply": "2022-02-01T18:30:02.401778Z",
     "shell.execute_reply.started": "2022-02-01T18:29:05.902601Z"
    },
    "papermill": {
     "duration": 0.259104,
     "end_time": "2022-02-01T18:30:02.402466",
     "exception": false,
     "start_time": "2022-02-01T18:30:02.143362",
     "status": "completed"
    },
    "tags": []
   },
   "outputs": [
    {
     "data": {
      "image/png": "[encoded data removed]",
      "text/plain": [
       "<Figure size 432x288 with 1 Axes>"
      ]
     },
     "metadata": {
      "needs_background": "light"
     },
     "output_type": "display_data"
    }
   ],
   "source": [
    "sns.countplot(x = df.app_date_month)\n",
    "plt.show()"
   ]
  },
  {
   "cell_type": "code",
   "execution_count": 10,
   "id": "f069accf",
   "metadata": {
    "execution": {
     "iopub.execute_input": "2022-02-01T18:30:02.563375Z",
     "iopub.status.busy": "2022-02-01T18:30:02.562390Z",
     "iopub.status.idle": "2022-02-01T18:30:02.719060Z",
     "shell.execute_reply": "2022-02-01T18:30:02.719921Z",
     "shell.execute_reply.started": "2022-02-01T18:29:06.097375Z"
    },
    "papermill": {
     "duration": 0.238951,
     "end_time": "2022-02-01T18:30:02.720122",
     "exception": false,
     "start_time": "2022-02-01T18:30:02.481171",
     "status": "completed"
    },
    "tags": []
   },
   "outputs": [
    {
     "data": {
      "image/png": "[encoded data removed]",
      "text/plain": [
       "<Figure size 432x288 with 1 Axes>"
      ]
     },
     "metadata": {
      "needs_background": "light"
     },
     "output_type": "display_data"
    }
   ],
   "source": [
    "sns.countplot(x = df.app_date_year)\n",
    "plt.show()"
   ]
  },
  {
   "cell_type": "code",
   "execution_count": 11,
   "id": "b9e3c8ea",
   "metadata": {
    "execution": {
     "iopub.execute_input": "2022-02-01T18:30:02.881498Z",
     "iopub.status.busy": "2022-02-01T18:30:02.880845Z",
     "iopub.status.idle": "2022-02-01T18:30:03.087148Z",
     "shell.execute_reply": "2022-02-01T18:30:03.086616Z",
     "shell.execute_reply.started": "2022-02-01T18:29:06.261272Z"
    },
    "papermill": {
     "duration": 0.288356,
     "end_time": "2022-02-01T18:30:03.087295",
     "exception": false,
     "start_time": "2022-02-01T18:30:02.798939",
     "status": "completed"
    },
    "tags": []
   },
   "outputs": [
    {
     "data": {
      "image/png": "[encoded data removed]",
      "text/plain": [
       "<Figure size 432x288 with 1 Axes>"
      ]
     },
     "metadata": {
      "needs_background": "light"
     },
     "output_type": "display_data"
    }
   ],
   "source": [
    "sns.countplot(x = df.app_date_weekday)\n",
    "plt.show()"
   ]
  },
  {
   "cell_type": "markdown",
   "id": "e44c335c",
   "metadata": {
    "papermill": {
     "duration": 0.079285,
     "end_time": "2022-02-01T18:30:03.246773",
     "exception": false,
     "start_time": "2022-02-01T18:30:03.167488",
     "status": "completed"
    },
    "tags": []
   },
   "source": [
    "#### Легко видеть, что данные даны за 4 месяца 2014 года, тем самым не вижу особого смысле в годе, месяц пока что оставим\n",
    "#### Так же можно добавить, была ли оставлена заявка на кредит в будние или выходные дни"
   ]
  },
  {
   "cell_type": "code",
   "execution_count": 12,
   "id": "fba7e262",
   "metadata": {
    "execution": {
     "iopub.execute_input": "2022-02-01T18:30:03.410035Z",
     "iopub.status.busy": "2022-02-01T18:30:03.409422Z",
     "iopub.status.idle": "2022-02-01T18:30:03.481937Z",
     "shell.execute_reply": "2022-02-01T18:30:03.482459Z",
     "shell.execute_reply.started": "2022-02-01T18:29:06.474374Z"
    },
    "papermill": {
     "duration": 0.156101,
     "end_time": "2022-02-01T18:30:03.482655",
     "exception": false,
     "start_time": "2022-02-01T18:30:03.326554",
     "status": "completed"
    },
    "tags": []
   },
   "outputs": [],
   "source": [
    "df['app_date_weekend'] = df.app_date_weekday.apply(lambda x: 1 if x>= 5 else 0)"
   ]
  },
  {
   "cell_type": "markdown",
   "id": "9812dca6",
   "metadata": {
    "papermill": {
     "duration": 0.079636,
     "end_time": "2022-02-01T18:30:03.642327",
     "exception": false,
     "start_time": "2022-02-01T18:30:03.562691",
     "status": "completed"
    },
    "tags": []
   },
   "source": [
    "#### Удалим лишние признаки, оставшиеся же поделим между числовыми и бинарными"
   ]
  },
  {
   "cell_type": "code",
   "execution_count": 13,
   "id": "698356ba",
   "metadata": {
    "execution": {
     "iopub.execute_input": "2022-02-01T18:30:03.805574Z",
     "iopub.status.busy": "2022-02-01T18:30:03.804909Z",
     "iopub.status.idle": "2022-02-01T18:30:03.857562Z",
     "shell.execute_reply": "2022-02-01T18:30:03.856844Z",
     "shell.execute_reply.started": "2022-02-01T18:29:06.551436Z"
    },
    "papermill": {
     "duration": 0.135507,
     "end_time": "2022-02-01T18:30:03.857698",
     "exception": false,
     "start_time": "2022-02-01T18:30:03.722191",
     "status": "completed"
    },
    "tags": []
   },
   "outputs": [],
   "source": [
    "for i in ['app_date_year','app_date']:\n",
    "    df = df.drop(i,axis = 1)\n",
    "df_num.append('app_date_weekday')\n",
    "df_num.append('app_date_month')\n",
    "df_bin.append('app_date_weekend')\n",
    "df_num.append('app_date_day')"
   ]
  },
  {
   "cell_type": "markdown",
   "id": "027ef7a0",
   "metadata": {
    "execution": {
     "iopub.execute_input": "2022-02-01T08:57:13.534315Z",
     "iopub.status.busy": "2022-02-01T08:57:13.533727Z",
     "iopub.status.idle": "2022-02-01T08:57:13.538353Z",
     "shell.execute_reply": "2022-02-01T08:57:13.537694Z",
     "shell.execute_reply.started": "2022-02-01T08:57:13.534276Z"
    },
    "papermill": {
     "duration": 0.079199,
     "end_time": "2022-02-01T18:30:04.016997",
     "exception": false,
     "start_time": "2022-02-01T18:30:03.937798",
     "status": "completed"
    },
    "tags": []
   },
   "source": [
    "#### 3. Education - уровень образования\n",
    "##### Категориальный признак, в котором есть пустые значения, пока что просто избавимся от них и изменим название категорий на более удобные для нас значения\n",
    "##### У нас есть 3 варианта избавления от пустых значений:удалить, поставить значение большего и поставить их в отдельную категорию.\n",
    "##### Я решил оставить как можно больше данных и поставить их в отдельную категорию"
   ]
  },
  {
   "cell_type": "code",
   "execution_count": 14,
   "id": "bf2ad18b",
   "metadata": {
    "execution": {
     "iopub.execute_input": "2022-02-01T18:30:04.181526Z",
     "iopub.status.busy": "2022-02-01T18:30:04.180900Z",
     "iopub.status.idle": "2022-02-01T18:30:04.504325Z",
     "shell.execute_reply": "2022-02-01T18:30:04.504831Z",
     "shell.execute_reply.started": "2022-02-01T18:29:06.593044Z"
    },
    "papermill": {
     "duration": 0.408387,
     "end_time": "2022-02-01T18:30:04.505037",
     "exception": false,
     "start_time": "2022-02-01T18:30:04.096650",
     "status": "completed"
    },
    "tags": []
   },
   "outputs": [
    {
     "data": {
      "image/png": "[encoded data removed]",
      "text/plain": [
       "<Figure size 432x288 with 1 Axes>"
      ]
     },
     "metadata": {
      "needs_background": "light"
     },
     "output_type": "display_data"
    }
   ],
   "source": [
    "df['education'] = df['education'].fillna('NoInfo')\n",
    "sns.countplot(x = df.education)\n",
    "plt.show()"
   ]
  },
  {
   "cell_type": "code",
   "execution_count": 15,
   "id": "00213cf8",
   "metadata": {
    "execution": {
     "iopub.execute_input": "2022-02-01T18:30:04.671381Z",
     "iopub.status.busy": "2022-02-01T18:30:04.670657Z",
     "iopub.status.idle": "2022-02-01T18:30:04.719345Z",
     "shell.execute_reply": "2022-02-01T18:30:04.718698Z",
     "shell.execute_reply.started": "2022-02-01T18:29:06.928796Z"
    },
    "papermill": {
     "duration": 0.133509,
     "end_time": "2022-02-01T18:30:04.719485",
     "exception": false,
     "start_time": "2022-02-01T18:30:04.585976",
     "status": "completed"
    },
    "tags": []
   },
   "outputs": [
    {
     "data": {
      "text/plain": [
       "4    57998\n",
       "1    34768\n",
       "5    14748\n",
       "3     1865\n",
       "2      478\n",
       "0      291\n",
       "Name: education, dtype: int64"
      ]
     },
     "execution_count": 15,
     "metadata": {},
     "output_type": "execute_result"
    }
   ],
   "source": [
    "label_encoder = LabelEncoder()\n",
    "df['education'] = label_encoder.fit_transform(df['education'])\n",
    "df.education.value_counts()"
   ]
  },
  {
   "cell_type": "code",
   "execution_count": 16,
   "id": "7d5d8af0",
   "metadata": {
    "execution": {
     "iopub.execute_input": "2022-02-01T18:30:04.888865Z",
     "iopub.status.busy": "2022-02-01T18:30:04.888208Z",
     "iopub.status.idle": "2022-02-01T18:30:04.890905Z",
     "shell.execute_reply": "2022-02-01T18:30:04.890414Z",
     "shell.execute_reply.started": "2022-02-01T18:29:06.979303Z"
    },
    "papermill": {
     "duration": 0.091256,
     "end_time": "2022-02-01T18:30:04.891106",
     "exception": false,
     "start_time": "2022-02-01T18:30:04.799850",
     "status": "completed"
    },
    "tags": []
   },
   "outputs": [],
   "source": [
    "df_cat.append('education')"
   ]
  },
  {
   "cell_type": "markdown",
   "id": "67bace8c",
   "metadata": {
    "papermill": {
     "duration": 0.081139,
     "end_time": "2022-02-01T18:30:05.053417",
     "exception": false,
     "start_time": "2022-02-01T18:30:04.972278",
     "status": "completed"
    },
    "tags": []
   },
   "source": [
    "#### 4. Sex - пол занимающего\n",
    "##### Бинарный признак, пока что оставим его как он есть (бинарные признаки поменяем все одновременно) и посмотрим на значения"
   ]
  },
  {
   "cell_type": "code",
   "execution_count": 17,
   "id": "6c924bc4",
   "metadata": {
    "execution": {
     "iopub.execute_input": "2022-02-01T18:30:05.222456Z",
     "iopub.status.busy": "2022-02-01T18:30:05.221739Z",
     "iopub.status.idle": "2022-02-01T18:30:05.513001Z",
     "shell.execute_reply": "2022-02-01T18:30:05.512454Z",
     "shell.execute_reply.started": "2022-02-01T18:29:06.985817Z"
    },
    "papermill": {
     "duration": 0.377495,
     "end_time": "2022-02-01T18:30:05.513163",
     "exception": false,
     "start_time": "2022-02-01T18:30:05.135668",
     "status": "completed"
    },
    "tags": []
   },
   "outputs": [
    {
     "data": {
      "text/plain": [
       "<AxesSubplot:xlabel='default', ylabel='count'>"
      ]
     },
     "execution_count": 17,
     "metadata": {},
     "output_type": "execute_result"
    },
    {
     "data": {
      "image/png": "[encoded data removed]",
      "text/plain": [
       "<Figure size 432x288 with 1 Axes>"
      ]
     },
     "metadata": {
      "needs_background": "light"
     },
     "output_type": "display_data"
    }
   ],
   "source": [
    "df_bin.append('sex')\n",
    "sns.countplot(x= df['default'],hue = df['sex'])"
   ]
  },
  {
   "cell_type": "markdown",
   "id": "5f08e3b8",
   "metadata": {
    "papermill": {
     "duration": 0.082033,
     "end_time": "2022-02-01T18:30:05.677216",
     "exception": false,
     "start_time": "2022-02-01T18:30:05.595183",
     "status": "completed"
    },
    "tags": []
   },
   "source": [
    "##### Легко увидеть, что женщины немного более ответственные заемщики, так же что женщины в данной выборке занимают чаще чем мужчины. Пропусков так же нет.\n",
    "\n",
    "#### 5. Age - возраст занимающего\n",
    "##### Числовой признак, необходимо посмотреть выбросы и если они есть попробывать от них избавиться"
   ]
  },
  {
   "cell_type": "code",
   "execution_count": 18,
   "id": "08bc8875",
   "metadata": {
    "execution": {
     "iopub.execute_input": "2022-02-01T18:30:05.847338Z",
     "iopub.status.busy": "2022-02-01T18:30:05.846692Z",
     "iopub.status.idle": "2022-02-01T18:30:06.429976Z",
     "shell.execute_reply": "2022-02-01T18:30:06.430490Z",
     "shell.execute_reply.started": "2022-02-01T18:29:07.288793Z"
    },
    "papermill": {
     "duration": 0.671089,
     "end_time": "2022-02-01T18:30:06.430663",
     "exception": false,
     "start_time": "2022-02-01T18:30:05.759574",
     "status": "completed"
    },
    "tags": []
   },
   "outputs": [
    {
     "data": {
      "image/png": "[encoded data removed]",
      "text/plain": [
       "<Figure size 432x288 with 1 Axes>"
      ]
     },
     "metadata": {
      "needs_background": "light"
     },
     "output_type": "display_data"
    },
    {
     "data": {
      "image/png": "[encoded data removed]",
      "text/plain": [
       "<Figure size 432x288 with 1 Axes>"
      ]
     },
     "metadata": {
      "needs_background": "light"
     },
     "output_type": "display_data"
    },
    {
     "name": "stdout",
     "output_type": "stream",
     "text": [
      "Всего выбросов: 0  Минимум: 3.0  Максимум: 75.0\n"
     ]
    },
    {
     "data": {
      "text/plain": [
       "(3.0, 75.0)"
      ]
     },
     "execution_count": 18,
     "metadata": {},
     "output_type": "execute_result"
    }
   ],
   "source": [
    "num_check('age')"
   ]
  },
  {
   "cell_type": "markdown",
   "id": "7d68d071",
   "metadata": {
    "papermill": {
     "duration": 0.084047,
     "end_time": "2022-02-01T18:30:06.598796",
     "exception": false,
     "start_time": "2022-02-01T18:30:06.514749",
     "status": "completed"
    },
    "tags": []
   },
   "source": [
    "##### Выбросов нет, так же можно увидеть, что в среднем, люди старше более ответственные заемщики добавим признак в числовые и пойдем дальше"
   ]
  },
  {
   "cell_type": "code",
   "execution_count": 19,
   "id": "7bfd61f1",
   "metadata": {
    "execution": {
     "iopub.execute_input": "2022-02-01T18:30:06.772201Z",
     "iopub.status.busy": "2022-02-01T18:30:06.771536Z",
     "iopub.status.idle": "2022-02-01T18:30:06.773160Z",
     "shell.execute_reply": "2022-02-01T18:30:06.773693Z",
     "shell.execute_reply.started": "2022-02-01T18:29:07.869006Z"
    },
    "papermill": {
     "duration": 0.091098,
     "end_time": "2022-02-01T18:30:06.773861",
     "exception": false,
     "start_time": "2022-02-01T18:30:06.682763",
     "status": "completed"
    },
    "tags": []
   },
   "outputs": [],
   "source": [
    "df_num.append('age')"
   ]
  },
  {
   "cell_type": "markdown",
   "id": "caaba735",
   "metadata": {
    "papermill": {
     "duration": 0.083929,
     "end_time": "2022-02-01T18:30:06.942321",
     "exception": false,
     "start_time": "2022-02-01T18:30:06.858392",
     "status": "completed"
    },
    "tags": []
   },
   "source": [
    "#### 6. car - наличие автомобиля\n",
    "#### 7. car_type - является ли автомобиль иномаркой\n",
    "##### Оба признака бинарные, оба без пропусков, посмотрим распределение"
   ]
  },
  {
   "cell_type": "code",
   "execution_count": 20,
   "id": "25ed6136",
   "metadata": {
    "execution": {
     "iopub.execute_input": "2022-02-01T18:30:07.124292Z",
     "iopub.status.busy": "2022-02-01T18:30:07.122892Z",
     "iopub.status.idle": "2022-02-01T18:30:07.392435Z",
     "shell.execute_reply": "2022-02-01T18:30:07.391824Z",
     "shell.execute_reply.started": "2022-02-01T18:29:07.877315Z"
    },
    "papermill": {
     "duration": 0.360932,
     "end_time": "2022-02-01T18:30:07.392577",
     "exception": false,
     "start_time": "2022-02-01T18:30:07.031645",
     "status": "completed"
    },
    "tags": []
   },
   "outputs": [
    {
     "data": {
      "text/plain": [
       "<AxesSubplot:xlabel='default', ylabel='count'>"
      ]
     },
     "execution_count": 20,
     "metadata": {},
     "output_type": "execute_result"
    },
    {
     "data": {
      "image/png": "[encoded data removed]",
      "text/plain": [
       "<Figure size 432x288 with 1 Axes>"
      ]
     },
     "metadata": {
      "needs_background": "light"
     },
     "output_type": "display_data"
    }
   ],
   "source": [
    "df_bin.append('car')\n",
    "sns.countplot(x= df['default'],hue = df['car'])"
   ]
  },
  {
   "cell_type": "code",
   "execution_count": 21,
   "id": "00ac5d91",
   "metadata": {
    "execution": {
     "iopub.execute_input": "2022-02-01T18:30:07.565978Z",
     "iopub.status.busy": "2022-02-01T18:30:07.565043Z",
     "iopub.status.idle": "2022-02-01T18:30:07.844508Z",
     "shell.execute_reply": "2022-02-01T18:30:07.844964Z",
     "shell.execute_reply.started": "2022-02-01T18:29:08.167547Z"
    },
    "papermill": {
     "duration": 0.367634,
     "end_time": "2022-02-01T18:30:07.845149",
     "exception": false,
     "start_time": "2022-02-01T18:30:07.477515",
     "status": "completed"
    },
    "tags": []
   },
   "outputs": [
    {
     "data": {
      "text/plain": [
       "<AxesSubplot:xlabel='default', ylabel='count'>"
      ]
     },
     "execution_count": 21,
     "metadata": {},
     "output_type": "execute_result"
    },
    {
     "data": {
      "image/png": "[encoded data removed]",
      "text/plain": [
       "<Figure size 432x288 with 1 Axes>"
      ]
     },
     "metadata": {
      "needs_background": "light"
     },
     "output_type": "display_data"
    }
   ],
   "source": [
    "df_bin.append('car_type')\n",
    "sns.countplot(x= df['default'],hue = df['car_type'])"
   ]
  },
  {
   "cell_type": "markdown",
   "id": "8f4e4dcc",
   "metadata": {
    "papermill": {
     "duration": 0.08544,
     "end_time": "2022-02-01T18:30:08.016779",
     "exception": false,
     "start_time": "2022-02-01T18:30:07.931339",
     "status": "completed"
    },
    "tags": []
   },
   "source": [
    "##### Легко видеть, что клиенты с машиной реже допускают дефолт, клиенты с иномаркой же еще реже."
   ]
  },
  {
   "cell_type": "markdown",
   "id": "4668d70f",
   "metadata": {
    "papermill": {
     "duration": 0.08536,
     "end_time": "2022-02-01T18:30:08.189251",
     "exception": false,
     "start_time": "2022-02-01T18:30:08.103891",
     "status": "completed"
    },
    "tags": []
   },
   "source": [
    "#### 8. decline_app_cnt - количество отказанных прошлых заявок"
   ]
  },
  {
   "cell_type": "code",
   "execution_count": 22,
   "id": "93ad13e8",
   "metadata": {
    "execution": {
     "iopub.execute_input": "2022-02-01T18:30:08.364679Z",
     "iopub.status.busy": "2022-02-01T18:30:08.363715Z",
     "iopub.status.idle": "2022-02-01T18:30:08.942343Z",
     "shell.execute_reply": "2022-02-01T18:30:08.942799Z",
     "shell.execute_reply.started": "2022-02-01T18:29:08.465819Z"
    },
    "papermill": {
     "duration": 0.668293,
     "end_time": "2022-02-01T18:30:08.942971",
     "exception": false,
     "start_time": "2022-02-01T18:30:08.274678",
     "status": "completed"
    },
    "tags": []
   },
   "outputs": [
    {
     "data": {
      "image/png": "[encoded data removed]",
      "text/plain": [
       "<Figure size 432x288 with 1 Axes>"
      ]
     },
     "metadata": {
      "needs_background": "light"
     },
     "output_type": "display_data"
    },
    {
     "data": {
      "image/png": "[encoded data removed]",
      "text/plain": [
       "<Figure size 432x288 with 1 Axes>"
      ]
     },
     "metadata": {
      "needs_background": "light"
     },
     "output_type": "display_data"
    },
    {
     "name": "stdout",
     "output_type": "stream",
     "text": [
      "Всего выбросов: 18677  Минимум: 0.0  Максимум: 0.0\n"
     ]
    },
    {
     "data": {
      "text/plain": [
       "(0.0, 0.0)"
      ]
     },
     "execution_count": 22,
     "metadata": {},
     "output_type": "execute_result"
    }
   ],
   "source": [
    "num_check('decline_app_cnt')"
   ]
  },
  {
   "cell_type": "code",
   "execution_count": 23,
   "id": "f74bafcc",
   "metadata": {
    "execution": {
     "iopub.execute_input": "2022-02-01T18:30:09.125948Z",
     "iopub.status.busy": "2022-02-01T18:30:09.124423Z",
     "iopub.status.idle": "2022-02-01T18:30:09.134270Z",
     "shell.execute_reply": "2022-02-01T18:30:09.134771Z",
     "shell.execute_reply.started": "2022-02-01T18:29:09.060199Z"
    },
    "papermill": {
     "duration": 0.102467,
     "end_time": "2022-02-01T18:30:09.134953",
     "exception": false,
     "start_time": "2022-02-01T18:30:09.032486",
     "status": "completed"
    },
    "tags": []
   },
   "outputs": [
    {
     "data": {
      "text/plain": [
       "count    110148.000000\n",
       "mean          0.273205\n",
       "std           0.799099\n",
       "min           0.000000\n",
       "25%           0.000000\n",
       "50%           0.000000\n",
       "75%           0.000000\n",
       "max          33.000000\n",
       "Name: decline_app_cnt, dtype: float64"
      ]
     },
     "execution_count": 23,
     "metadata": {},
     "output_type": "execute_result"
    }
   ],
   "source": [
    "df.decline_app_cnt.describe()"
   ]
  },
  {
   "cell_type": "code",
   "execution_count": 24,
   "id": "11f347de",
   "metadata": {
    "execution": {
     "iopub.execute_input": "2022-02-01T18:30:09.315314Z",
     "iopub.status.busy": "2022-02-01T18:30:09.314697Z",
     "iopub.status.idle": "2022-02-01T18:30:09.321460Z",
     "shell.execute_reply": "2022-02-01T18:30:09.322054Z",
     "shell.execute_reply.started": "2022-02-01T18:29:09.074319Z"
    },
    "papermill": {
     "duration": 0.097951,
     "end_time": "2022-02-01T18:30:09.322223",
     "exception": false,
     "start_time": "2022-02-01T18:30:09.224272",
     "status": "completed"
    },
    "tags": []
   },
   "outputs": [
    {
     "data": {
      "text/plain": [
       "0     91471\n",
       "1     12500\n",
       "2      3622\n",
       "3      1365\n",
       "4       606\n",
       "5       255\n",
       "6       156\n",
       "7        58\n",
       "8        37\n",
       "9        29\n",
       "10       16\n",
       "11       10\n",
       "12        5\n",
       "13        4\n",
       "14        3\n",
       "16        3\n",
       "15        1\n",
       "19        1\n",
       "20        1\n",
       "21        1\n",
       "22        1\n",
       "24        1\n",
       "30        1\n",
       "33        1\n",
       "Name: decline_app_cnt, dtype: int64"
      ]
     },
     "execution_count": 24,
     "metadata": {},
     "output_type": "execute_result"
    }
   ],
   "source": [
    "df.decline_app_cnt.value_counts()"
   ]
  },
  {
   "cell_type": "markdown",
   "id": "2efb5b34",
   "metadata": {
    "papermill": {
     "duration": 0.088797,
     "end_time": "2022-02-01T18:30:09.499985",
     "exception": false,
     "start_time": "2022-02-01T18:30:09.411188",
     "status": "completed"
    },
    "tags": []
   },
   "source": [
    "##### Из-за того, что подавляющее большинство клиентов не получало отказ, все больше нуля считается выбросом, удалять выбросы в данном случае плохая идея, так как мы потеряем много данных, лучшим решением мне кажется поделить кол-во отказов на группы: 0 отказов, 1 отказ и 2 или более отказов."
   ]
  },
  {
   "cell_type": "code",
   "execution_count": 25,
   "id": "e944ede1",
   "metadata": {
    "execution": {
     "iopub.execute_input": "2022-02-01T18:30:09.679212Z",
     "iopub.status.busy": "2022-02-01T18:30:09.678557Z",
     "iopub.status.idle": "2022-02-01T18:30:09.753046Z",
     "shell.execute_reply": "2022-02-01T18:30:09.753539Z",
     "shell.execute_reply.started": "2022-02-01T18:29:09.084059Z"
    },
    "papermill": {
     "duration": 0.16568,
     "end_time": "2022-02-01T18:30:09.753721",
     "exception": false,
     "start_time": "2022-02-01T18:30:09.588041",
     "status": "completed"
    },
    "tags": []
   },
   "outputs": [],
   "source": [
    "def decline_app_cnt_to_cat(row):\n",
    "    if row == 1:\n",
    "        return 1\n",
    "    else:\n",
    "        return 2\n",
    "df['decline_app_cnt'] = df['decline_app_cnt'].apply(lambda x: 0 if x == 0 else decline_app_cnt_to_cat(x))"
   ]
  },
  {
   "cell_type": "code",
   "execution_count": 26,
   "id": "6ae60080",
   "metadata": {
    "execution": {
     "iopub.execute_input": "2022-02-01T18:30:09.932854Z",
     "iopub.status.busy": "2022-02-01T18:30:09.932240Z",
     "iopub.status.idle": "2022-02-01T18:30:09.938652Z",
     "shell.execute_reply": "2022-02-01T18:30:09.939247Z",
     "shell.execute_reply.started": "2022-02-01T18:29:09.164677Z"
    },
    "papermill": {
     "duration": 0.097601,
     "end_time": "2022-02-01T18:30:09.939414",
     "exception": false,
     "start_time": "2022-02-01T18:30:09.841813",
     "status": "completed"
    },
    "tags": []
   },
   "outputs": [
    {
     "data": {
      "text/plain": [
       "0    91471\n",
       "1    12500\n",
       "2     6177\n",
       "Name: decline_app_cnt, dtype: int64"
      ]
     },
     "execution_count": 26,
     "metadata": {},
     "output_type": "execute_result"
    }
   ],
   "source": [
    "df['decline_app_cnt'].value_counts()"
   ]
  },
  {
   "cell_type": "code",
   "execution_count": 27,
   "id": "0e66a5fa",
   "metadata": {
    "execution": {
     "iopub.execute_input": "2022-02-01T18:30:10.143956Z",
     "iopub.status.busy": "2022-02-01T18:30:10.143336Z",
     "iopub.status.idle": "2022-02-01T18:30:10.146602Z",
     "shell.execute_reply": "2022-02-01T18:30:10.147223Z",
     "shell.execute_reply.started": "2022-02-01T18:29:09.174228Z"
    },
    "papermill": {
     "duration": 0.114358,
     "end_time": "2022-02-01T18:30:10.147391",
     "exception": false,
     "start_time": "2022-02-01T18:30:10.033033",
     "status": "completed"
    },
    "tags": []
   },
   "outputs": [],
   "source": [
    "df_cat.append('decline_app_cnt')"
   ]
  },
  {
   "cell_type": "markdown",
   "id": "3dbf039f",
   "metadata": {
    "papermill": {
     "duration": 0.08804,
     "end_time": "2022-02-01T18:30:10.323996",
     "exception": false,
     "start_time": "2022-02-01T18:30:10.235956",
     "status": "completed"
    },
    "tags": []
   },
   "source": [
    "#### 9. good_work - флаг наличия “хорошей” работы\n",
    "##### Бинарный признак, пропусков нет, посмотрим распределение"
   ]
  },
  {
   "cell_type": "code",
   "execution_count": 28,
   "id": "3e627f76",
   "metadata": {
    "execution": {
     "iopub.execute_input": "2022-02-01T18:30:10.507589Z",
     "iopub.status.busy": "2022-02-01T18:30:10.506648Z",
     "iopub.status.idle": "2022-02-01T18:30:10.723450Z",
     "shell.execute_reply": "2022-02-01T18:30:10.722786Z",
     "shell.execute_reply.started": "2022-02-01T18:29:09.186760Z"
    },
    "papermill": {
     "duration": 0.310837,
     "end_time": "2022-02-01T18:30:10.723594",
     "exception": false,
     "start_time": "2022-02-01T18:30:10.412757",
     "status": "completed"
    },
    "tags": []
   },
   "outputs": [
    {
     "data": {
      "text/plain": [
       "<AxesSubplot:xlabel='default', ylabel='count'>"
      ]
     },
     "execution_count": 28,
     "metadata": {},
     "output_type": "execute_result"
    },
    {
     "data": {
      "image/png": "[encoded data removed]",
      "text/plain": [
       "<Figure size 432x288 with 1 Axes>"
      ]
     },
     "metadata": {
      "needs_background": "light"
     },
     "output_type": "display_data"
    }
   ],
   "source": [
    "df_bin.append('good_work')\n",
    "sns.countplot(x= df['default'],hue = df['good_work'])"
   ]
  },
  {
   "cell_type": "code",
   "execution_count": 29,
   "id": "1cee86c5",
   "metadata": {
    "execution": {
     "iopub.execute_input": "2022-02-01T18:30:10.906696Z",
     "iopub.status.busy": "2022-02-01T18:30:10.905912Z",
     "iopub.status.idle": "2022-02-01T18:30:10.926840Z",
     "shell.execute_reply": "2022-02-01T18:30:10.926346Z",
     "shell.execute_reply.started": "2022-02-01T18:29:09.424176Z"
    },
    "papermill": {
     "duration": 0.113509,
     "end_time": "2022-02-01T18:30:10.926990",
     "exception": false,
     "start_time": "2022-02-01T18:30:10.813481",
     "status": "completed"
    },
    "tags": []
   },
   "outputs": [
    {
     "data": {
      "text/plain": [
       "good_work  default\n",
       "0          0.0        0.866591\n",
       "           1.0        0.133409\n",
       "1          0.0        0.905498\n",
       "           1.0        0.094502\n",
       "Name: default, dtype: float64"
      ]
     },
     "execution_count": 29,
     "metadata": {},
     "output_type": "execute_result"
    }
   ],
   "source": [
    "df.groupby('good_work').default.value_counts(normalize = True)"
   ]
  },
  {
   "cell_type": "markdown",
   "id": "d06bb025",
   "metadata": {
    "papermill": {
     "duration": 0.090921,
     "end_time": "2022-02-01T18:30:11.108684",
     "exception": false,
     "start_time": "2022-02-01T18:30:11.017763",
     "status": "completed"
    },
    "tags": []
   },
   "source": [
    "##### Можно увидеть, что люди у которых значение good work равно 1, реже оказываются в ситуации дефолта"
   ]
  },
  {
   "cell_type": "markdown",
   "id": "00de25d0",
   "metadata": {
    "papermill": {
     "duration": 0.0897,
     "end_time": "2022-02-01T18:30:11.289192",
     "exception": false,
     "start_time": "2022-02-01T18:30:11.199492",
     "status": "completed"
    },
    "tags": []
   },
   "source": [
    "#### 10. score_bki - скоринговый балл по данным из БКИ\n",
    "##### Числовой признак без пропусков"
   ]
  },
  {
   "cell_type": "code",
   "execution_count": 30,
   "id": "b7e924da",
   "metadata": {
    "execution": {
     "iopub.execute_input": "2022-02-01T18:30:11.625369Z",
     "iopub.status.busy": "2022-02-01T18:30:11.473695Z",
     "iopub.status.idle": "2022-02-01T18:30:12.203104Z",
     "shell.execute_reply": "2022-02-01T18:30:12.203657Z",
     "shell.execute_reply.started": "2022-02-01T18:29:09.446342Z"
    },
    "papermill": {
     "duration": 0.825161,
     "end_time": "2022-02-01T18:30:12.203827",
     "exception": false,
     "start_time": "2022-02-01T18:30:11.378666",
     "status": "completed"
    },
    "tags": []
   },
   "outputs": [
    {
     "data": {
      "image/png": "[encoded data removed]",
      "text/plain": [
       "<Figure size 432x288 with 1 Axes>"
      ]
     },
     "metadata": {
      "needs_background": "light"
     },
     "output_type": "display_data"
    },
    {
     "data": {
      "image/png": "[encoded data removed]",
      "text/plain": [
       "<Figure size 432x288 with 1 Axes>"
      ]
     },
     "metadata": {
      "needs_background": "light"
     },
     "output_type": "display_data"
    },
    {
     "name": "stdout",
     "output_type": "stream",
     "text": [
      "Всего выбросов: 518  Минимум: -3.299251946250001  Максимум: -0.5290698762499992\n"
     ]
    }
   ],
   "source": [
    "df_min,df_max = num_check('score_bki') "
   ]
  },
  {
   "cell_type": "markdown",
   "id": "e3b37ad4",
   "metadata": {
    "papermill": {
     "duration": 0.09124,
     "end_time": "2022-02-01T18:30:12.386928",
     "exception": false,
     "start_time": "2022-02-01T18:30:12.295688",
     "status": "completed"
    },
    "tags": []
   },
   "source": [
    "##### Всего 518 выбросов, с числовыми значениями проще всего будет их удалить\n",
    "###### Нам так же не стоит удалять ничего из df_test части, будем учитывать это"
   ]
  },
  {
   "cell_type": "code",
   "execution_count": 31,
   "id": "b9884942",
   "metadata": {
    "execution": {
     "iopub.execute_input": "2022-02-01T18:30:12.574122Z",
     "iopub.status.busy": "2022-02-01T18:30:12.573162Z",
     "iopub.status.idle": "2022-02-01T18:30:12.599763Z",
     "shell.execute_reply": "2022-02-01T18:30:12.600262Z",
     "shell.execute_reply.started": "2022-02-01T18:29:10.053246Z"
    },
    "papermill": {
     "duration": 0.122114,
     "end_time": "2022-02-01T18:30:12.600450",
     "exception": false,
     "start_time": "2022-02-01T18:30:12.478336",
     "status": "completed"
    },
    "tags": []
   },
   "outputs": [],
   "source": [
    "df = df[((df['score_bki'] <= df_max) & (df['score_bki'] >= df_min) & (df['default'].isna() == False)) | (df['default'].isna() == True)]"
   ]
  },
  {
   "cell_type": "code",
   "execution_count": 32,
   "id": "731946b4",
   "metadata": {
    "execution": {
     "iopub.execute_input": "2022-02-01T18:30:12.787513Z",
     "iopub.status.busy": "2022-02-01T18:30:12.786510Z",
     "iopub.status.idle": "2022-02-01T18:30:12.789942Z",
     "shell.execute_reply": "2022-02-01T18:30:12.790424Z",
     "shell.execute_reply.started": "2022-02-01T18:29:10.079225Z"
    },
    "papermill": {
     "duration": 0.098761,
     "end_time": "2022-02-01T18:30:12.790599",
     "exception": false,
     "start_time": "2022-02-01T18:30:12.691838",
     "status": "completed"
    },
    "tags": []
   },
   "outputs": [],
   "source": [
    "df_num.append('score_bki')"
   ]
  },
  {
   "cell_type": "markdown",
   "id": "fb773fa1",
   "metadata": {
    "execution": {
     "iopub.execute_input": "2022-02-01T11:09:27.710423Z",
     "iopub.status.busy": "2022-02-01T11:09:27.710147Z",
     "iopub.status.idle": "2022-02-01T11:09:27.716173Z",
     "shell.execute_reply": "2022-02-01T11:09:27.715569Z",
     "shell.execute_reply.started": "2022-02-01T11:09:27.710395Z"
    },
    "papermill": {
     "duration": 0.092253,
     "end_time": "2022-02-01T18:30:12.975389",
     "exception": false,
     "start_time": "2022-02-01T18:30:12.883136",
     "status": "completed"
    },
    "tags": []
   },
   "source": [
    "#### 11. bki_request_cnt - количество запросов в БКИ\n",
    "##### Еще один числовой признак без пропусков, но с выбросами"
   ]
  },
  {
   "cell_type": "code",
   "execution_count": 33,
   "id": "a22610e2",
   "metadata": {
    "execution": {
     "iopub.execute_input": "2022-02-01T18:30:13.167264Z",
     "iopub.status.busy": "2022-02-01T18:30:13.166249Z",
     "iopub.status.idle": "2022-02-01T18:30:13.721464Z",
     "shell.execute_reply": "2022-02-01T18:30:13.720746Z",
     "shell.execute_reply.started": "2022-02-01T18:29:10.086111Z"
    },
    "papermill": {
     "duration": 0.653114,
     "end_time": "2022-02-01T18:30:13.721654",
     "exception": false,
     "start_time": "2022-02-01T18:30:13.068540",
     "status": "completed"
    },
    "tags": []
   },
   "outputs": [
    {
     "data": {
      "image/png": "[encoded data removed]",
      "text/plain": [
       "<Figure size 432x288 with 1 Axes>"
      ]
     },
     "metadata": {
      "needs_background": "light"
     },
     "output_type": "display_data"
    },
    {
     "data": {
      "image/png": "[encoded data removed]",
      "text/plain": [
       "<Figure size 432x288 with 1 Axes>"
      ]
     },
     "metadata": {
      "needs_background": "light"
     },
     "output_type": "display_data"
    },
    {
     "name": "stdout",
     "output_type": "stream",
     "text": [
      "Всего выбросов: 2591  Минимум: -4.5  Максимум: 7.5\n"
     ]
    },
    {
     "data": {
      "text/plain": [
       "(-4.5, 7.5)"
      ]
     },
     "execution_count": 33,
     "metadata": {},
     "output_type": "execute_result"
    }
   ],
   "source": [
    "num_check('bki_request_cnt') "
   ]
  },
  {
   "cell_type": "markdown",
   "id": "29e0aa3a",
   "metadata": {
    "papermill": {
     "duration": 0.094572,
     "end_time": "2022-02-01T18:30:13.910787",
     "exception": false,
     "start_time": "2022-02-01T18:30:13.816215",
     "status": "completed"
    },
    "tags": []
   },
   "source": [
    "##### Выбросов тут уже несколько больше, попробуем прологарифмировать"
   ]
  },
  {
   "cell_type": "code",
   "execution_count": 34,
   "id": "e741b145",
   "metadata": {
    "execution": {
     "iopub.execute_input": "2022-02-01T18:30:14.105196Z",
     "iopub.status.busy": "2022-02-01T18:30:14.104494Z",
     "iopub.status.idle": "2022-02-01T18:30:14.686641Z",
     "shell.execute_reply": "2022-02-01T18:30:14.688135Z",
     "shell.execute_reply.started": "2022-02-01T18:29:10.678086Z"
    },
    "papermill": {
     "duration": 0.681562,
     "end_time": "2022-02-01T18:30:14.688418",
     "exception": false,
     "start_time": "2022-02-01T18:30:14.006856",
     "status": "completed"
    },
    "tags": []
   },
   "outputs": [
    {
     "data": {
      "image/png": "[encoded data removed]",
      "text/plain": [
       "<Figure size 432x288 with 1 Axes>"
      ]
     },
     "metadata": {
      "needs_background": "light"
     },
     "output_type": "display_data"
    },
    {
     "data": {
      "image/png": "[encoded data removed]",
      "text/plain": [
       "<Figure size 432x288 with 1 Axes>"
      ]
     },
     "metadata": {
      "needs_background": "light"
     },
     "output_type": "display_data"
    },
    {
     "name": "stdout",
     "output_type": "stream",
     "text": [
      "Всего выбросов: 12  Минимум: -2.0794415416798357  Максимум: 3.465735902799726\n"
     ]
    }
   ],
   "source": [
    "df['bki_request_cnt_log'] = np.log(df['bki_request_cnt'] + 1)\n",
    "df_min, df_max = num_check('bki_request_cnt_log') "
   ]
  },
  {
   "cell_type": "markdown",
   "id": "a209315d",
   "metadata": {
    "execution": {
     "iopub.execute_input": "2022-02-01T11:24:21.885091Z",
     "iopub.status.busy": "2022-02-01T11:24:21.884666Z",
     "iopub.status.idle": "2022-02-01T11:24:21.888353Z",
     "shell.execute_reply": "2022-02-01T11:24:21.887654Z",
     "shell.execute_reply.started": "2022-02-01T11:24:21.885052Z"
    },
    "papermill": {
     "duration": 0.098134,
     "end_time": "2022-02-01T18:30:14.882865",
     "exception": false,
     "start_time": "2022-02-01T18:30:14.784731",
     "status": "completed"
    },
    "tags": []
   },
   "source": [
    "##### После логарифмирования заметно улучшение, удалим оставшиеся выбросы и изначальный признак"
   ]
  },
  {
   "cell_type": "code",
   "execution_count": 35,
   "id": "f5cef4df",
   "metadata": {
    "execution": {
     "iopub.execute_input": "2022-02-01T18:30:15.084863Z",
     "iopub.status.busy": "2022-02-01T18:30:15.083734Z",
     "iopub.status.idle": "2022-02-01T18:30:15.105774Z",
     "shell.execute_reply": "2022-02-01T18:30:15.105167Z",
     "shell.execute_reply.started": "2022-02-01T18:29:11.294695Z"
    },
    "papermill": {
     "duration": 0.124933,
     "end_time": "2022-02-01T18:30:15.105934",
     "exception": false,
     "start_time": "2022-02-01T18:30:14.981001",
     "status": "completed"
    },
    "tags": []
   },
   "outputs": [],
   "source": [
    "df = df[((df['bki_request_cnt_log'] <= df_max) & (df['bki_request_cnt_log'] >= df_min) & (df['default'].isna() == False)) | (df['default'].isna() == True)]\n",
    "df=df.drop('bki_request_cnt', axis = 1)"
   ]
  },
  {
   "cell_type": "code",
   "execution_count": 36,
   "id": "e0a63cff",
   "metadata": {
    "execution": {
     "iopub.execute_input": "2022-02-01T18:30:15.301775Z",
     "iopub.status.busy": "2022-02-01T18:30:15.300816Z",
     "iopub.status.idle": "2022-02-01T18:30:15.303690Z",
     "shell.execute_reply": "2022-02-01T18:30:15.303193Z",
     "shell.execute_reply.started": "2022-02-01T18:29:11.324961Z"
    },
    "papermill": {
     "duration": 0.102265,
     "end_time": "2022-02-01T18:30:15.303816",
     "exception": false,
     "start_time": "2022-02-01T18:30:15.201551",
     "status": "completed"
    },
    "tags": []
   },
   "outputs": [],
   "source": [
    "df_num.append('bki_request_cnt_log')"
   ]
  },
  {
   "cell_type": "markdown",
   "id": "5f3cafcd",
   "metadata": {
    "papermill": {
     "duration": 0.094416,
     "end_time": "2022-02-01T18:30:15.493664",
     "exception": false,
     "start_time": "2022-02-01T18:30:15.399248",
     "status": "completed"
    },
    "tags": []
   },
   "source": [
    "#### 12. region_rating - рейтинг региона\n",
    "##### В теории числовой признак, но уникальных значений всего 7, да и не совсем понятно как этот рейтинг зачисляется и какая является ли разница между 60 и 70ю баллами, той же что и у 10 и 20 баллов. Рациональнее всего было бы поставить признак как категориальный."
   ]
  },
  {
   "cell_type": "code",
   "execution_count": 37,
   "id": "76eb8beb",
   "metadata": {
    "execution": {
     "iopub.execute_input": "2022-02-01T18:30:15.690279Z",
     "iopub.status.busy": "2022-02-01T18:30:15.689184Z",
     "iopub.status.idle": "2022-02-01T18:30:15.975753Z",
     "shell.execute_reply": "2022-02-01T18:30:15.975223Z",
     "shell.execute_reply.started": "2022-02-01T18:29:11.331250Z"
    },
    "papermill": {
     "duration": 0.387221,
     "end_time": "2022-02-01T18:30:15.975889",
     "exception": false,
     "start_time": "2022-02-01T18:30:15.588668",
     "status": "completed"
    },
    "tags": []
   },
   "outputs": [
    {
     "data": {
      "text/plain": [
       "<AxesSubplot:xlabel='default', ylabel='count'>"
      ]
     },
     "execution_count": 37,
     "metadata": {},
     "output_type": "execute_result"
    },
    {
     "data": {
      "image/png": "[encoded data removed]",
      "text/plain": [
       "<Figure size 432x288 with 1 Axes>"
      ]
     },
     "metadata": {
      "needs_background": "light"
     },
     "output_type": "display_data"
    }
   ],
   "source": [
    "df_cat.append('region_rating')\n",
    "sns.countplot(x= df['default'],hue = df['region_rating'])"
   ]
  },
  {
   "cell_type": "code",
   "execution_count": 38,
   "id": "4a75dea6",
   "metadata": {
    "execution": {
     "iopub.execute_input": "2022-02-01T18:30:16.177548Z",
     "iopub.status.busy": "2022-02-01T18:30:16.176410Z",
     "iopub.status.idle": "2022-02-01T18:30:16.263912Z",
     "shell.execute_reply": "2022-02-01T18:30:16.263285Z",
     "shell.execute_reply.started": "2022-02-01T18:29:12.401021Z"
    },
    "papermill": {
     "duration": 0.191105,
     "end_time": "2022-02-01T18:30:16.264085",
     "exception": false,
     "start_time": "2022-02-01T18:30:16.072980",
     "status": "completed"
    },
    "tags": []
   },
   "outputs": [],
   "source": [
    "df.groupby('region_rating').default.value_counts(normalize = True)\n",
    "df['region_rating'] = df['region_rating'].apply(lambda x: 40 if x<=40 else x)"
   ]
  },
  {
   "cell_type": "markdown",
   "id": "70f6ec58",
   "metadata": {
    "papermill": {
     "duration": 0.096529,
     "end_time": "2022-02-01T18:30:16.457659",
     "exception": false,
     "start_time": "2022-02-01T18:30:16.361130",
     "status": "completed"
    },
    "tags": []
   },
   "source": [
    "##### Легко видеть, что чем хуже район, тем выше шанс дефолта\n",
    "\n",
    "#### 13. home_address - категоризатор домашнего адреса  \n",
    "#### 14. work_address - категоризатор рабочего адреса\n",
    "##### Оба признака категориальные с тремя значениями, без пропусков."
   ]
  },
  {
   "cell_type": "code",
   "execution_count": 39,
   "id": "c8f4f5c6",
   "metadata": {
    "execution": {
     "iopub.execute_input": "2022-02-01T18:30:16.657084Z",
     "iopub.status.busy": "2022-02-01T18:30:16.656386Z",
     "iopub.status.idle": "2022-02-01T18:30:16.913789Z",
     "shell.execute_reply": "2022-02-01T18:30:16.914291Z",
     "shell.execute_reply.started": "2022-02-01T18:29:12.494610Z"
    },
    "papermill": {
     "duration": 0.360139,
     "end_time": "2022-02-01T18:30:16.914456",
     "exception": false,
     "start_time": "2022-02-01T18:30:16.554317",
     "status": "completed"
    },
    "tags": []
   },
   "outputs": [
    {
     "data": {
      "text/plain": [
       "home_address  default\n",
       "1             0.0        0.907685\n",
       "              1.0        0.092315\n",
       "2             0.0        0.845997\n",
       "              1.0        0.154003\n",
       "3             0.0        0.883480\n",
       "              1.0        0.116520\n",
       "Name: default, dtype: float64"
      ]
     },
     "execution_count": 39,
     "metadata": {},
     "output_type": "execute_result"
    },
    {
     "data": {
      "image/png": "[encoded data removed]",
      "text/plain": [
       "<Figure size 432x288 with 1 Axes>"
      ]
     },
     "metadata": {
      "needs_background": "light"
     },
     "output_type": "display_data"
    }
   ],
   "source": [
    "df_cat.append('home_address')\n",
    "sns.countplot(x= df['default'],hue = df['home_address'])\n",
    "df.groupby('home_address').default.value_counts(normalize = True)"
   ]
  },
  {
   "cell_type": "code",
   "execution_count": 40,
   "id": "4d666e84",
   "metadata": {
    "execution": {
     "iopub.execute_input": "2022-02-01T18:30:17.123994Z",
     "iopub.status.busy": "2022-02-01T18:30:17.123354Z",
     "iopub.status.idle": "2022-02-01T18:30:17.383846Z",
     "shell.execute_reply": "2022-02-01T18:30:17.383360Z",
     "shell.execute_reply.started": "2022-02-01T18:29:12.780084Z"
    },
    "papermill": {
     "duration": 0.365847,
     "end_time": "2022-02-01T18:30:17.383985",
     "exception": false,
     "start_time": "2022-02-01T18:30:17.018138",
     "status": "completed"
    },
    "tags": []
   },
   "outputs": [
    {
     "data": {
      "text/plain": [
       "work_address  default\n",
       "1             0.0        0.926350\n",
       "              1.0        0.073650\n",
       "2             0.0        0.898140\n",
       "              1.0        0.101860\n",
       "3             0.0        0.853087\n",
       "              1.0        0.146913\n",
       "Name: default, dtype: float64"
      ]
     },
     "execution_count": 40,
     "metadata": {},
     "output_type": "execute_result"
    },
    {
     "data": {
      "image/png": "[encoded data removed]",
      "text/plain": [
       "<Figure size 432x288 with 1 Axes>"
      ]
     },
     "metadata": {
      "needs_background": "light"
     },
     "output_type": "display_data"
    }
   ],
   "source": [
    "df_cat.append('work_address')\n",
    "sns.countplot(x= df['default'],hue = df['work_address'])\n",
    "df.groupby('work_address').default.value_counts(normalize = True)"
   ]
  },
  {
   "cell_type": "markdown",
   "id": "1a816205",
   "metadata": {
    "papermill": {
     "duration": 0.098113,
     "end_time": "2022-02-01T18:30:17.580738",
     "exception": false,
     "start_time": "2022-02-01T18:30:17.482625",
     "status": "completed"
    },
    "tags": []
   },
   "source": [
    "##### Не совсем понятно, что признаки означают, третье значение рабочего адреса и второе значение домашнего адреса показывают лучшие результаты.\n",
    "\n",
    "#### 15.income - доход заемщика\n",
    "##### Очередной числовой признак с большим колличеством выбросов, без пропусков."
   ]
  },
  {
   "cell_type": "code",
   "execution_count": 41,
   "id": "b4dea761",
   "metadata": {
    "execution": {
     "iopub.execute_input": "2022-02-01T18:30:17.783856Z",
     "iopub.status.busy": "2022-02-01T18:30:17.783243Z",
     "iopub.status.idle": "2022-02-01T18:30:18.355673Z",
     "shell.execute_reply": "2022-02-01T18:30:18.356245Z",
     "shell.execute_reply.started": "2022-02-01T18:29:13.075271Z"
    },
    "papermill": {
     "duration": 0.677425,
     "end_time": "2022-02-01T18:30:18.356427",
     "exception": false,
     "start_time": "2022-02-01T18:30:17.679002",
     "status": "completed"
    },
    "tags": []
   },
   "outputs": [
    {
     "data": {
      "image/png": "[encoded data removed]",
      "text/plain": [
       "<Figure size 432x288 with 1 Axes>"
      ]
     },
     "metadata": {
      "needs_background": "light"
     },
     "output_type": "display_data"
    },
    {
     "data": {
      "image/png": "[encoded data removed]",
      "text/plain": [
       "<Figure size 432x288 with 1 Axes>"
      ]
     },
     "metadata": {
      "needs_background": "light"
     },
     "output_type": "display_data"
    },
    {
     "name": "stdout",
     "output_type": "stream",
     "text": [
      "Всего выбросов: 6968  Минимум: -22000.0  Максимум: 90000.0\n"
     ]
    }
   ],
   "source": [
    "df_min, df_max = num_check('income') "
   ]
  },
  {
   "cell_type": "markdown",
   "id": "035279e5",
   "metadata": {
    "papermill": {
     "duration": 0.100414,
     "end_time": "2022-02-01T18:30:18.558825",
     "exception": false,
     "start_time": "2022-02-01T18:30:18.458411",
     "status": "completed"
    },
    "tags": []
   },
   "source": [
    "##### Выбросов очень много, вновь попробуем прологарифмировать"
   ]
  },
  {
   "cell_type": "code",
   "execution_count": 42,
   "id": "4eeced04",
   "metadata": {
    "execution": {
     "iopub.execute_input": "2022-02-01T18:30:18.764750Z",
     "iopub.status.busy": "2022-02-01T18:30:18.763700Z",
     "iopub.status.idle": "2022-02-01T18:30:19.487761Z",
     "shell.execute_reply": "2022-02-01T18:30:19.488527Z",
     "shell.execute_reply.started": "2022-02-01T18:29:13.698178Z"
    },
    "papermill": {
     "duration": 0.828691,
     "end_time": "2022-02-01T18:30:19.488752",
     "exception": false,
     "start_time": "2022-02-01T18:30:18.660061",
     "status": "completed"
    },
    "tags": []
   },
   "outputs": [
    {
     "data": {
      "image/png": "[encoded data removed]",
      "text/plain": [
       "<Figure size 432x288 with 1 Axes>"
      ]
     },
     "metadata": {
      "needs_background": "light"
     },
     "output_type": "display_data"
    },
    {
     "data": {
      "image/png": "[encoded data removed]",
      "text/plain": [
       "<Figure size 432x288 with 1 Axes>"
      ]
     },
     "metadata": {
      "needs_background": "light"
     },
     "output_type": "display_data"
    },
    {
     "name": "stdout",
     "output_type": "stream",
     "text": [
      "Всего выбросов: 2593  Минимум: 8.590378193705899  Максимум: 12.092136480586621\n"
     ]
    }
   ],
   "source": [
    "df['income_log'] = np.log(df['income'] + 1)\n",
    "df_min,df_max = num_check('income_log')"
   ]
  },
  {
   "cell_type": "markdown",
   "id": "422b8dfd",
   "metadata": {
    "papermill": {
     "duration": 0.101606,
     "end_time": "2022-02-01T18:30:19.693142",
     "exception": false,
     "start_time": "2022-02-01T18:30:19.591536",
     "status": "completed"
    },
    "tags": []
   },
   "source": [
    "##### Колличество выбросов, заметно уменьшилось, заменим признак его логарифмированной версией."
   ]
  },
  {
   "cell_type": "code",
   "execution_count": 43,
   "id": "86a6503f",
   "metadata": {
    "execution": {
     "iopub.execute_input": "2022-02-01T18:30:19.900527Z",
     "iopub.status.busy": "2022-02-01T18:30:19.899890Z",
     "iopub.status.idle": "2022-02-01T18:30:19.928300Z",
     "shell.execute_reply": "2022-02-01T18:30:19.928920Z",
     "shell.execute_reply.started": "2022-02-01T18:29:14.316586Z"
    },
    "papermill": {
     "duration": 0.134272,
     "end_time": "2022-02-01T18:30:19.929164",
     "exception": false,
     "start_time": "2022-02-01T18:30:19.794892",
     "status": "completed"
    },
    "tags": []
   },
   "outputs": [],
   "source": [
    "df = df.drop('income', axis = 1)\n",
    "df_num.append('income_log')\n",
    "df = df[((df['income_log'] <= df_max) & (df['income_log'] >= df_min) & (df['default'].isna() == False)) | (df['default'].isna() == True)]"
   ]
  },
  {
   "cell_type": "markdown",
   "id": "ea3e65f5",
   "metadata": {
    "papermill": {
     "duration": 0.102738,
     "end_time": "2022-02-01T18:30:20.137816",
     "exception": false,
     "start_time": "2022-02-01T18:30:20.035078",
     "status": "completed"
    },
    "tags": []
   },
   "source": [
    "#### 16.sna - связь заемщика с клиентами банка\n",
    "#### 17.first_time - давность наличия информации о заемщике\n",
    "##### Оба признака категориальные и имеют 4 категории, без пропусков."
   ]
  },
  {
   "cell_type": "code",
   "execution_count": 44,
   "id": "69926508",
   "metadata": {
    "execution": {
     "iopub.execute_input": "2022-02-01T18:30:20.344972Z",
     "iopub.status.busy": "2022-02-01T18:30:20.344343Z",
     "iopub.status.idle": "2022-02-01T18:30:20.619113Z",
     "shell.execute_reply": "2022-02-01T18:30:20.619608Z",
     "shell.execute_reply.started": "2022-02-01T18:29:14.343455Z"
    },
    "papermill": {
     "duration": 0.380215,
     "end_time": "2022-02-01T18:30:20.619773",
     "exception": false,
     "start_time": "2022-02-01T18:30:20.239558",
     "status": "completed"
    },
    "tags": []
   },
   "outputs": [
    {
     "data": {
      "text/plain": [
       "sna  default\n",
       "1    0.0        0.902021\n",
       "     1.0        0.097979\n",
       "2    0.0        0.850676\n",
       "     1.0        0.149324\n",
       "3    0.0        0.842655\n",
       "     1.0        0.157345\n",
       "4    0.0        0.789611\n",
       "     1.0        0.210389\n",
       "Name: default, dtype: float64"
      ]
     },
     "execution_count": 44,
     "metadata": {},
     "output_type": "execute_result"
    },
    {
     "data": {
      "image/png": "[encoded data removed]",
      "text/plain": [
       "<Figure size 432x288 with 1 Axes>"
      ]
     },
     "metadata": {
      "needs_background": "light"
     },
     "output_type": "display_data"
    }
   ],
   "source": [
    "sns.countplot(x= df['default'],hue = df['sna'])\n",
    "df.groupby('sna').default.value_counts(normalize = True)"
   ]
  },
  {
   "cell_type": "code",
   "execution_count": 45,
   "id": "71fbcc00",
   "metadata": {
    "execution": {
     "iopub.execute_input": "2022-02-01T18:30:20.830707Z",
     "iopub.status.busy": "2022-02-01T18:30:20.828577Z",
     "iopub.status.idle": "2022-02-01T18:30:21.108655Z",
     "shell.execute_reply": "2022-02-01T18:30:21.107957Z",
     "shell.execute_reply.started": "2022-02-01T18:29:14.633038Z"
    },
    "papermill": {
     "duration": 0.386025,
     "end_time": "2022-02-01T18:30:21.108806",
     "exception": false,
     "start_time": "2022-02-01T18:30:20.722781",
     "status": "completed"
    },
    "tags": []
   },
   "outputs": [
    {
     "data": {
      "text/plain": [
       "first_time  default\n",
       "1           0.0        0.814077\n",
       "            1.0        0.185923\n",
       "2           0.0        0.844466\n",
       "            1.0        0.155534\n",
       "3           0.0        0.880198\n",
       "            1.0        0.119802\n",
       "4           0.0        0.918790\n",
       "            1.0        0.081210\n",
       "Name: default, dtype: float64"
      ]
     },
     "execution_count": 45,
     "metadata": {},
     "output_type": "execute_result"
    },
    {
     "data": {
      "image/png": "[encoded data removed]",
      "text/plain": [
       "<Figure size 432x288 with 1 Axes>"
      ]
     },
     "metadata": {
      "needs_background": "light"
     },
     "output_type": "display_data"
    }
   ],
   "source": [
    "sns.countplot(x= df['default'],hue = df['first_time'])\n",
    "df.groupby('first_time').default.value_counts(normalize = True)"
   ]
  },
  {
   "cell_type": "code",
   "execution_count": 46,
   "id": "9a19e9a3",
   "metadata": {
    "execution": {
     "iopub.execute_input": "2022-02-01T18:30:21.321411Z",
     "iopub.status.busy": "2022-02-01T18:30:21.320428Z",
     "iopub.status.idle": "2022-02-01T18:30:21.324701Z",
     "shell.execute_reply": "2022-02-01T18:30:21.324121Z",
     "shell.execute_reply.started": "2022-02-01T18:29:14.902899Z"
    },
    "papermill": {
     "duration": 0.110763,
     "end_time": "2022-02-01T18:30:21.324836",
     "exception": false,
     "start_time": "2022-02-01T18:30:21.214073",
     "status": "completed"
    },
    "tags": []
   },
   "outputs": [],
   "source": [
    "df_cat.append('sna')\n",
    "df_cat.append('first_time')"
   ]
  },
  {
   "cell_type": "markdown",
   "id": "701f0771",
   "metadata": {
    "papermill": {
     "duration": 0.103492,
     "end_time": "2022-02-01T18:30:21.532456",
     "exception": false,
     "start_time": "2022-02-01T18:30:21.428964",
     "status": "completed"
    },
    "tags": []
   },
   "source": [
    "##### В sna, чем \"выше\" категория тем выше шанс дефолта. В first_time наоборот, чем \"выше\" категория тем меньше шанс. \n",
    "\n",
    "#### 18. foreign_passport - наличие загранпаспорта\n",
    "##### Бинарный признак без пропусков"
   ]
  },
  {
   "cell_type": "code",
   "execution_count": 47,
   "id": "8ba00d5d",
   "metadata": {
    "execution": {
     "iopub.execute_input": "2022-02-01T18:30:21.743933Z",
     "iopub.status.busy": "2022-02-01T18:30:21.742949Z",
     "iopub.status.idle": "2022-02-01T18:30:21.746592Z",
     "shell.execute_reply": "2022-02-01T18:30:21.747177Z",
     "shell.execute_reply.started": "2022-02-01T18:29:14.908098Z"
    },
    "papermill": {
     "duration": 0.110913,
     "end_time": "2022-02-01T18:30:21.747343",
     "exception": false,
     "start_time": "2022-02-01T18:30:21.636430",
     "status": "completed"
    },
    "tags": []
   },
   "outputs": [],
   "source": [
    "df_bin.append('foreign_passport')"
   ]
  },
  {
   "cell_type": "markdown",
   "id": "b0c1a327",
   "metadata": {
    "execution": {
     "iopub.execute_input": "2022-02-01T12:33:07.170418Z",
     "iopub.status.busy": "2022-02-01T12:33:07.170086Z",
     "iopub.status.idle": "2022-02-01T12:33:07.235494Z",
     "shell.execute_reply": "2022-02-01T12:33:07.234571Z",
     "shell.execute_reply.started": "2022-02-01T12:33:07.170386Z"
    },
    "papermill": {
     "duration": 0.104545,
     "end_time": "2022-02-01T18:30:21.957074",
     "exception": false,
     "start_time": "2022-02-01T18:30:21.852529",
     "status": "completed"
    },
    "tags": []
   },
   "source": [
    "#### Пройдясь по всем признакам имеем следующее"
   ]
  },
  {
   "cell_type": "code",
   "execution_count": 48,
   "id": "cb0455e4",
   "metadata": {
    "execution": {
     "iopub.execute_input": "2022-02-01T18:30:22.171632Z",
     "iopub.status.busy": "2022-02-01T18:30:22.170666Z",
     "iopub.status.idle": "2022-02-01T18:30:22.194182Z",
     "shell.execute_reply": "2022-02-01T18:30:22.193620Z",
     "shell.execute_reply.started": "2022-02-01T18:29:14.925761Z"
    },
    "papermill": {
     "duration": 0.132391,
     "end_time": "2022-02-01T18:30:22.194319",
     "exception": false,
     "start_time": "2022-02-01T18:30:22.061928",
     "status": "completed"
    },
    "tags": []
   },
   "outputs": [
    {
     "data": {
      "text/html": [
       "<div>\n",
       "<style scoped>\n",
       "    .dataframe tbody tr th:only-of-type {\n",
       "        vertical-align: middle;\n",
       "    }\n",
       "\n",
       "    .dataframe tbody tr th {\n",
       "        vertical-align: top;\n",
       "    }\n",
       "\n",
       "    .dataframe thead th {\n",
       "        text-align: right;\n",
       "    }\n",
       "</style>\n",
       "<table border=\"1\" class=\"dataframe\">\n",
       "  <thead>\n",
       "    <tr style=\"text-align: right;\">\n",
       "      <th></th>\n",
       "      <th>client_id</th>\n",
       "      <th>education</th>\n",
       "      <th>sex</th>\n",
       "      <th>age</th>\n",
       "      <th>car</th>\n",
       "      <th>car_type</th>\n",
       "      <th>decline_app_cnt</th>\n",
       "      <th>good_work</th>\n",
       "      <th>score_bki</th>\n",
       "      <th>region_rating</th>\n",
       "      <th>...</th>\n",
       "      <th>sna</th>\n",
       "      <th>first_time</th>\n",
       "      <th>foreign_passport</th>\n",
       "      <th>default</th>\n",
       "      <th>app_date_day</th>\n",
       "      <th>app_date_month</th>\n",
       "      <th>app_date_weekday</th>\n",
       "      <th>app_date_weekend</th>\n",
       "      <th>bki_request_cnt_log</th>\n",
       "      <th>income_log</th>\n",
       "    </tr>\n",
       "  </thead>\n",
       "  <tbody>\n",
       "    <tr>\n",
       "      <th>0</th>\n",
       "      <td>25905</td>\n",
       "      <td>4</td>\n",
       "      <td>M</td>\n",
       "      <td>62</td>\n",
       "      <td>Y</td>\n",
       "      <td>Y</td>\n",
       "      <td>0</td>\n",
       "      <td>0</td>\n",
       "      <td>-2.008753</td>\n",
       "      <td>50</td>\n",
       "      <td>...</td>\n",
       "      <td>4</td>\n",
       "      <td>1</td>\n",
       "      <td>N</td>\n",
       "      <td>0.0</td>\n",
       "      <td>1</td>\n",
       "      <td>2</td>\n",
       "      <td>5</td>\n",
       "      <td>1</td>\n",
       "      <td>0.693147</td>\n",
       "      <td>9.798183</td>\n",
       "    </tr>\n",
       "    <tr>\n",
       "      <th>1</th>\n",
       "      <td>63161</td>\n",
       "      <td>4</td>\n",
       "      <td>F</td>\n",
       "      <td>59</td>\n",
       "      <td>N</td>\n",
       "      <td>N</td>\n",
       "      <td>0</td>\n",
       "      <td>0</td>\n",
       "      <td>-1.532276</td>\n",
       "      <td>50</td>\n",
       "      <td>...</td>\n",
       "      <td>4</td>\n",
       "      <td>1</td>\n",
       "      <td>N</td>\n",
       "      <td>0.0</td>\n",
       "      <td>12</td>\n",
       "      <td>3</td>\n",
       "      <td>2</td>\n",
       "      <td>0</td>\n",
       "      <td>1.386294</td>\n",
       "      <td>9.852247</td>\n",
       "    </tr>\n",
       "    <tr>\n",
       "      <th>2</th>\n",
       "      <td>25887</td>\n",
       "      <td>4</td>\n",
       "      <td>M</td>\n",
       "      <td>25</td>\n",
       "      <td>Y</td>\n",
       "      <td>N</td>\n",
       "      <td>2</td>\n",
       "      <td>0</td>\n",
       "      <td>-1.408142</td>\n",
       "      <td>80</td>\n",
       "      <td>...</td>\n",
       "      <td>1</td>\n",
       "      <td>4</td>\n",
       "      <td>Y</td>\n",
       "      <td>0.0</td>\n",
       "      <td>1</td>\n",
       "      <td>2</td>\n",
       "      <td>5</td>\n",
       "      <td>1</td>\n",
       "      <td>0.693147</td>\n",
       "      <td>10.308986</td>\n",
       "    </tr>\n",
       "    <tr>\n",
       "      <th>3</th>\n",
       "      <td>16222</td>\n",
       "      <td>4</td>\n",
       "      <td>F</td>\n",
       "      <td>53</td>\n",
       "      <td>N</td>\n",
       "      <td>N</td>\n",
       "      <td>0</td>\n",
       "      <td>0</td>\n",
       "      <td>-2.057471</td>\n",
       "      <td>50</td>\n",
       "      <td>...</td>\n",
       "      <td>1</td>\n",
       "      <td>3</td>\n",
       "      <td>N</td>\n",
       "      <td>0.0</td>\n",
       "      <td>23</td>\n",
       "      <td>1</td>\n",
       "      <td>3</td>\n",
       "      <td>0</td>\n",
       "      <td>1.098612</td>\n",
       "      <td>9.210440</td>\n",
       "    </tr>\n",
       "    <tr>\n",
       "      <th>4</th>\n",
       "      <td>101655</td>\n",
       "      <td>1</td>\n",
       "      <td>M</td>\n",
       "      <td>48</td>\n",
       "      <td>N</td>\n",
       "      <td>N</td>\n",
       "      <td>0</td>\n",
       "      <td>1</td>\n",
       "      <td>-1.244723</td>\n",
       "      <td>60</td>\n",
       "      <td>...</td>\n",
       "      <td>1</td>\n",
       "      <td>4</td>\n",
       "      <td>Y</td>\n",
       "      <td>0.0</td>\n",
       "      <td>18</td>\n",
       "      <td>4</td>\n",
       "      <td>4</td>\n",
       "      <td>0</td>\n",
       "      <td>0.693147</td>\n",
       "      <td>10.308986</td>\n",
       "    </tr>\n",
       "  </tbody>\n",
       "</table>\n",
       "<p>5 rows × 22 columns</p>\n",
       "</div>"
      ],
      "text/plain": [
       "   client_id  education sex  age car car_type  decline_app_cnt  good_work  \\\n",
       "0      25905          4   M   62   Y        Y                0          0   \n",
       "1      63161          4   F   59   N        N                0          0   \n",
       "2      25887          4   M   25   Y        N                2          0   \n",
       "3      16222          4   F   53   N        N                0          0   \n",
       "4     101655          1   M   48   N        N                0          1   \n",
       "\n",
       "   score_bki  region_rating  ...  sna  first_time  foreign_passport  default  \\\n",
       "0  -2.008753             50  ...    4           1                 N      0.0   \n",
       "1  -1.532276             50  ...    4           1                 N      0.0   \n",
       "2  -1.408142             80  ...    1           4                 Y      0.0   \n",
       "3  -2.057471             50  ...    1           3                 N      0.0   \n",
       "4  -1.244723             60  ...    1           4                 Y      0.0   \n",
       "\n",
       "  app_date_day  app_date_month  app_date_weekday  app_date_weekend  \\\n",
       "0            1               2                 5                 1   \n",
       "1           12               3                 2                 0   \n",
       "2            1               2                 5                 1   \n",
       "3           23               1                 3                 0   \n",
       "4           18               4                 4                 0   \n",
       "\n",
       "   bki_request_cnt_log  income_log  \n",
       "0             0.693147    9.798183  \n",
       "1             1.386294    9.852247  \n",
       "2             0.693147   10.308986  \n",
       "3             1.098612    9.210440  \n",
       "4             0.693147   10.308986  \n",
       "\n",
       "[5 rows x 22 columns]"
      ]
     },
     "execution_count": 48,
     "metadata": {},
     "output_type": "execute_result"
    }
   ],
   "source": [
    "df.head(5)"
   ]
  },
  {
   "cell_type": "code",
   "execution_count": 49,
   "id": "837a2b7c",
   "metadata": {
    "execution": {
     "iopub.execute_input": "2022-02-01T18:30:22.407596Z",
     "iopub.status.busy": "2022-02-01T18:30:22.406574Z",
     "iopub.status.idle": "2022-02-01T18:30:22.412526Z",
     "shell.execute_reply": "2022-02-01T18:30:22.413442Z",
     "shell.execute_reply.started": "2022-02-01T18:29:14.957182Z"
    },
    "papermill": {
     "duration": 0.115493,
     "end_time": "2022-02-01T18:30:22.413663",
     "exception": false,
     "start_time": "2022-02-01T18:30:22.298170",
     "status": "completed"
    },
    "tags": []
   },
   "outputs": [
    {
     "name": "stdout",
     "output_type": "stream",
     "text": [
      "['app_date_weekday', 'app_date_month', 'app_date_day', 'age', 'score_bki', 'bki_request_cnt_log', 'income_log']\n",
      "['education', 'decline_app_cnt', 'region_rating', 'home_address', 'work_address', 'sna', 'first_time']\n",
      "['app_date_weekend', 'sex', 'car', 'car_type', 'good_work', 'foreign_passport']\n"
     ]
    }
   ],
   "source": [
    "print(df_num,df_cat,df_bin, sep = '\\n')"
   ]
  },
  {
   "cell_type": "markdown",
   "id": "73a3d218",
   "metadata": {
    "papermill": {
     "duration": 0.105397,
     "end_time": "2022-02-01T18:30:22.625538",
     "exception": false,
     "start_time": "2022-02-01T18:30:22.520141",
     "status": "completed"
    },
    "tags": []
   },
   "source": [
    "### Теперь пройдемся по типам признаков\n",
    "#### 1.Числовые признаки"
   ]
  },
  {
   "cell_type": "code",
   "execution_count": 50,
   "id": "4720704c",
   "metadata": {
    "execution": {
     "iopub.execute_input": "2022-02-01T18:30:22.848737Z",
     "iopub.status.busy": "2022-02-01T18:30:22.847597Z",
     "iopub.status.idle": "2022-02-01T18:30:23.547405Z",
     "shell.execute_reply": "2022-02-01T18:30:23.547920Z",
     "shell.execute_reply.started": "2022-02-01T18:29:14.962595Z"
    },
    "papermill": {
     "duration": 0.815079,
     "end_time": "2022-02-01T18:30:23.548103",
     "exception": false,
     "start_time": "2022-02-01T18:30:22.733024",
     "status": "completed"
    },
    "tags": []
   },
   "outputs": [
    {
     "data": {
      "text/plain": [
       "<AxesSubplot:>"
      ]
     },
     "execution_count": 50,
     "metadata": {},
     "output_type": "execute_result"
    },
    {
     "data": {
      "image/png": "[encoded data removed]",
      "text/plain": [
       "<Figure size 1008x576 with 2 Axes>"
      ]
     },
     "metadata": {
      "needs_background": "light"
     },
     "output_type": "display_data"
    }
   ],
   "source": [
    "plt.figure(figsize=(14,8))\n",
    "sns.heatmap(df[df_num+['default']].corr(), annot=True)"
   ]
  },
  {
   "cell_type": "markdown",
   "id": "2ef430ad",
   "metadata": {
    "papermill": {
     "duration": 0.106983,
     "end_time": "2022-02-01T18:30:23.762411",
     "exception": false,
     "start_time": "2022-02-01T18:30:23.655428",
     "status": "completed"
    },
    "tags": []
   },
   "source": [
    "##### Сильной корреляции не между признаками не обнаружено\n",
    "##### Посмотрим значимость"
   ]
  },
  {
   "cell_type": "code",
   "execution_count": 51,
   "id": "6016cc18",
   "metadata": {
    "execution": {
     "iopub.execute_input": "2022-02-01T18:30:23.980932Z",
     "iopub.status.busy": "2022-02-01T18:30:23.980314Z",
     "iopub.status.idle": "2022-02-01T18:30:24.197363Z",
     "shell.execute_reply": "2022-02-01T18:30:24.197821Z",
     "shell.execute_reply.started": "2022-02-01T18:29:15.727569Z"
    },
    "papermill": {
     "duration": 0.327773,
     "end_time": "2022-02-01T18:30:24.197995",
     "exception": false,
     "start_time": "2022-02-01T18:30:23.870222",
     "status": "completed"
    },
    "tags": []
   },
   "outputs": [
    {
     "data": {
      "text/plain": [
       "<AxesSubplot:>"
      ]
     },
     "execution_count": 51,
     "metadata": {},
     "output_type": "execute_result"
    },
    {
     "data": {
      "image/png": "[encoded data removed]",
      "text/plain": [
       "<Figure size 432x288 with 1 Axes>"
      ]
     },
     "metadata": {
      "needs_background": "light"
     },
     "output_type": "display_data"
    }
   ],
   "source": [
    "imp_num = pd.Series(f_classif(df[df['default'].isna() == False][df_num], df[df['default'].isna() == False]['default'])[0], index = df_num)\n",
    "imp_num.sort_values(inplace = True)\n",
    "imp_num.plot(kind = 'barh')"
   ]
  },
  {
   "cell_type": "markdown",
   "id": "6c4fb66c",
   "metadata": {
    "papermill": {
     "duration": 0.108414,
     "end_time": "2022-02-01T18:30:24.414816",
     "exception": false,
     "start_time": "2022-02-01T18:30:24.306402",
     "status": "completed"
    },
    "tags": []
   },
   "source": [
    "##### Легко видеть, что с большим отрывом score_bki опережает остальных в значимости"
   ]
  },
  {
   "cell_type": "markdown",
   "id": "b1681b0f",
   "metadata": {
    "papermill": {
     "duration": 0.108857,
     "end_time": "2022-02-01T18:30:24.632429",
     "exception": false,
     "start_time": "2022-02-01T18:30:24.523572",
     "status": "completed"
    },
    "tags": []
   },
   "source": [
    "#### 2.Бинарные признаки\n",
    "##### Заранее уже подправили единственный пробемный категориальный признак, сразу можно смотреть значимость"
   ]
  },
  {
   "cell_type": "code",
   "execution_count": 52,
   "id": "8cb110a7",
   "metadata": {
    "execution": {
     "iopub.execute_input": "2022-02-01T18:30:24.859350Z",
     "iopub.status.busy": "2022-02-01T18:30:24.858263Z",
     "iopub.status.idle": "2022-02-01T18:30:25.017464Z",
     "shell.execute_reply": "2022-02-01T18:30:25.017959Z",
     "shell.execute_reply.started": "2022-02-01T18:29:15.997778Z"
    },
    "papermill": {
     "duration": 0.274743,
     "end_time": "2022-02-01T18:30:25.018160",
     "exception": false,
     "start_time": "2022-02-01T18:30:24.743417",
     "status": "completed"
    },
    "tags": []
   },
   "outputs": [],
   "source": [
    "for column in df_bin:\n",
    "    df[column] = label_encoder.fit_transform(df[column])"
   ]
  },
  {
   "cell_type": "code",
   "execution_count": 53,
   "id": "bd5916a6",
   "metadata": {
    "execution": {
     "iopub.execute_input": "2022-02-01T18:30:25.250881Z",
     "iopub.status.busy": "2022-02-01T18:30:25.249452Z",
     "iopub.status.idle": "2022-02-01T18:30:25.819992Z",
     "shell.execute_reply": "2022-02-01T18:30:25.820510Z",
     "shell.execute_reply.started": "2022-02-01T18:29:16.159127Z"
    },
    "papermill": {
     "duration": 0.691265,
     "end_time": "2022-02-01T18:30:25.820698",
     "exception": false,
     "start_time": "2022-02-01T18:30:25.129433",
     "status": "completed"
    },
    "tags": []
   },
   "outputs": [
    {
     "data": {
      "text/plain": [
       "<AxesSubplot:>"
      ]
     },
     "execution_count": 53,
     "metadata": {},
     "output_type": "execute_result"
    },
    {
     "data": {
      "image/png": "[encoded data removed]",
      "text/plain": [
       "<Figure size 1008x576 with 2 Axes>"
      ]
     },
     "metadata": {
      "needs_background": "light"
     },
     "output_type": "display_data"
    }
   ],
   "source": [
    "plt.figure(figsize=(14,8))\n",
    "sns.heatmap(df[df_bin+['default']].corr(), annot=True)"
   ]
  },
  {
   "cell_type": "markdown",
   "id": "de16fba5",
   "metadata": {
    "papermill": {
     "duration": 0.111141,
     "end_time": "2022-02-01T18:30:26.043791",
     "exception": false,
     "start_time": "2022-02-01T18:30:25.932650",
     "status": "completed"
    },
    "tags": []
   },
   "source": [
    "##### Высока корреляция между машиной и типом машины, что не удивительно, у людей без машины (car = 0) всегда 0 в car_type. Все же думаю стоит их оставить, хотя как вариант можно было бы сделать из двух бинарных одну категориальную, (0=нет машины, 1 = обычная машина, 2 = иномарка)\n",
    "##### Посмотрим значимость"
   ]
  },
  {
   "cell_type": "code",
   "execution_count": 54,
   "id": "1b696236",
   "metadata": {
    "execution": {
     "iopub.execute_input": "2022-02-01T18:30:26.271041Z",
     "iopub.status.busy": "2022-02-01T18:30:26.270069Z",
     "iopub.status.idle": "2022-02-01T18:30:26.454816Z",
     "shell.execute_reply": "2022-02-01T18:30:26.454209Z",
     "shell.execute_reply.started": "2022-02-01T18:29:16.809117Z"
    },
    "papermill": {
     "duration": 0.300068,
     "end_time": "2022-02-01T18:30:26.454952",
     "exception": false,
     "start_time": "2022-02-01T18:30:26.154884",
     "status": "completed"
    },
    "tags": []
   },
   "outputs": [
    {
     "data": {
      "text/plain": [
       "<AxesSubplot:>"
      ]
     },
     "execution_count": 54,
     "metadata": {},
     "output_type": "execute_result"
    },
    {
     "data": {
      "image/png": "[encoded data removed]",
      "text/plain": [
       "<Figure size 432x288 with 1 Axes>"
      ]
     },
     "metadata": {
      "needs_background": "light"
     },
     "output_type": "display_data"
    }
   ],
   "source": [
    "imp_bin = pd.Series(f_classif(df[df['default'].isna() == False][df_bin], df[df['default'].isna() == False]['default'])[0], index = df_bin)\n",
    "imp_bin.sort_values(inplace = True)\n",
    "imp_bin.plot(kind = 'barh')"
   ]
  },
  {
   "cell_type": "markdown",
   "id": "8cadbd7d",
   "metadata": {
    "papermill": {
     "duration": 0.111963,
     "end_time": "2022-02-01T18:30:26.679094",
     "exception": false,
     "start_time": "2022-02-01T18:30:26.567131",
     "status": "completed"
    },
    "tags": []
   },
   "source": [
    "##### Самыми значимыми являются паспорт и является ли машина иномаркой"
   ]
  },
  {
   "cell_type": "markdown",
   "id": "599b5b2f",
   "metadata": {
    "papermill": {
     "duration": 0.111999,
     "end_time": "2022-02-01T18:30:26.902764",
     "exception": false,
     "start_time": "2022-02-01T18:30:26.790765",
     "status": "completed"
    },
    "tags": []
   },
   "source": [
    "#### 3. Категориальные признаки\n",
    "##### Единственный \"проблемный\" признак мы исправили заранее, посмотрим значимые"
   ]
  },
  {
   "cell_type": "code",
   "execution_count": 55,
   "id": "0c6e0233",
   "metadata": {
    "execution": {
     "iopub.execute_input": "2022-02-01T18:30:27.134959Z",
     "iopub.status.busy": "2022-02-01T18:30:27.134336Z",
     "iopub.status.idle": "2022-02-01T18:30:27.367534Z",
     "shell.execute_reply": "2022-02-01T18:30:27.368121Z",
     "shell.execute_reply.started": "2022-02-01T18:29:17.058330Z"
    },
    "papermill": {
     "duration": 0.348445,
     "end_time": "2022-02-01T18:30:27.368291",
     "exception": false,
     "start_time": "2022-02-01T18:30:27.019846",
     "status": "completed"
    },
    "tags": []
   },
   "outputs": [
    {
     "data": {
      "text/plain": [
       "<AxesSubplot:>"
      ]
     },
     "execution_count": 55,
     "metadata": {},
     "output_type": "execute_result"
    },
    {
     "data": {
      "image/png": "[encoded data removed]",
      "text/plain": [
       "<Figure size 432x288 with 1 Axes>"
      ]
     },
     "metadata": {
      "needs_background": "light"
     },
     "output_type": "display_data"
    }
   ],
   "source": [
    "imp_cat = pd.Series(f_classif(df[df['default'].isna() == False][df_cat], df[df['default'].isna() == False]['default'])[0], index = df_cat)\n",
    "imp_cat.sort_values(inplace = True)\n",
    "imp_cat.plot(kind = 'barh')"
   ]
  },
  {
   "cell_type": "markdown",
   "id": "4d9c4ff6",
   "metadata": {
    "papermill": {
     "duration": 0.111842,
     "end_time": "2022-02-01T18:30:27.593222",
     "exception": false,
     "start_time": "2022-02-01T18:30:27.481380",
     "status": "completed"
    },
    "tags": []
   },
   "source": [
    "##### Самыми значимыми являются sna и decline_app_cnt\n",
    "\n",
    "#### Создадим фиктивные переменные для категориальных признаков и стандартизируем числовые переменные"
   ]
  },
  {
   "cell_type": "code",
   "execution_count": 56,
   "id": "2e24ecae",
   "metadata": {
    "execution": {
     "iopub.execute_input": "2022-02-01T18:30:27.822322Z",
     "iopub.status.busy": "2022-02-01T18:30:27.821670Z",
     "iopub.status.idle": "2022-02-01T18:30:27.858614Z",
     "shell.execute_reply": "2022-02-01T18:30:27.859144Z",
     "shell.execute_reply.started": "2022-02-01T18:29:17.322120Z"
    },
    "papermill": {
     "duration": 0.15319,
     "end_time": "2022-02-01T18:30:27.859342",
     "exception": false,
     "start_time": "2022-02-01T18:30:27.706152",
     "status": "completed"
    },
    "tags": []
   },
   "outputs": [],
   "source": [
    "df = pd.get_dummies(df, columns = df_cat)"
   ]
  },
  {
   "cell_type": "code",
   "execution_count": 57,
   "id": "96cc6170",
   "metadata": {
    "execution": {
     "iopub.execute_input": "2022-02-01T18:30:28.092243Z",
     "iopub.status.busy": "2022-02-01T18:30:28.091537Z",
     "iopub.status.idle": "2022-02-01T18:30:28.159620Z",
     "shell.execute_reply": "2022-02-01T18:30:28.160125Z",
     "shell.execute_reply.started": "2022-02-01T18:29:17.358231Z"
    },
    "papermill": {
     "duration": 0.187065,
     "end_time": "2022-02-01T18:30:28.160294",
     "exception": false,
     "start_time": "2022-02-01T18:30:27.973229",
     "status": "completed"
    },
    "tags": []
   },
   "outputs": [
    {
     "data": {
      "text/html": [
       "<div>\n",
       "<style scoped>\n",
       "    .dataframe tbody tr th:only-of-type {\n",
       "        vertical-align: middle;\n",
       "    }\n",
       "\n",
       "    .dataframe tbody tr th {\n",
       "        vertical-align: top;\n",
       "    }\n",
       "\n",
       "    .dataframe thead th {\n",
       "        text-align: right;\n",
       "    }\n",
       "</style>\n",
       "<table border=\"1\" class=\"dataframe\">\n",
       "  <thead>\n",
       "    <tr style=\"text-align: right;\">\n",
       "      <th></th>\n",
       "      <th>app_date_weekday</th>\n",
       "      <th>app_date_month</th>\n",
       "      <th>app_date_day</th>\n",
       "      <th>age</th>\n",
       "      <th>score_bki</th>\n",
       "      <th>bki_request_cnt_log</th>\n",
       "      <th>income_log</th>\n",
       "    </tr>\n",
       "  </thead>\n",
       "  <tbody>\n",
       "    <tr>\n",
       "      <th>0</th>\n",
       "      <td>0.833333</td>\n",
       "      <td>0.333333</td>\n",
       "      <td>0.000000</td>\n",
       "      <td>0.803922</td>\n",
       "      <td>0.416008</td>\n",
       "      <td>0.179052</td>\n",
       "      <td>0.418348</td>\n",
       "    </tr>\n",
       "    <tr>\n",
       "      <th>1</th>\n",
       "      <td>0.333333</td>\n",
       "      <td>0.666667</td>\n",
       "      <td>0.366667</td>\n",
       "      <td>0.745098</td>\n",
       "      <td>0.542629</td>\n",
       "      <td>0.358104</td>\n",
       "      <td>0.426176</td>\n",
       "    </tr>\n",
       "    <tr>\n",
       "      <th>2</th>\n",
       "      <td>0.833333</td>\n",
       "      <td>0.333333</td>\n",
       "      <td>0.000000</td>\n",
       "      <td>0.078431</td>\n",
       "      <td>0.575616</td>\n",
       "      <td>0.179052</td>\n",
       "      <td>0.492305</td>\n",
       "    </tr>\n",
       "    <tr>\n",
       "      <th>3</th>\n",
       "      <td>0.500000</td>\n",
       "      <td>0.000000</td>\n",
       "      <td>0.733333</td>\n",
       "      <td>0.627451</td>\n",
       "      <td>0.403061</td>\n",
       "      <td>0.283791</td>\n",
       "      <td>0.333251</td>\n",
       "    </tr>\n",
       "    <tr>\n",
       "      <th>4</th>\n",
       "      <td>0.666667</td>\n",
       "      <td>1.000000</td>\n",
       "      <td>0.566667</td>\n",
       "      <td>0.529412</td>\n",
       "      <td>0.619044</td>\n",
       "      <td>0.179052</td>\n",
       "      <td>0.492305</td>\n",
       "    </tr>\n",
       "    <tr>\n",
       "      <th>...</th>\n",
       "      <td>...</td>\n",
       "      <td>...</td>\n",
       "      <td>...</td>\n",
       "      <td>...</td>\n",
       "      <td>...</td>\n",
       "      <td>...</td>\n",
       "      <td>...</td>\n",
       "    </tr>\n",
       "    <tr>\n",
       "      <th>36344</th>\n",
       "      <td>0.000000</td>\n",
       "      <td>0.666667</td>\n",
       "      <td>0.533333</td>\n",
       "      <td>0.529412</td>\n",
       "      <td>0.607143</td>\n",
       "      <td>0.462843</td>\n",
       "      <td>0.492305</td>\n",
       "    </tr>\n",
       "    <tr>\n",
       "      <th>36345</th>\n",
       "      <td>0.833333</td>\n",
       "      <td>0.333333</td>\n",
       "      <td>0.000000</td>\n",
       "      <td>0.019608</td>\n",
       "      <td>0.199700</td>\n",
       "      <td>0.179052</td>\n",
       "      <td>0.447401</td>\n",
       "    </tr>\n",
       "    <tr>\n",
       "      <th>36346</th>\n",
       "      <td>0.000000</td>\n",
       "      <td>0.666667</td>\n",
       "      <td>0.533333</td>\n",
       "      <td>0.470588</td>\n",
       "      <td>0.588491</td>\n",
       "      <td>0.000000</td>\n",
       "      <td>0.492305</td>\n",
       "    </tr>\n",
       "    <tr>\n",
       "      <th>36347</th>\n",
       "      <td>0.500000</td>\n",
       "      <td>0.666667</td>\n",
       "      <td>0.633333</td>\n",
       "      <td>0.607843</td>\n",
       "      <td>0.364388</td>\n",
       "      <td>0.283791</td>\n",
       "      <td>0.492305</td>\n",
       "    </tr>\n",
       "    <tr>\n",
       "      <th>36348</th>\n",
       "      <td>0.500000</td>\n",
       "      <td>0.000000</td>\n",
       "      <td>0.966667</td>\n",
       "      <td>0.333333</td>\n",
       "      <td>0.384475</td>\n",
       "      <td>0.179052</td>\n",
       "      <td>0.514623</td>\n",
       "    </tr>\n",
       "  </tbody>\n",
       "</table>\n",
       "<p>108051 rows × 7 columns</p>\n",
       "</div>"
      ],
      "text/plain": [
       "       app_date_weekday  app_date_month  app_date_day       age  score_bki  \\\n",
       "0              0.833333        0.333333      0.000000  0.803922   0.416008   \n",
       "1              0.333333        0.666667      0.366667  0.745098   0.542629   \n",
       "2              0.833333        0.333333      0.000000  0.078431   0.575616   \n",
       "3              0.500000        0.000000      0.733333  0.627451   0.403061   \n",
       "4              0.666667        1.000000      0.566667  0.529412   0.619044   \n",
       "...                 ...             ...           ...       ...        ...   \n",
       "36344          0.000000        0.666667      0.533333  0.529412   0.607143   \n",
       "36345          0.833333        0.333333      0.000000  0.019608   0.199700   \n",
       "36346          0.000000        0.666667      0.533333  0.470588   0.588491   \n",
       "36347          0.500000        0.666667      0.633333  0.607843   0.364388   \n",
       "36348          0.500000        0.000000      0.966667  0.333333   0.384475   \n",
       "\n",
       "       bki_request_cnt_log  income_log  \n",
       "0                 0.179052    0.418348  \n",
       "1                 0.358104    0.426176  \n",
       "2                 0.179052    0.492305  \n",
       "3                 0.283791    0.333251  \n",
       "4                 0.179052    0.492305  \n",
       "...                    ...         ...  \n",
       "36344             0.462843    0.492305  \n",
       "36345             0.179052    0.447401  \n",
       "36346             0.000000    0.492305  \n",
       "36347             0.283791    0.492305  \n",
       "36348             0.179052    0.514623  \n",
       "\n",
       "[108051 rows x 7 columns]"
      ]
     },
     "execution_count": 57,
     "metadata": {},
     "output_type": "execute_result"
    }
   ],
   "source": [
    "scaler = MinMaxScaler()\n",
    "d = scaler.fit_transform(df[df_num])\n",
    "df[df_num] = pd.DataFrame(d, columns=df_num)\n",
    "df[df_num]"
   ]
  },
  {
   "cell_type": "markdown",
   "id": "4ffa795a",
   "metadata": {
    "papermill": {
     "duration": 0.112819,
     "end_time": "2022-02-01T18:30:28.386730",
     "exception": false,
     "start_time": "2022-02-01T18:30:28.273911",
     "status": "completed"
    },
    "tags": []
   },
   "source": [
    "##### Обратно разделим датасет на train и test"
   ]
  },
  {
   "cell_type": "code",
   "execution_count": 58,
   "id": "7a405f2a",
   "metadata": {
    "execution": {
     "iopub.execute_input": "2022-02-01T18:30:28.619206Z",
     "iopub.status.busy": "2022-02-01T18:30:28.618555Z",
     "iopub.status.idle": "2022-02-01T18:30:28.637362Z",
     "shell.execute_reply": "2022-02-01T18:30:28.637829Z",
     "shell.execute_reply.started": "2022-02-01T18:29:17.428926Z"
    },
    "papermill": {
     "duration": 0.138023,
     "end_time": "2022-02-01T18:30:28.638024",
     "exception": false,
     "start_time": "2022-02-01T18:30:28.500001",
     "status": "completed"
    },
    "tags": []
   },
   "outputs": [],
   "source": [
    "df_train = df[df['default'].isna() == False]\n",
    "df_test = df[df['default'].isna() == True]\n",
    "df_test = df_test.drop('default', axis = 1)"
   ]
  },
  {
   "cell_type": "markdown",
   "id": "15b1b28d",
   "metadata": {
    "papermill": {
     "duration": 0.11352,
     "end_time": "2022-02-01T18:30:28.864995",
     "exception": false,
     "start_time": "2022-02-01T18:30:28.751475",
     "status": "completed"
    },
    "tags": []
   },
   "source": [
    "# Обучение модели\n",
    "##### Начнем обучение модели постепенно добавляя, что то новое\n",
    "\n",
    "#### 1.Начальное обучение\n",
    "##### Делим данные еще раз для валидации"
   ]
  },
  {
   "cell_type": "code",
   "execution_count": 59,
   "id": "78b166b7",
   "metadata": {
    "execution": {
     "iopub.execute_input": "2022-02-01T18:30:29.102957Z",
     "iopub.status.busy": "2022-02-01T18:30:29.098039Z",
     "iopub.status.idle": "2022-02-01T18:30:29.146275Z",
     "shell.execute_reply": "2022-02-01T18:30:29.145680Z",
     "shell.execute_reply.started": "2022-02-01T18:29:17.450172Z"
    },
    "papermill": {
     "duration": 0.168013,
     "end_time": "2022-02-01T18:30:29.146417",
     "exception": false,
     "start_time": "2022-02-01T18:30:28.978404",
     "status": "completed"
    },
    "tags": []
   },
   "outputs": [],
   "source": [
    "X = df_train.drop(['client_id','default'], axis=1).values\n",
    "Y = df_train['default'].values\n",
    "X_train,X_valid,Y_train,Y_valid = train_test_split(X, Y, test_size=0.2, random_state=42)"
   ]
  },
  {
   "cell_type": "code",
   "execution_count": 60,
   "id": "758be887",
   "metadata": {
    "execution": {
     "iopub.execute_input": "2022-02-01T18:30:29.377886Z",
     "iopub.status.busy": "2022-02-01T18:30:29.377264Z",
     "iopub.status.idle": "2022-02-01T18:30:29.688346Z",
     "shell.execute_reply": "2022-02-01T18:30:29.689179Z",
     "shell.execute_reply.started": "2022-02-01T18:29:17.505714Z"
    },
    "papermill": {
     "duration": 0.428711,
     "end_time": "2022-02-01T18:30:29.689452",
     "exception": false,
     "start_time": "2022-02-01T18:30:29.260741",
     "status": "completed"
    },
    "tags": []
   },
   "outputs": [],
   "source": [
    "first_model = LogisticRegression(solver = 'liblinear')\n",
    "first_model.fit(X_train, Y_train)\n",
    "y_predict = first_model.predict(X_valid)\n",
    "y_proba = first_model.predict_proba(X_valid)[:,1]"
   ]
  },
  {
   "cell_type": "code",
   "execution_count": 61,
   "id": "1c8d21fa",
   "metadata": {
    "execution": {
     "iopub.execute_input": "2022-02-01T18:30:29.974737Z",
     "iopub.status.busy": "2022-02-01T18:30:29.973998Z",
     "iopub.status.idle": "2022-02-01T18:30:30.229036Z",
     "shell.execute_reply": "2022-02-01T18:30:30.228400Z",
     "shell.execute_reply.started": "2022-02-01T18:29:17.880165Z"
    },
    "papermill": {
     "duration": 0.374476,
     "end_time": "2022-02-01T18:30:30.229178",
     "exception": false,
     "start_time": "2022-02-01T18:30:29.854702",
     "status": "completed"
    },
    "tags": []
   },
   "outputs": [
    {
     "name": "stdout",
     "output_type": "stream",
     "text": [
      "accuracy: \n",
      "0.875322501917579\n",
      "f1: \n",
      "0.006666666666666666\n",
      "Roc score:\n",
      "0.6820129546720077\n",
      "Confusion matrix:\n",
      "[[12547     5]\n",
      " [ 1783     6]]\n"
     ]
    },
    {
     "data": {
      "image/png": "[encoded data removed]",
      "text/plain": [
       "<Figure size 432x288 with 1 Axes>"
      ]
     },
     "metadata": {
      "needs_background": "light"
     },
     "output_type": "display_data"
    }
   ],
   "source": [
    "metrics_counter(Y_valid,y_predict,y_proba)"
   ]
  },
  {
   "cell_type": "code",
   "execution_count": 62,
   "id": "790d5c38",
   "metadata": {
    "execution": {
     "iopub.execute_input": "2022-02-01T18:30:30.475438Z",
     "iopub.status.busy": "2022-02-01T18:30:30.474317Z",
     "iopub.status.idle": "2022-02-01T18:30:30.650568Z",
     "shell.execute_reply": "2022-02-01T18:30:30.651097Z",
     "shell.execute_reply.started": "2022-02-01T18:29:18.194652Z"
    },
    "papermill": {
     "duration": 0.305339,
     "end_time": "2022-02-01T18:30:30.651260",
     "exception": false,
     "start_time": "2022-02-01T18:30:30.345921",
     "status": "completed"
    },
    "tags": []
   },
   "outputs": [
    {
     "data": {
      "text/plain": [
       "<AxesSubplot:xlabel='default', ylabel='count'>"
      ]
     },
     "execution_count": 62,
     "metadata": {},
     "output_type": "execute_result"
    },
    {
     "data": {
      "image/png": "[encoded data removed]",
      "text/plain": [
       "<Figure size 432x288 with 1 Axes>"
      ]
     },
     "metadata": {
      "needs_background": "light"
     },
     "output_type": "display_data"
    }
   ],
   "source": [
    "sns.countplot(x= df['default'])"
   ]
  },
  {
   "cell_type": "markdown",
   "id": "489f1294",
   "metadata": {
    "papermill": {
     "duration": 0.115997,
     "end_time": "2022-02-01T18:30:30.882449",
     "exception": false,
     "start_time": "2022-02-01T18:30:30.766452",
     "status": "completed"
    },
    "tags": []
   },
   "source": [
    "##### Из-за большой разницы в колличестве, между 0 и 1 дефолта, модель намного чаще предсказывает 0, что не верно и стоит исправить при помощи underfitting\n",
    "#### 2. Модель с underfitting"
   ]
  },
  {
   "cell_type": "code",
   "execution_count": 63,
   "id": "4eaf4656",
   "metadata": {
    "execution": {
     "iopub.execute_input": "2022-02-01T18:30:31.119784Z",
     "iopub.status.busy": "2022-02-01T18:30:31.118795Z",
     "iopub.status.idle": "2022-02-01T18:30:31.140979Z",
     "shell.execute_reply": "2022-02-01T18:30:31.141528Z",
     "shell.execute_reply.started": "2022-02-01T18:29:18.384588Z"
    },
    "papermill": {
     "duration": 0.142048,
     "end_time": "2022-02-01T18:30:31.141712",
     "exception": false,
     "start_time": "2022-02-01T18:30:30.999664",
     "status": "completed"
    },
    "tags": []
   },
   "outputs": [],
   "source": [
    "head_for_temp1 = df_train[df_train['default'] == 1].default.count()\n",
    "temp1=df_train[df_train['default'] == 1]\n",
    "temp2=df_train[df_train['default'] == 0]\n",
    "temp2 = temp2.head(head_for_temp1)\n",
    "balanced_train_df = pd.concat([temp1, temp2])\n",
    "balanced_train_df = balanced_train_df.sort_index()"
   ]
  },
  {
   "cell_type": "code",
   "execution_count": 64,
   "id": "80f4fb2b",
   "metadata": {
    "execution": {
     "iopub.execute_input": "2022-02-01T18:30:31.385292Z",
     "iopub.status.busy": "2022-02-01T18:30:31.384109Z",
     "iopub.status.idle": "2022-02-01T18:30:31.509260Z",
     "shell.execute_reply": "2022-02-01T18:30:31.510341Z",
     "shell.execute_reply.started": "2022-02-01T18:29:18.412172Z"
    },
    "papermill": {
     "duration": 0.251021,
     "end_time": "2022-02-01T18:30:31.510632",
     "exception": false,
     "start_time": "2022-02-01T18:30:31.259611",
     "status": "completed"
    },
    "tags": []
   },
   "outputs": [],
   "source": [
    "X = balanced_train_df.drop(['client_id','default'], axis=1).values\n",
    "Y = balanced_train_df['default'].values\n",
    "X_train,X_valid,Y_train,Y_valid = train_test_split(X, Y, test_size=0.2, random_state=42)\n",
    "balanced_model = LogisticRegression(solver = 'liblinear')\n",
    "balanced_model.fit(X_train, Y_train)\n",
    "y_predict = balanced_model.predict(X_valid)\n",
    "y_proba = balanced_model.predict_proba(X_valid)[:,1]"
   ]
  },
  {
   "cell_type": "code",
   "execution_count": 65,
   "id": "9235d3e9",
   "metadata": {
    "execution": {
     "iopub.execute_input": "2022-02-01T18:30:31.827916Z",
     "iopub.status.busy": "2022-02-01T18:30:31.826661Z",
     "iopub.status.idle": "2022-02-01T18:30:32.078264Z",
     "shell.execute_reply": "2022-02-01T18:30:32.078989Z",
     "shell.execute_reply.started": "2022-02-01T18:29:18.525581Z"
    },
    "papermill": {
     "duration": 0.394356,
     "end_time": "2022-02-01T18:30:32.079255",
     "exception": false,
     "start_time": "2022-02-01T18:30:31.684899",
     "status": "completed"
    },
    "tags": []
   },
   "outputs": [
    {
     "name": "stdout",
     "output_type": "stream",
     "text": [
      "accuracy: \n",
      "0.6350385038503851\n",
      "f1: \n",
      "0.6290187307799833\n",
      "Roc score:\n",
      "0.6925094449287996\n",
      "Confusion matrix:\n",
      "[[1184  676]\n",
      " [ 651 1125]]\n"
     ]
    },
    {
     "data": {
      "image/png": "[encoded data removed]",
      "text/plain": [
       "<Figure size 432x288 with 1 Axes>"
      ]
     },
     "metadata": {
      "needs_background": "light"
     },
     "output_type": "display_data"
    }
   ],
   "source": [
    "metrics_counter(Y_valid,y_predict,y_proba)"
   ]
  },
  {
   "cell_type": "markdown",
   "id": "af0a98bb",
   "metadata": {
    "papermill": {
     "duration": 0.123312,
     "end_time": "2022-02-01T18:30:32.333017",
     "exception": false,
     "start_time": "2022-02-01T18:30:32.209705",
     "status": "completed"
    },
    "tags": []
   },
   "source": [
    "#### Модель стала очевидно, куда более точно предсказывать TN, хотя и увеличилось кол-во неудач с FP, но так или иначе модель явно стала точнее.\n",
    "#### Теперь поищем гиперпараметры"
   ]
  },
  {
   "cell_type": "markdown",
   "id": "1c571dad",
   "metadata": {
    "execution": {
     "iopub.execute_input": "2022-02-01T17:17:46.161830Z",
     "iopub.status.busy": "2022-02-01T17:17:46.161603Z",
     "iopub.status.idle": "2022-02-01T17:18:01.907279Z",
     "shell.execute_reply": "2022-02-01T17:18:01.906176Z",
     "shell.execute_reply.started": "2022-02-01T17:17:46.161801Z"
    },
    "papermill": {
     "duration": 0.116722,
     "end_time": "2022-02-01T18:30:32.572408",
     "exception": false,
     "start_time": "2022-02-01T18:30:32.455686",
     "status": "completed"
    },
    "tags": []
   },
   "source": [
    "\n",
    "model = LogisticRegression()\n",
    "\n",
    "iter_ = 100\n",
    "epsilon_stop = 1e-3\n",
    "\n",
    "param_grid = [\n",
    "    {'penalty': ['l1'], \n",
    "     'solver': ['liblinear'], \n",
    "     'class_weight':[None, 'balanced'], \n",
    "     'multi_class': ['auto','ovr'], \n",
    "     'max_iter':[iter_],\n",
    "     'tol':[epsilon_stop]},\n",
    "    {'penalty': ['l2'], \n",
    "     'solver': ['newton-cg', 'liblinear', 'sag', 'saga'], \n",
    "     'class_weight':[None, 'balanced'], \n",
    "     'multi_class': ['auto','ovr'], \n",
    "     'max_iter':[iter_],\n",
    "     'tol':[epsilon_stop]},\n",
    "    {'penalty': ['none'], \n",
    "     'solver': ['newton-cg', 'lbfgs', 'sag', 'saga'], \n",
    "     'class_weight':[None, 'balanced'], \n",
    "     'multi_class': ['auto','ovr'], \n",
    "     'max_iter':[iter_],\n",
    "     'tol':[epsilon_stop]},\n",
    "]\n",
    "\n",
    "## model ваша модель логистической регрессии\n",
    "gridsearch = GridSearchCV(model, param_grid, scoring='f1', n_jobs=-1, cv=5)\n",
    "gridsearch.fit(X_train, Y_train)\n",
    "model = gridsearch.best_estimator_\n",
    "\n",
    "##печатаем параметры\n",
    "best_parameters = model.get_params()\n",
    "for param_name in sorted(best_parameters.keys()):\n",
    "        print('\\t%s: %r' % (param_name, best_parameters[param_name]))"
   ]
  },
  {
   "cell_type": "code",
   "execution_count": 66,
   "id": "f835a6d2",
   "metadata": {
    "execution": {
     "iopub.execute_input": "2022-02-01T18:30:32.812806Z",
     "iopub.status.busy": "2022-02-01T18:30:32.811750Z",
     "iopub.status.idle": "2022-02-01T18:30:33.273542Z",
     "shell.execute_reply": "2022-02-01T18:30:33.272889Z",
     "shell.execute_reply.started": "2022-02-01T18:29:18.789580Z"
    },
    "papermill": {
     "duration": 0.585158,
     "end_time": "2022-02-01T18:30:33.273677",
     "exception": false,
     "start_time": "2022-02-01T18:30:32.688519",
     "status": "completed"
    },
    "tags": []
   },
   "outputs": [
    {
     "name": "stdout",
     "output_type": "stream",
     "text": [
      "accuracy: \n",
      "0.6350385038503851\n",
      "f1: \n",
      "0.6290187307799833\n",
      "Roc score:\n",
      "0.6924540467887241\n",
      "Confusion matrix:\n",
      "[[1184  676]\n",
      " [ 651 1125]]\n"
     ]
    },
    {
     "data": {
      "image/png": "[encoded data removed]",
      "text/plain": [
       "<Figure size 432x288 with 1 Axes>"
      ]
     },
     "metadata": {
      "needs_background": "light"
     },
     "output_type": "display_data"
    }
   ],
   "source": [
    "model_finish = LogisticRegression(C=1,class_weight = None, dual = False, fit_intercept = True, intercept_scaling =  1, l1_ratio = None,\n",
    "                                  max_iter = 1000, multi_class = 'auto', n_jobs = None, penalty = 'none',random_state = None,\n",
    "                                  solver = 'newton-cg',tol = 0.001,verbose = 0, warm_start = False)\n",
    "model_finish.fit(X_train, Y_train)\n",
    "\n",
    "y_predict = model_finish.predict(X_valid)\n",
    "y_proba = model_finish.predict_proba(X_valid)[:,1]\n",
    "\n",
    "metrics_counter(Y_valid,y_predict,y_proba)\n"
   ]
  },
  {
   "cell_type": "code",
   "execution_count": 67,
   "id": "2cc540e3",
   "metadata": {
    "execution": {
     "iopub.execute_input": "2022-02-01T18:30:33.515480Z",
     "iopub.status.busy": "2022-02-01T18:30:33.514804Z",
     "iopub.status.idle": "2022-02-01T18:30:33.530358Z",
     "shell.execute_reply": "2022-02-01T18:30:33.529725Z",
     "shell.execute_reply.started": "2022-02-01T18:29:19.283900Z"
    },
    "papermill": {
     "duration": 0.137787,
     "end_time": "2022-02-01T18:30:33.530500",
     "exception": false,
     "start_time": "2022-02-01T18:30:33.392713",
     "status": "completed"
    },
    "tags": []
   },
   "outputs": [
    {
     "name": "stdout",
     "output_type": "stream",
     "text": [
      "              precision    recall  f1-score   support\n",
      "\n",
      "         0.0       0.65      0.64      0.64      1860\n",
      "         1.0       0.62      0.63      0.63      1776\n",
      "\n",
      "    accuracy                           0.64      3636\n",
      "   macro avg       0.63      0.64      0.63      3636\n",
      "weighted avg       0.64      0.64      0.64      3636\n",
      "\n"
     ]
    }
   ],
   "source": [
    "print(classification_report(Y_valid,y_predict))"
   ]
  },
  {
   "cell_type": "markdown",
   "id": "bc191014",
   "metadata": {
    "papermill": {
     "duration": 0.117944,
     "end_time": "2022-02-01T18:30:33.767086",
     "exception": false,
     "start_time": "2022-02-01T18:30:33.649142",
     "status": "completed"
    },
    "tags": []
   },
   "source": [
    "##### Итоги,сильно улучшить модель мы смогли лишь при помощи underfitting, в основном модель не менялась\n",
    "##### Как еще можно улучшить модель?\n",
    "##### Попытаться найти лучшие гиперпараметры и добавить/преобразить признаки."
   ]
  },
  {
   "cell_type": "markdown",
   "id": "bb5061bd",
   "metadata": {
    "papermill": {
     "duration": 0.119169,
     "end_time": "2022-02-01T18:30:34.004206",
     "exception": false,
     "start_time": "2022-02-01T18:30:33.885037",
     "status": "completed"
    },
    "tags": []
   },
   "source": [
    "### Submisson"
   ]
  },
  {
   "cell_type": "code",
   "execution_count": 68,
   "id": "a2868349",
   "metadata": {
    "execution": {
     "iopub.execute_input": "2022-02-01T18:30:34.250874Z",
     "iopub.status.busy": "2022-02-01T18:30:34.250211Z",
     "iopub.status.idle": "2022-02-01T18:30:34.410352Z",
     "shell.execute_reply": "2022-02-01T18:30:34.409581Z",
     "shell.execute_reply.started": "2022-02-01T18:29:19.303217Z"
    },
    "papermill": {
     "duration": 0.286859,
     "end_time": "2022-02-01T18:30:34.410501",
     "exception": false,
     "start_time": "2022-02-01T18:30:34.123642",
     "status": "completed"
    },
    "tags": []
   },
   "outputs": [],
   "source": [
    "tr_cut = 0.588\n",
    "X_test = df_test.drop(['client_id'], axis=1).values\n",
    "y_proba = model_finish.predict_proba(X_test)[:,1]\n",
    "df_test['default'] = y_proba\n",
    "df_test['default'] = df_test['default'].apply(lambda x: 1 if x >= tr_cut else 0)\n",
    "submission = df_test[['client_id','default']]\n",
    "submission.to_csv('submission.csv', index=False)"
   ]
  },
  {
   "cell_type": "code",
   "execution_count": 69,
   "id": "e6790903",
   "metadata": {
    "execution": {
     "iopub.execute_input": "2022-02-01T18:30:34.657783Z",
     "iopub.status.busy": "2022-02-01T18:30:34.657122Z",
     "iopub.status.idle": "2022-02-01T18:30:34.659688Z",
     "shell.execute_reply": "2022-02-01T18:30:34.660178Z",
     "shell.execute_reply.started": "2022-02-01T18:29:19.467901Z"
    },
    "papermill": {
     "duration": 0.1315,
     "end_time": "2022-02-01T18:30:34.660335",
     "exception": false,
     "start_time": "2022-02-01T18:30:34.528835",
     "status": "completed"
    },
    "tags": []
   },
   "outputs": [
    {
     "data": {
      "text/html": [
       "<div>\n",
       "<style scoped>\n",
       "    .dataframe tbody tr th:only-of-type {\n",
       "        vertical-align: middle;\n",
       "    }\n",
       "\n",
       "    .dataframe tbody tr th {\n",
       "        vertical-align: top;\n",
       "    }\n",
       "\n",
       "    .dataframe thead th {\n",
       "        text-align: right;\n",
       "    }\n",
       "</style>\n",
       "<table border=\"1\" class=\"dataframe\">\n",
       "  <thead>\n",
       "    <tr style=\"text-align: right;\">\n",
       "      <th></th>\n",
       "      <th>client_id</th>\n",
       "      <th>default</th>\n",
       "    </tr>\n",
       "  </thead>\n",
       "  <tbody>\n",
       "    <tr>\n",
       "      <th>0</th>\n",
       "      <td>74835</td>\n",
       "      <td>0</td>\n",
       "    </tr>\n",
       "    <tr>\n",
       "      <th>1</th>\n",
       "      <td>17527</td>\n",
       "      <td>1</td>\n",
       "    </tr>\n",
       "    <tr>\n",
       "      <th>2</th>\n",
       "      <td>75683</td>\n",
       "      <td>0</td>\n",
       "    </tr>\n",
       "    <tr>\n",
       "      <th>3</th>\n",
       "      <td>26883</td>\n",
       "      <td>0</td>\n",
       "    </tr>\n",
       "    <tr>\n",
       "      <th>4</th>\n",
       "      <td>28862</td>\n",
       "      <td>0</td>\n",
       "    </tr>\n",
       "    <tr>\n",
       "      <th>...</th>\n",
       "      <td>...</td>\n",
       "      <td>...</td>\n",
       "    </tr>\n",
       "    <tr>\n",
       "      <th>36344</th>\n",
       "      <td>83775</td>\n",
       "      <td>1</td>\n",
       "    </tr>\n",
       "    <tr>\n",
       "      <th>36345</th>\n",
       "      <td>106254</td>\n",
       "      <td>0</td>\n",
       "    </tr>\n",
       "    <tr>\n",
       "      <th>36346</th>\n",
       "      <td>81852</td>\n",
       "      <td>1</td>\n",
       "    </tr>\n",
       "    <tr>\n",
       "      <th>36347</th>\n",
       "      <td>1971</td>\n",
       "      <td>0</td>\n",
       "    </tr>\n",
       "    <tr>\n",
       "      <th>36348</th>\n",
       "      <td>69044</td>\n",
       "      <td>1</td>\n",
       "    </tr>\n",
       "  </tbody>\n",
       "</table>\n",
       "<p>36349 rows × 2 columns</p>\n",
       "</div>"
      ],
      "text/plain": [
       "       client_id  default\n",
       "0          74835        0\n",
       "1          17527        1\n",
       "2          75683        0\n",
       "3          26883        0\n",
       "4          28862        0\n",
       "...          ...      ...\n",
       "36344      83775        1\n",
       "36345     106254        0\n",
       "36346      81852        1\n",
       "36347       1971        0\n",
       "36348      69044        1\n",
       "\n",
       "[36349 rows x 2 columns]"
      ]
     },
     "execution_count": 69,
     "metadata": {},
     "output_type": "execute_result"
    }
   ],
   "source": [
    "submission"
   ]
  }
 ],
 "metadata": {
  "kernelspec": {
   "display_name": "Python 3",
   "language": "python",
   "name": "python3"
  },
  "language_info": {
   "codemirror_mode": {
    "name": "ipython",
    "version": 3
   },
   "file_extension": ".py",
   "mimetype": "text/x-python",
   "name": "python",
   "nbconvert_exporter": "python",
   "pygments_lexer": "ipython3",
   "version": "3.8.8"
  },
  "papermill": {
   "default_parameters": {},
   "duration": 47.079607,
   "end_time": "2022-02-01T18:30:35.488042",
   "environment_variables": {},
   "exception": null,
   "input_path": "__notebook__.ipynb",
   "output_path": "__notebook__.ipynb",
   "parameters": {},
   "start_time": "2022-02-01T18:29:48.408435",
   "version": "2.3.3"
  }
 },
 "nbformat": 4,
 "nbformat_minor": 5
}
