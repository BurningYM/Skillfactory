{
 "cells": [
  {
   "cell_type": "code",
   "execution_count": 1,
   "metadata": {
    "_cell_guid": "b1076dfc-b9ad-4769-8c92-a6c4dae69d19",
    "_uuid": "8f2839f25d086af736a60e9eeb907d3b93b6e0e5",
    "execution": {
     "iopub.execute_input": "2022-03-26T22:04:30.676212Z",
     "iopub.status.busy": "2022-03-26T22:04:30.675305Z",
     "iopub.status.idle": "2022-03-26T22:04:30.685780Z",
     "shell.execute_reply": "2022-03-26T22:04:30.684938Z",
     "shell.execute_reply.started": "2022-03-26T22:04:30.676149Z"
    }
   },
   "outputs": [],
   "source": [
    "import numpy as np  # linear algebra\n",
    "import pandas as pd  # data processing, CSV file I/O (e.g. pd.read_csv)\n",
    "import seaborn as sns\n",
    "import matplotlib.pyplot as plt\n",
    "import re\n",
    "from sklearn.feature_selection import f_classif\n",
    "from sklearn.feature_selection import mutual_info_classif\n",
    "from sklearn.preprocessing import OneHotEncoder, StandardScaler\n",
    "from sklearn.model_selection import train_test_split, KFold, RandomizedSearchCV, cross_val_score\n",
    "from sklearn.linear_model import LinearRegression\n",
    "from sklearn.tree import DecisionTreeRegressor\n",
    "from sklearn.ensemble import RandomForestRegressor, BaggingRegressor, ExtraTreesRegressor, AdaBoostRegressor, GradientBoostingRegressor, StackingRegressor\n",
    "from sklearn.metrics import mean_squared_error, make_scorer\n",
    "from tqdm.notebook import tqdm\n",
    "from catboost import CatBoostRegressor\n",
    "from sklearn.preprocessing import MinMaxScaler\n",
    "import xgboost as xgb"
   ]
  },
  {
   "cell_type": "code",
   "execution_count": 2,
   "metadata": {
    "execution": {
     "iopub.execute_input": "2022-03-26T22:04:30.688569Z",
     "iopub.status.busy": "2022-03-26T22:04:30.688084Z",
     "iopub.status.idle": "2022-03-26T22:04:30.698247Z",
     "shell.execute_reply": "2022-03-26T22:04:30.697432Z",
     "shell.execute_reply.started": "2022-03-26T22:04:30.688526Z"
    }
   },
   "outputs": [],
   "source": [
    "def num_check(col):  # визуализация и проверка выбросов числовых признаков\n",
    "    print('Выбросы для: ' + col)\n",
    "    data[col].hist(bins=25)\n",
    "    plt.show()\n",
    "    Q1 = data[col].quantile(0.25)\n",
    "    Q3 = data[col].quantile(0.75)\n",
    "    IQR = Q3 - Q1\n",
    "    data_min = Q1 - 1.5 * IQR\n",
    "    data_max = Q3 + 1.5 * IQR\n",
    "    data_sum = (data[col] < data_min).sum() + (data[col] > data_max).sum()\n",
    "    print(\"Всего выбросов:\", data_sum, \" Минимум:\",\n",
    "          data_min, \" Максимум:\", data_max)\n",
    "\n",
    "\n",
    "def mape(y_true, y_pred):\n",
    "    return np.mean(np.abs((y_pred-y_true)/y_true))"
   ]
  },
  {
   "cell_type": "code",
   "execution_count": 3,
   "metadata": {
    "execution": {
     "iopub.execute_input": "2022-03-26T22:04:30.699599Z",
     "iopub.status.busy": "2022-03-26T22:04:30.699282Z",
     "iopub.status.idle": "2022-03-26T22:04:30.711574Z",
     "shell.execute_reply": "2022-03-26T22:04:30.710889Z",
     "shell.execute_reply.started": "2022-03-26T22:04:30.699573Z"
    }
   },
   "outputs": [],
   "source": [
    "RANDOM_SEED = 37\n",
    "VAL_SIZE = 0.2"
   ]
  },
  {
   "cell_type": "markdown",
   "metadata": {},
   "source": [
    "# Setup"
   ]
  },
  {
   "cell_type": "code",
   "execution_count": 4,
   "metadata": {
    "execution": {
     "iopub.execute_input": "2022-03-26T22:04:30.713261Z",
     "iopub.status.busy": "2022-03-26T22:04:30.712796Z",
     "iopub.status.idle": "2022-03-26T22:04:37.083694Z",
     "shell.execute_reply": "2022-03-26T22:04:37.082684Z",
     "shell.execute_reply.started": "2022-03-26T22:04:30.713228Z"
    }
   },
   "outputs": [],
   "source": [
    "data_train = pd.read_csv('all_auto_ru_09_09_2020.csv')\n",
    "data_test = pd.read_csv('test.csv')\n",
    "sample_submission = pd.read_csv('sample_submission.csv')"
   ]
  },
  {
   "cell_type": "markdown",
   "metadata": {},
   "source": [
    "# EDA"
   ]
  },
  {
   "cell_type": "code",
   "execution_count": 5,
   "metadata": {
    "execution": {
     "iopub.execute_input": "2022-03-26T22:04:37.087126Z",
     "iopub.status.busy": "2022-03-26T22:04:37.086549Z",
     "iopub.status.idle": "2022-03-26T22:04:37.124187Z",
     "shell.execute_reply": "2022-03-26T22:04:37.123234Z",
     "shell.execute_reply.started": "2022-03-26T22:04:37.087075Z"
    }
   },
   "outputs": [
    {
     "data": {
      "text/html": [
       "<div>\n",
       "<style scoped>\n",
       "    .dataframe tbody tr th:only-of-type {\n",
       "        vertical-align: middle;\n",
       "    }\n",
       "\n",
       "    .dataframe tbody tr th {\n",
       "        vertical-align: top;\n",
       "    }\n",
       "\n",
       "    .dataframe thead th {\n",
       "        text-align: right;\n",
       "    }\n",
       "</style>\n",
       "<table border=\"1\" class=\"dataframe\">\n",
       "  <thead>\n",
       "    <tr style=\"text-align: right;\">\n",
       "      <th></th>\n",
       "      <th>bodyType</th>\n",
       "      <th>brand</th>\n",
       "      <th>color</th>\n",
       "      <th>fuelType</th>\n",
       "      <th>modelDate</th>\n",
       "      <th>name</th>\n",
       "      <th>numberOfDoors</th>\n",
       "      <th>productionDate</th>\n",
       "      <th>vehicleConfiguration</th>\n",
       "      <th>vehicleTransmission</th>\n",
       "      <th>...</th>\n",
       "      <th>Руль</th>\n",
       "      <th>Состояние</th>\n",
       "      <th>Владельцы</th>\n",
       "      <th>ПТС</th>\n",
       "      <th>Таможня</th>\n",
       "      <th>Владение</th>\n",
       "      <th>price</th>\n",
       "      <th>start_date</th>\n",
       "      <th>hidden</th>\n",
       "      <th>model</th>\n",
       "    </tr>\n",
       "  </thead>\n",
       "  <tbody>\n",
       "    <tr>\n",
       "      <th>0</th>\n",
       "      <td>Седан</td>\n",
       "      <td>AUDI</td>\n",
       "      <td>040001</td>\n",
       "      <td>бензин</td>\n",
       "      <td>1990.0</td>\n",
       "      <td>2.8 MT (174 л.с.) 4WD</td>\n",
       "      <td>4.0</td>\n",
       "      <td>1991</td>\n",
       "      <td>SEDAN MECHANICAL 2.8</td>\n",
       "      <td>MECHANICAL</td>\n",
       "      <td>...</td>\n",
       "      <td>LEFT</td>\n",
       "      <td>NaN</td>\n",
       "      <td>3.0</td>\n",
       "      <td>ORIGINAL</td>\n",
       "      <td>True</td>\n",
       "      <td>NaN</td>\n",
       "      <td>200000.0</td>\n",
       "      <td>2019-10-03T08:09:11Z</td>\n",
       "      <td>NaN</td>\n",
       "      <td>100</td>\n",
       "    </tr>\n",
       "    <tr>\n",
       "      <th>1</th>\n",
       "      <td>Седан</td>\n",
       "      <td>AUDI</td>\n",
       "      <td>EE1D19</td>\n",
       "      <td>бензин</td>\n",
       "      <td>1982.0</td>\n",
       "      <td>1.8 MT (90 л.с.)</td>\n",
       "      <td>4.0</td>\n",
       "      <td>1986</td>\n",
       "      <td>SEDAN MECHANICAL 1.8</td>\n",
       "      <td>MECHANICAL</td>\n",
       "      <td>...</td>\n",
       "      <td>LEFT</td>\n",
       "      <td>NaN</td>\n",
       "      <td>3.0</td>\n",
       "      <td>ORIGINAL</td>\n",
       "      <td>True</td>\n",
       "      <td>NaN</td>\n",
       "      <td>60000.0</td>\n",
       "      <td>2020-09-06T06:49:40Z</td>\n",
       "      <td>NaN</td>\n",
       "      <td>100</td>\n",
       "    </tr>\n",
       "    <tr>\n",
       "      <th>2</th>\n",
       "      <td>Универсал 5 дв.</td>\n",
       "      <td>AUDI</td>\n",
       "      <td>0000CC</td>\n",
       "      <td>бензин</td>\n",
       "      <td>1988.0</td>\n",
       "      <td>2.3 MT (136 л.с.) 4WD</td>\n",
       "      <td>5.0</td>\n",
       "      <td>1989</td>\n",
       "      <td>WAGON_5_DOORS MECHANICAL 2.3</td>\n",
       "      <td>MECHANICAL</td>\n",
       "      <td>...</td>\n",
       "      <td>LEFT</td>\n",
       "      <td>NaN</td>\n",
       "      <td>3.0</td>\n",
       "      <td>ORIGINAL</td>\n",
       "      <td>True</td>\n",
       "      <td>NaN</td>\n",
       "      <td>99000.0</td>\n",
       "      <td>2020-09-02T14:04:21Z</td>\n",
       "      <td>NaN</td>\n",
       "      <td>100</td>\n",
       "    </tr>\n",
       "    <tr>\n",
       "      <th>3</th>\n",
       "      <td>Седан</td>\n",
       "      <td>AUDI</td>\n",
       "      <td>CACECB</td>\n",
       "      <td>бензин</td>\n",
       "      <td>1988.0</td>\n",
       "      <td>1.8 MT (90 л.с.)</td>\n",
       "      <td>4.0</td>\n",
       "      <td>1989</td>\n",
       "      <td>SEDAN MECHANICAL 1.8</td>\n",
       "      <td>MECHANICAL</td>\n",
       "      <td>...</td>\n",
       "      <td>LEFT</td>\n",
       "      <td>NaN</td>\n",
       "      <td>3.0</td>\n",
       "      <td>ORIGINAL</td>\n",
       "      <td>True</td>\n",
       "      <td>NaN</td>\n",
       "      <td>65000.0</td>\n",
       "      <td>2020-08-23T17:40:09Z</td>\n",
       "      <td>NaN</td>\n",
       "      <td>100</td>\n",
       "    </tr>\n",
       "    <tr>\n",
       "      <th>4</th>\n",
       "      <td>Седан</td>\n",
       "      <td>AUDI</td>\n",
       "      <td>040001</td>\n",
       "      <td>бензин</td>\n",
       "      <td>1990.0</td>\n",
       "      <td>2.0 MT (101 л.с.)</td>\n",
       "      <td>4.0</td>\n",
       "      <td>1991</td>\n",
       "      <td>SEDAN MECHANICAL 2.0</td>\n",
       "      <td>MECHANICAL</td>\n",
       "      <td>...</td>\n",
       "      <td>LEFT</td>\n",
       "      <td>NaN</td>\n",
       "      <td>3.0</td>\n",
       "      <td>DUPLICATE</td>\n",
       "      <td>True</td>\n",
       "      <td>NaN</td>\n",
       "      <td>100000.0</td>\n",
       "      <td>2020-09-08T09:22:07Z</td>\n",
       "      <td>NaN</td>\n",
       "      <td>100</td>\n",
       "    </tr>\n",
       "  </tbody>\n",
       "</table>\n",
       "<p>5 rows × 26 columns</p>\n",
       "</div>"
      ],
      "text/plain": [
       "          bodyType brand   color fuelType  modelDate                   name  \\\n",
       "0            Седан  AUDI  040001   бензин     1990.0  2.8 MT (174 л.с.) 4WD   \n",
       "1            Седан  AUDI  EE1D19   бензин     1982.0       1.8 MT (90 л.с.)   \n",
       "2  Универсал 5 дв.  AUDI  0000CC   бензин     1988.0  2.3 MT (136 л.с.) 4WD   \n",
       "3            Седан  AUDI  CACECB   бензин     1988.0       1.8 MT (90 л.с.)   \n",
       "4            Седан  AUDI  040001   бензин     1990.0      2.0 MT (101 л.с.)   \n",
       "\n",
       "   numberOfDoors  productionDate          vehicleConfiguration  \\\n",
       "0            4.0            1991          SEDAN MECHANICAL 2.8   \n",
       "1            4.0            1986          SEDAN MECHANICAL 1.8   \n",
       "2            5.0            1989  WAGON_5_DOORS MECHANICAL 2.3   \n",
       "3            4.0            1989          SEDAN MECHANICAL 1.8   \n",
       "4            4.0            1991          SEDAN MECHANICAL 2.0   \n",
       "\n",
       "  vehicleTransmission  ...  Руль  Состояние Владельцы        ПТС Таможня  \\\n",
       "0          MECHANICAL  ...  LEFT        NaN       3.0   ORIGINAL    True   \n",
       "1          MECHANICAL  ...  LEFT        NaN       3.0   ORIGINAL    True   \n",
       "2          MECHANICAL  ...  LEFT        NaN       3.0   ORIGINAL    True   \n",
       "3          MECHANICAL  ...  LEFT        NaN       3.0   ORIGINAL    True   \n",
       "4          MECHANICAL  ...  LEFT        NaN       3.0  DUPLICATE    True   \n",
       "\n",
       "  Владение     price            start_date  hidden model  \n",
       "0      NaN  200000.0  2019-10-03T08:09:11Z     NaN   100  \n",
       "1      NaN   60000.0  2020-09-06T06:49:40Z     NaN   100  \n",
       "2      NaN   99000.0  2020-09-02T14:04:21Z     NaN   100  \n",
       "3      NaN   65000.0  2020-08-23T17:40:09Z     NaN   100  \n",
       "4      NaN  100000.0  2020-09-08T09:22:07Z     NaN   100  \n",
       "\n",
       "[5 rows x 26 columns]"
      ]
     },
     "execution_count": 5,
     "metadata": {},
     "output_type": "execute_result"
    }
   ],
   "source": [
    "data_train.head()"
   ]
  },
  {
   "cell_type": "code",
   "execution_count": 6,
   "metadata": {
    "execution": {
     "iopub.execute_input": "2022-03-26T22:04:37.128951Z",
     "iopub.status.busy": "2022-03-26T22:04:37.125605Z",
     "iopub.status.idle": "2022-03-26T22:04:37.302096Z",
     "shell.execute_reply": "2022-03-26T22:04:37.301392Z",
     "shell.execute_reply.started": "2022-03-26T22:04:37.128908Z"
    }
   },
   "outputs": [
    {
     "name": "stdout",
     "output_type": "stream",
     "text": [
      "<class 'pandas.core.frame.DataFrame'>\n",
      "RangeIndex: 89378 entries, 0 to 89377\n",
      "Data columns (total 26 columns):\n",
      " #   Column                Non-Null Count  Dtype  \n",
      "---  ------                --------------  -----  \n",
      " 0   bodyType              89377 non-null  object \n",
      " 1   brand                 89378 non-null  object \n",
      " 2   color                 89378 non-null  object \n",
      " 3   fuelType              89378 non-null  object \n",
      " 4   modelDate             89377 non-null  float64\n",
      " 5   name                  89377 non-null  object \n",
      " 6   numberOfDoors         89377 non-null  float64\n",
      " 7   productionDate        89378 non-null  int64  \n",
      " 8   vehicleConfiguration  89377 non-null  object \n",
      " 9   vehicleTransmission   89377 non-null  object \n",
      " 10  engineDisplacement    89377 non-null  object \n",
      " 11  enginePower           89377 non-null  float64\n",
      " 12  description           86124 non-null  object \n",
      " 13  mileage               89378 non-null  int64  \n",
      " 14  Комплектация          89378 non-null  object \n",
      " 15  Привод                89377 non-null  object \n",
      " 16  Руль                  89378 non-null  object \n",
      " 17  Состояние             0 non-null      float64\n",
      " 18  Владельцы             75790 non-null  float64\n",
      " 19  ПТС                   89017 non-null  object \n",
      " 20  Таможня               89378 non-null  bool   \n",
      " 21  Владение              29201 non-null  object \n",
      " 22  price                 88968 non-null  float64\n",
      " 23  start_date            89378 non-null  object \n",
      " 24  hidden                0 non-null      float64\n",
      " 25  model                 89378 non-null  object \n",
      "dtypes: bool(1), float64(7), int64(2), object(16)\n",
      "memory usage: 17.1+ MB\n"
     ]
    }
   ],
   "source": [
    "data_train.info()"
   ]
  },
  {
   "cell_type": "markdown",
   "metadata": {},
   "source": [
    "в прайсе присутсвуют нулевые значения, удалим их до объединения датасетов"
   ]
  },
  {
   "cell_type": "code",
   "execution_count": 7,
   "metadata": {
    "execution": {
     "iopub.execute_input": "2022-03-26T22:04:37.303782Z",
     "iopub.status.busy": "2022-03-26T22:04:37.303303Z",
     "iopub.status.idle": "2022-03-26T22:04:37.333298Z",
     "shell.execute_reply": "2022-03-26T22:04:37.332138Z",
     "shell.execute_reply.started": "2022-03-26T22:04:37.303741Z"
    }
   },
   "outputs": [],
   "source": [
    "data_train = data_train[pd.notna(data_train['price'])]"
   ]
  },
  {
   "cell_type": "code",
   "execution_count": 8,
   "metadata": {
    "execution": {
     "iopub.execute_input": "2022-03-26T22:04:37.334692Z",
     "iopub.status.busy": "2022-03-26T22:04:37.334440Z",
     "iopub.status.idle": "2022-03-26T22:04:37.364692Z",
     "shell.execute_reply": "2022-03-26T22:04:37.363857Z",
     "shell.execute_reply.started": "2022-03-26T22:04:37.334643Z"
    }
   },
   "outputs": [
    {
     "data": {
      "text/html": [
       "<div>\n",
       "<style scoped>\n",
       "    .dataframe tbody tr th:only-of-type {\n",
       "        vertical-align: middle;\n",
       "    }\n",
       "\n",
       "    .dataframe tbody tr th {\n",
       "        vertical-align: top;\n",
       "    }\n",
       "\n",
       "    .dataframe thead th {\n",
       "        text-align: right;\n",
       "    }\n",
       "</style>\n",
       "<table border=\"1\" class=\"dataframe\">\n",
       "  <thead>\n",
       "    <tr style=\"text-align: right;\">\n",
       "      <th></th>\n",
       "      <th>bodyType</th>\n",
       "      <th>brand</th>\n",
       "      <th>car_url</th>\n",
       "      <th>color</th>\n",
       "      <th>complectation_dict</th>\n",
       "      <th>description</th>\n",
       "      <th>engineDisplacement</th>\n",
       "      <th>enginePower</th>\n",
       "      <th>equipment_dict</th>\n",
       "      <th>fuelType</th>\n",
       "      <th>...</th>\n",
       "      <th>vehicleConfiguration</th>\n",
       "      <th>vehicleTransmission</th>\n",
       "      <th>vendor</th>\n",
       "      <th>Владельцы</th>\n",
       "      <th>Владение</th>\n",
       "      <th>ПТС</th>\n",
       "      <th>Привод</th>\n",
       "      <th>Руль</th>\n",
       "      <th>Состояние</th>\n",
       "      <th>Таможня</th>\n",
       "    </tr>\n",
       "  </thead>\n",
       "  <tbody>\n",
       "    <tr>\n",
       "      <th>0</th>\n",
       "      <td>лифтбек</td>\n",
       "      <td>SKODA</td>\n",
       "      <td>https://auto.ru/cars/used/sale/skoda/octavia/1...</td>\n",
       "      <td>синий</td>\n",
       "      <td>NaN</td>\n",
       "      <td>Все автомобили, представленные в продаже, прох...</td>\n",
       "      <td>1.2 LTR</td>\n",
       "      <td>105 N12</td>\n",
       "      <td>{\"engine-proof\":true,\"tinted-glass\":true,\"airb...</td>\n",
       "      <td>бензин</td>\n",
       "      <td>...</td>\n",
       "      <td>LIFTBACK ROBOT 1.2</td>\n",
       "      <td>роботизированная</td>\n",
       "      <td>EUROPEAN</td>\n",
       "      <td>3 или более</td>\n",
       "      <td>NaN</td>\n",
       "      <td>Оригинал</td>\n",
       "      <td>передний</td>\n",
       "      <td>Левый</td>\n",
       "      <td>Не требует ремонта</td>\n",
       "      <td>Растаможен</td>\n",
       "    </tr>\n",
       "    <tr>\n",
       "      <th>1</th>\n",
       "      <td>лифтбек</td>\n",
       "      <td>SKODA</td>\n",
       "      <td>https://auto.ru/cars/used/sale/skoda/octavia/1...</td>\n",
       "      <td>чёрный</td>\n",
       "      <td>NaN</td>\n",
       "      <td>ЛОТ: 01217195\\nАвтопрага Север\\nДанный автомоб...</td>\n",
       "      <td>1.6 LTR</td>\n",
       "      <td>110 N12</td>\n",
       "      <td>{\"cruise-control\":true,\"asr\":true,\"esp\":true,\"...</td>\n",
       "      <td>бензин</td>\n",
       "      <td>...</td>\n",
       "      <td>LIFTBACK MECHANICAL 1.6</td>\n",
       "      <td>механическая</td>\n",
       "      <td>EUROPEAN</td>\n",
       "      <td>1 владелец</td>\n",
       "      <td>NaN</td>\n",
       "      <td>Оригинал</td>\n",
       "      <td>передний</td>\n",
       "      <td>Левый</td>\n",
       "      <td>Не требует ремонта</td>\n",
       "      <td>Растаможен</td>\n",
       "    </tr>\n",
       "    <tr>\n",
       "      <th>2</th>\n",
       "      <td>лифтбек</td>\n",
       "      <td>SKODA</td>\n",
       "      <td>https://auto.ru/cars/used/sale/skoda/superb/11...</td>\n",
       "      <td>серый</td>\n",
       "      <td>{\"id\":\"20026336\",\"name\":\"Ambition\",\"available_...</td>\n",
       "      <td>Все автомобили, представленные в продаже, прох...</td>\n",
       "      <td>1.8 LTR</td>\n",
       "      <td>152 N12</td>\n",
       "      <td>{\"cruise-control\":true,\"tinted-glass\":true,\"es...</td>\n",
       "      <td>бензин</td>\n",
       "      <td>...</td>\n",
       "      <td>LIFTBACK ROBOT 1.8</td>\n",
       "      <td>роботизированная</td>\n",
       "      <td>EUROPEAN</td>\n",
       "      <td>1 владелец</td>\n",
       "      <td>NaN</td>\n",
       "      <td>Оригинал</td>\n",
       "      <td>передний</td>\n",
       "      <td>Левый</td>\n",
       "      <td>Не требует ремонта</td>\n",
       "      <td>Растаможен</td>\n",
       "    </tr>\n",
       "    <tr>\n",
       "      <th>3</th>\n",
       "      <td>лифтбек</td>\n",
       "      <td>SKODA</td>\n",
       "      <td>https://auto.ru/cars/used/sale/skoda/octavia/1...</td>\n",
       "      <td>коричневый</td>\n",
       "      <td>{\"id\":\"20803582\",\"name\":\"Ambition\",\"available_...</td>\n",
       "      <td>КОМПЛЕКТ ЗИМНЕЙ (ЛЕТНЕЙ) РЕЗИНЫ ПО СЕЗОНУ В ПО...</td>\n",
       "      <td>1.6 LTR</td>\n",
       "      <td>110 N12</td>\n",
       "      <td>{\"cruise-control\":true,\"roller-blind-for-rear-...</td>\n",
       "      <td>бензин</td>\n",
       "      <td>...</td>\n",
       "      <td>LIFTBACK AUTOMATIC 1.6</td>\n",
       "      <td>автоматическая</td>\n",
       "      <td>EUROPEAN</td>\n",
       "      <td>1 владелец</td>\n",
       "      <td>NaN</td>\n",
       "      <td>Оригинал</td>\n",
       "      <td>передний</td>\n",
       "      <td>Левый</td>\n",
       "      <td>Не требует ремонта</td>\n",
       "      <td>Растаможен</td>\n",
       "    </tr>\n",
       "    <tr>\n",
       "      <th>4</th>\n",
       "      <td>лифтбек</td>\n",
       "      <td>SKODA</td>\n",
       "      <td>https://auto.ru/cars/used/sale/skoda/octavia/1...</td>\n",
       "      <td>белый</td>\n",
       "      <td>NaN</td>\n",
       "      <td>ЛОТ: 01220889\\nАвтопрага Север\\n\\nВы можете по...</td>\n",
       "      <td>1.8 LTR</td>\n",
       "      <td>152 N12</td>\n",
       "      <td>{\"cruise-control\":true,\"asr\":true,\"esp\":true,\"...</td>\n",
       "      <td>бензин</td>\n",
       "      <td>...</td>\n",
       "      <td>LIFTBACK AUTOMATIC 1.8</td>\n",
       "      <td>автоматическая</td>\n",
       "      <td>EUROPEAN</td>\n",
       "      <td>1 владелец</td>\n",
       "      <td>NaN</td>\n",
       "      <td>Оригинал</td>\n",
       "      <td>передний</td>\n",
       "      <td>Левый</td>\n",
       "      <td>Не требует ремонта</td>\n",
       "      <td>Растаможен</td>\n",
       "    </tr>\n",
       "  </tbody>\n",
       "</table>\n",
       "<p>5 rows × 32 columns</p>\n",
       "</div>"
      ],
      "text/plain": [
       "  bodyType  brand                                            car_url  \\\n",
       "0  лифтбек  SKODA  https://auto.ru/cars/used/sale/skoda/octavia/1...   \n",
       "1  лифтбек  SKODA  https://auto.ru/cars/used/sale/skoda/octavia/1...   \n",
       "2  лифтбек  SKODA  https://auto.ru/cars/used/sale/skoda/superb/11...   \n",
       "3  лифтбек  SKODA  https://auto.ru/cars/used/sale/skoda/octavia/1...   \n",
       "4  лифтбек  SKODA  https://auto.ru/cars/used/sale/skoda/octavia/1...   \n",
       "\n",
       "        color                                 complectation_dict  \\\n",
       "0       синий                                                NaN   \n",
       "1      чёрный                                                NaN   \n",
       "2       серый  {\"id\":\"20026336\",\"name\":\"Ambition\",\"available_...   \n",
       "3  коричневый  {\"id\":\"20803582\",\"name\":\"Ambition\",\"available_...   \n",
       "4       белый                                                NaN   \n",
       "\n",
       "                                         description engineDisplacement  \\\n",
       "0  Все автомобили, представленные в продаже, прох...            1.2 LTR   \n",
       "1  ЛОТ: 01217195\\nАвтопрага Север\\nДанный автомоб...            1.6 LTR   \n",
       "2  Все автомобили, представленные в продаже, прох...            1.8 LTR   \n",
       "3  КОМПЛЕКТ ЗИМНЕЙ (ЛЕТНЕЙ) РЕЗИНЫ ПО СЕЗОНУ В ПО...            1.6 LTR   \n",
       "4  ЛОТ: 01220889\\nАвтопрага Север\\n\\nВы можете по...            1.8 LTR   \n",
       "\n",
       "  enginePower                                     equipment_dict fuelType  \\\n",
       "0     105 N12  {\"engine-proof\":true,\"tinted-glass\":true,\"airb...   бензин   \n",
       "1     110 N12  {\"cruise-control\":true,\"asr\":true,\"esp\":true,\"...   бензин   \n",
       "2     152 N12  {\"cruise-control\":true,\"tinted-glass\":true,\"es...   бензин   \n",
       "3     110 N12  {\"cruise-control\":true,\"roller-blind-for-rear-...   бензин   \n",
       "4     152 N12  {\"cruise-control\":true,\"asr\":true,\"esp\":true,\"...   бензин   \n",
       "\n",
       "   ...     vehicleConfiguration  vehicleTransmission    vendor    Владельцы  \\\n",
       "0  ...       LIFTBACK ROBOT 1.2     роботизированная  EUROPEAN  3 или более   \n",
       "1  ...  LIFTBACK MECHANICAL 1.6         механическая  EUROPEAN   1 владелец   \n",
       "2  ...       LIFTBACK ROBOT 1.8     роботизированная  EUROPEAN   1 владелец   \n",
       "3  ...   LIFTBACK AUTOMATIC 1.6       автоматическая  EUROPEAN   1 владелец   \n",
       "4  ...   LIFTBACK AUTOMATIC 1.8       автоматическая  EUROPEAN   1 владелец   \n",
       "\n",
       "  Владение       ПТС    Привод   Руль           Состояние     Таможня  \n",
       "0      NaN  Оригинал  передний  Левый  Не требует ремонта  Растаможен  \n",
       "1      NaN  Оригинал  передний  Левый  Не требует ремонта  Растаможен  \n",
       "2      NaN  Оригинал  передний  Левый  Не требует ремонта  Растаможен  \n",
       "3      NaN  Оригинал  передний  Левый  Не требует ремонта  Растаможен  \n",
       "4      NaN  Оригинал  передний  Левый  Не требует ремонта  Растаможен  \n",
       "\n",
       "[5 rows x 32 columns]"
      ]
     },
     "execution_count": 8,
     "metadata": {},
     "output_type": "execute_result"
    }
   ],
   "source": [
    "data_test.head()"
   ]
  },
  {
   "cell_type": "code",
   "execution_count": 9,
   "metadata": {
    "execution": {
     "iopub.execute_input": "2022-03-26T22:04:37.367203Z",
     "iopub.status.busy": "2022-03-26T22:04:37.366193Z",
     "iopub.status.idle": "2022-03-26T22:04:37.493280Z",
     "shell.execute_reply": "2022-03-26T22:04:37.492336Z",
     "shell.execute_reply.started": "2022-03-26T22:04:37.367155Z"
    }
   },
   "outputs": [
    {
     "name": "stdout",
     "output_type": "stream",
     "text": [
      "<class 'pandas.core.frame.DataFrame'>\n",
      "RangeIndex: 34686 entries, 0 to 34685\n",
      "Data columns (total 32 columns):\n",
      " #   Column                Non-Null Count  Dtype \n",
      "---  ------                --------------  ----- \n",
      " 0   bodyType              34686 non-null  object\n",
      " 1   brand                 34686 non-null  object\n",
      " 2   car_url               34686 non-null  object\n",
      " 3   color                 34686 non-null  object\n",
      " 4   complectation_dict    6418 non-null   object\n",
      " 5   description           34686 non-null  object\n",
      " 6   engineDisplacement    34686 non-null  object\n",
      " 7   enginePower           34686 non-null  object\n",
      " 8   equipment_dict        24690 non-null  object\n",
      " 9   fuelType              34686 non-null  object\n",
      " 10  image                 34686 non-null  object\n",
      " 11  mileage               34686 non-null  int64 \n",
      " 12  modelDate             34686 non-null  int64 \n",
      " 13  model_info            34686 non-null  object\n",
      " 14  model_name            34686 non-null  object\n",
      " 15  name                  34686 non-null  object\n",
      " 16  numberOfDoors         34686 non-null  int64 \n",
      " 17  parsing_unixtime      34686 non-null  int64 \n",
      " 18  priceCurrency         34686 non-null  object\n",
      " 19  productionDate        34686 non-null  int64 \n",
      " 20  sell_id               34686 non-null  int64 \n",
      " 21  super_gen             34686 non-null  object\n",
      " 22  vehicleConfiguration  34686 non-null  object\n",
      " 23  vehicleTransmission   34686 non-null  object\n",
      " 24  vendor                34686 non-null  object\n",
      " 25  Владельцы             34686 non-null  object\n",
      " 26  Владение              11995 non-null  object\n",
      " 27  ПТС                   34685 non-null  object\n",
      " 28  Привод                34686 non-null  object\n",
      " 29  Руль                  34686 non-null  object\n",
      " 30  Состояние             34686 non-null  object\n",
      " 31  Таможня               34686 non-null  object\n",
      "dtypes: int64(6), object(26)\n",
      "memory usage: 8.5+ MB\n"
     ]
    }
   ],
   "source": [
    "data_test.info()"
   ]
  },
  {
   "cell_type": "code",
   "execution_count": 10,
   "metadata": {
    "execution": {
     "iopub.execute_input": "2022-03-26T22:04:37.495290Z",
     "iopub.status.busy": "2022-03-26T22:04:37.494642Z",
     "iopub.status.idle": "2022-03-26T22:04:37.504796Z",
     "shell.execute_reply": "2022-03-26T22:04:37.503650Z",
     "shell.execute_reply.started": "2022-03-26T22:04:37.495240Z"
    }
   },
   "outputs": [
    {
     "data": {
      "text/html": [
       "<div>\n",
       "<style scoped>\n",
       "    .dataframe tbody tr th:only-of-type {\n",
       "        vertical-align: middle;\n",
       "    }\n",
       "\n",
       "    .dataframe tbody tr th {\n",
       "        vertical-align: top;\n",
       "    }\n",
       "\n",
       "    .dataframe thead th {\n",
       "        text-align: right;\n",
       "    }\n",
       "</style>\n",
       "<table border=\"1\" class=\"dataframe\">\n",
       "  <thead>\n",
       "    <tr style=\"text-align: right;\">\n",
       "      <th></th>\n",
       "      <th>sell_id</th>\n",
       "      <th>price</th>\n",
       "    </tr>\n",
       "  </thead>\n",
       "  <tbody>\n",
       "    <tr>\n",
       "      <th>0</th>\n",
       "      <td>1100575026</td>\n",
       "      <td>0</td>\n",
       "    </tr>\n",
       "    <tr>\n",
       "      <th>1</th>\n",
       "      <td>1100549428</td>\n",
       "      <td>0</td>\n",
       "    </tr>\n",
       "    <tr>\n",
       "      <th>2</th>\n",
       "      <td>1100658222</td>\n",
       "      <td>0</td>\n",
       "    </tr>\n",
       "    <tr>\n",
       "      <th>3</th>\n",
       "      <td>1100937408</td>\n",
       "      <td>0</td>\n",
       "    </tr>\n",
       "    <tr>\n",
       "      <th>4</th>\n",
       "      <td>1101037972</td>\n",
       "      <td>0</td>\n",
       "    </tr>\n",
       "  </tbody>\n",
       "</table>\n",
       "</div>"
      ],
      "text/plain": [
       "      sell_id  price\n",
       "0  1100575026      0\n",
       "1  1100549428      0\n",
       "2  1100658222      0\n",
       "3  1100937408      0\n",
       "4  1101037972      0"
      ]
     },
     "execution_count": 10,
     "metadata": {},
     "output_type": "execute_result"
    }
   ],
   "source": [
    "sample_submission.head()"
   ]
  },
  {
   "cell_type": "markdown",
   "metadata": {},
   "source": [
    "### Легко видеть разное колличество колонок, посмотрим какие различаются\n",
    "#### Уникальные колонки у train:"
   ]
  },
  {
   "cell_type": "code",
   "execution_count": 11,
   "metadata": {
    "execution": {
     "iopub.execute_input": "2022-03-26T22:04:37.506734Z",
     "iopub.status.busy": "2022-03-26T22:04:37.506331Z",
     "iopub.status.idle": "2022-03-26T22:04:37.518904Z",
     "shell.execute_reply": "2022-03-26T22:04:37.518090Z",
     "shell.execute_reply.started": "2022-03-26T22:04:37.506696Z"
    }
   },
   "outputs": [
    {
     "data": {
      "text/plain": [
       "{'hidden', 'model', 'price', 'start_date', 'Комплектация'}"
      ]
     },
     "execution_count": 11,
     "metadata": {},
     "output_type": "execute_result"
    }
   ],
   "source": [
    "set(data_train.columns).difference(data_test.columns)"
   ]
  },
  {
   "cell_type": "markdown",
   "metadata": {},
   "source": [
    "#### Уникальные колонки у test:"
   ]
  },
  {
   "cell_type": "code",
   "execution_count": 12,
   "metadata": {
    "execution": {
     "iopub.execute_input": "2022-03-26T22:04:37.520438Z",
     "iopub.status.busy": "2022-03-26T22:04:37.520191Z",
     "iopub.status.idle": "2022-03-26T22:04:37.531808Z",
     "shell.execute_reply": "2022-03-26T22:04:37.531173Z",
     "shell.execute_reply.started": "2022-03-26T22:04:37.520396Z"
    }
   },
   "outputs": [
    {
     "data": {
      "text/plain": [
       "{'car_url',\n",
       " 'complectation_dict',\n",
       " 'equipment_dict',\n",
       " 'image',\n",
       " 'model_info',\n",
       " 'model_name',\n",
       " 'parsing_unixtime',\n",
       " 'priceCurrency',\n",
       " 'sell_id',\n",
       " 'super_gen',\n",
       " 'vendor'}"
      ]
     },
     "execution_count": 12,
     "metadata": {},
     "output_type": "execute_result"
    }
   ],
   "source": [
    "set(data_test.columns).difference(data_train.columns)"
   ]
  },
  {
   "cell_type": "markdown",
   "metadata": {},
   "source": [
    "### На данном этапе ознакомившись с датасетами можно выделить:\n",
    "\n",
    "1) hiden - пустой столбец и от него можно избавиться за ненадобностью \n",
    "\n",
    "2) model и model_name один и тот же признак\n",
    "\n",
    "3) price - который нам нужен есть только в train, что нормально, ведь нам нет нужды обучать модель на тестовой выборке\n",
    "\n",
    "4) комплектация и complectation_dict - один и тот же признак, который сам по себе нам не сильно поможет, но из него можно будет вырвать дополнительные признаки\n",
    "\n",
    "5) start_date - так же как и parsing_unixtime является признаком со временем, вероятно стоит взглянуть на них поближе, отдельно\n",
    "\n",
    "6) car_url - ссылка на страницу продажи автомобиля, для обучения бесполезна\n",
    "\n",
    "7) equipment_dict - второй словарь в которого нет альтернативы в train, так что от него избавимся\n",
    "\n",
    "8) image - ссылка на фото машины, избавляемся\n",
    "\n",
    "9) model_info - дополнительная и не особо нужная информация  названии модели, которой нет в test, избавляемся\n",
    "\n",
    "10) priceCurrency - признак который мог бы быть проблемой, если бы все продажи не происходили в рублях, избавляемся\n",
    "\n",
    "11) sell_id - не нужен при обучении, но нужен для сабмишена\n",
    "\n",
    "12) super_gen - словарь который судя по всему описывает двигатель, уже \"разобран\" на признаки типа fuelType и enginePower, удалим за ненадобностью\n",
    "\n",
    "13) vendor - место в котором машина была произведина, лишь 2 варианта япония и европа, в целом признак интересный, вероятно стоит попробывать заполнить пропуски используя названия машин\n",
    "\n",
    "#### Удалим/переименуем столбцы"
   ]
  },
  {
   "cell_type": "code",
   "execution_count": 13,
   "metadata": {
    "execution": {
     "iopub.execute_input": "2022-03-26T22:04:37.533308Z",
     "iopub.status.busy": "2022-03-26T22:04:37.532802Z",
     "iopub.status.idle": "2022-03-26T22:04:37.564238Z",
     "shell.execute_reply": "2022-03-26T22:04:37.563387Z",
     "shell.execute_reply.started": "2022-03-26T22:04:37.533270Z"
    }
   },
   "outputs": [],
   "source": [
    "data_train = data_train.drop(['hidden'], axis=1)\n",
    "data_train.rename(columns={'Комплектация': 'complectation_dict'}, inplace=True)"
   ]
  },
  {
   "cell_type": "code",
   "execution_count": 14,
   "metadata": {
    "execution": {
     "iopub.execute_input": "2022-03-26T22:04:37.567900Z",
     "iopub.status.busy": "2022-03-26T22:04:37.567622Z",
     "iopub.status.idle": "2022-03-26T22:04:37.581236Z",
     "shell.execute_reply": "2022-03-26T22:04:37.580203Z",
     "shell.execute_reply.started": "2022-03-26T22:04:37.567866Z"
    }
   },
   "outputs": [],
   "source": [
    "data_test = data_test.drop(['car_url', 'equipment_dict', 'image',\n",
    "                           'model_info', 'priceCurrency', 'super_gen'], axis=1)\n",
    "data_test.rename(columns={'model_name': 'model'}, inplace=True)"
   ]
  },
  {
   "cell_type": "markdown",
   "metadata": {},
   "source": [
    "### Признаки start_date и parsing_unixtime"
   ]
  },
  {
   "cell_type": "code",
   "execution_count": 15,
   "metadata": {
    "execution": {
     "iopub.execute_input": "2022-03-26T22:04:37.582807Z",
     "iopub.status.busy": "2022-03-26T22:04:37.582446Z",
     "iopub.status.idle": "2022-03-26T22:04:37.592295Z",
     "shell.execute_reply": "2022-03-26T22:04:37.591354Z",
     "shell.execute_reply.started": "2022-03-26T22:04:37.582774Z"
    }
   },
   "outputs": [],
   "source": [
    "data_test['parsing_unixtime'] = pd.to_datetime(\n",
    "    data_test['parsing_unixtime'], unit='s')"
   ]
  },
  {
   "cell_type": "code",
   "execution_count": 16,
   "metadata": {
    "execution": {
     "iopub.execute_input": "2022-03-26T22:04:37.594218Z",
     "iopub.status.busy": "2022-03-26T22:04:37.593691Z",
     "iopub.status.idle": "2022-03-26T22:04:37.632441Z",
     "shell.execute_reply": "2022-03-26T22:04:37.631602Z",
     "shell.execute_reply.started": "2022-03-26T22:04:37.594177Z"
    }
   },
   "outputs": [
    {
     "name": "stdout",
     "output_type": "stream",
     "text": [
      "Интвервалы start_date :2014-06-10T06:27:00Z 2020-09-09T10:49:25Z\n",
      "Интвервалы parsing_unixtime :\n",
      "2020-10-19 11:35:06\n",
      "2020-10-26 11:04:24\n"
     ]
    }
   ],
   "source": [
    "print('Интвервалы start_date :' + data_train.start_date.min() +\n",
    "      ' ' + data_train.start_date.max())\n",
    "print('Интвервалы parsing_unixtime :')\n",
    "print(data_test['parsing_unixtime'].min())\n",
    "print(data_test['parsing_unixtime'].max())"
   ]
  },
  {
   "cell_type": "markdown",
   "metadata": {},
   "source": [
    "#### Посмотрев на значения, можно сказать, что это разные признаки, а не один, тем самым удаляем оба признака. У нас нет нужды в признаках, в которые есть в одном датасете и отсутсвуют в другом без возможности заполнения.\n"
   ]
  },
  {
   "cell_type": "code",
   "execution_count": 17,
   "metadata": {
    "execution": {
     "iopub.execute_input": "2022-03-26T22:04:37.634484Z",
     "iopub.status.busy": "2022-03-26T22:04:37.634026Z",
     "iopub.status.idle": "2022-03-26T22:04:37.667573Z",
     "shell.execute_reply": "2022-03-26T22:04:37.666569Z",
     "shell.execute_reply.started": "2022-03-26T22:04:37.634441Z"
    }
   },
   "outputs": [],
   "source": [
    "data_train = data_train.drop(['start_date'], axis=1)\n",
    "data_test = data_test.drop(['parsing_unixtime'], axis=1)"
   ]
  },
  {
   "cell_type": "markdown",
   "metadata": {},
   "source": [
    "### Объединим датасеты"
   ]
  },
  {
   "cell_type": "code",
   "execution_count": 18,
   "metadata": {
    "execution": {
     "iopub.execute_input": "2022-03-26T22:04:37.669185Z",
     "iopub.status.busy": "2022-03-26T22:04:37.668939Z",
     "iopub.status.idle": "2022-03-26T22:04:37.830908Z",
     "shell.execute_reply": "2022-03-26T22:04:37.830124Z",
     "shell.execute_reply.started": "2022-03-26T22:04:37.669155Z"
    }
   },
   "outputs": [],
   "source": [
    "# Перед тем как объединить датасеты для анализа данных \"помечаем\" их, чтобы разделить в последствии\n",
    "data_train['Temp'] = 1\n",
    "data_test['Temp'] = 0\n",
    "data = data_test.append(data_train, sort=False).reset_index(drop=True)"
   ]
  },
  {
   "cell_type": "markdown",
   "metadata": {},
   "source": [
    "#### Поменяем название столбцов на более удобные"
   ]
  },
  {
   "cell_type": "code",
   "execution_count": 19,
   "metadata": {
    "execution": {
     "iopub.execute_input": "2022-03-26T22:04:37.832708Z",
     "iopub.status.busy": "2022-03-26T22:04:37.832370Z",
     "iopub.status.idle": "2022-03-26T22:04:37.839975Z",
     "shell.execute_reply": "2022-03-26T22:04:37.838843Z",
     "shell.execute_reply.started": "2022-03-26T22:04:37.832649Z"
    }
   },
   "outputs": [],
   "source": [
    "data.columns = ['body_type', 'brand', 'color', 'complectation_dict', 'description',\n",
    "                'engine_displacement', 'engine_power', 'fuel_type', 'mileage', 'model_date',\n",
    "                'model', 'name', 'number_of_doors', 'production_date', 'sell_id',\n",
    "                'vehicle_configuration', 'vehicle_transmission', 'vendor', 'amount_of_owners',\n",
    "                'car_ownership_time', 'pts', 'drive', 'wheel', 'condition', 'cleared_by_customs', 'temp',\n",
    "                'price']"
   ]
  },
  {
   "cell_type": "markdown",
   "metadata": {},
   "source": [
    "Так же удалим description, признак бесполезен"
   ]
  },
  {
   "cell_type": "code",
   "execution_count": 20,
   "metadata": {
    "execution": {
     "iopub.execute_input": "2022-03-26T22:04:37.841443Z",
     "iopub.status.busy": "2022-03-26T22:04:37.841105Z",
     "iopub.status.idle": "2022-03-26T22:04:37.878302Z",
     "shell.execute_reply": "2022-03-26T22:04:37.877675Z",
     "shell.execute_reply.started": "2022-03-26T22:04:37.841415Z"
    }
   },
   "outputs": [],
   "source": [
    "data = data.drop(['description'], axis=1)"
   ]
  },
  {
   "cell_type": "code",
   "execution_count": 21,
   "metadata": {
    "execution": {
     "iopub.execute_input": "2022-03-26T22:04:37.880230Z",
     "iopub.status.busy": "2022-03-26T22:04:37.879728Z",
     "iopub.status.idle": "2022-03-26T22:04:37.906621Z",
     "shell.execute_reply": "2022-03-26T22:04:37.905754Z",
     "shell.execute_reply.started": "2022-03-26T22:04:37.880185Z"
    }
   },
   "outputs": [
    {
     "data": {
      "text/html": [
       "<div>\n",
       "<style scoped>\n",
       "    .dataframe tbody tr th:only-of-type {\n",
       "        vertical-align: middle;\n",
       "    }\n",
       "\n",
       "    .dataframe tbody tr th {\n",
       "        vertical-align: top;\n",
       "    }\n",
       "\n",
       "    .dataframe thead th {\n",
       "        text-align: right;\n",
       "    }\n",
       "</style>\n",
       "<table border=\"1\" class=\"dataframe\">\n",
       "  <thead>\n",
       "    <tr style=\"text-align: right;\">\n",
       "      <th></th>\n",
       "      <th>body_type</th>\n",
       "      <th>brand</th>\n",
       "      <th>color</th>\n",
       "      <th>complectation_dict</th>\n",
       "      <th>engine_displacement</th>\n",
       "      <th>engine_power</th>\n",
       "      <th>fuel_type</th>\n",
       "      <th>mileage</th>\n",
       "      <th>model_date</th>\n",
       "      <th>model</th>\n",
       "      <th>...</th>\n",
       "      <th>vendor</th>\n",
       "      <th>amount_of_owners</th>\n",
       "      <th>car_ownership_time</th>\n",
       "      <th>pts</th>\n",
       "      <th>drive</th>\n",
       "      <th>wheel</th>\n",
       "      <th>condition</th>\n",
       "      <th>cleared_by_customs</th>\n",
       "      <th>temp</th>\n",
       "      <th>price</th>\n",
       "    </tr>\n",
       "  </thead>\n",
       "  <tbody>\n",
       "    <tr>\n",
       "      <th>0</th>\n",
       "      <td>лифтбек</td>\n",
       "      <td>SKODA</td>\n",
       "      <td>синий</td>\n",
       "      <td>NaN</td>\n",
       "      <td>1.2 LTR</td>\n",
       "      <td>105 N12</td>\n",
       "      <td>бензин</td>\n",
       "      <td>74000</td>\n",
       "      <td>2013.0</td>\n",
       "      <td>OCTAVIA</td>\n",
       "      <td>...</td>\n",
       "      <td>EUROPEAN</td>\n",
       "      <td>3 или более</td>\n",
       "      <td>NaN</td>\n",
       "      <td>Оригинал</td>\n",
       "      <td>передний</td>\n",
       "      <td>Левый</td>\n",
       "      <td>Не требует ремонта</td>\n",
       "      <td>Растаможен</td>\n",
       "      <td>0</td>\n",
       "      <td>NaN</td>\n",
       "    </tr>\n",
       "    <tr>\n",
       "      <th>1</th>\n",
       "      <td>лифтбек</td>\n",
       "      <td>SKODA</td>\n",
       "      <td>чёрный</td>\n",
       "      <td>NaN</td>\n",
       "      <td>1.6 LTR</td>\n",
       "      <td>110 N12</td>\n",
       "      <td>бензин</td>\n",
       "      <td>60563</td>\n",
       "      <td>2017.0</td>\n",
       "      <td>OCTAVIA</td>\n",
       "      <td>...</td>\n",
       "      <td>EUROPEAN</td>\n",
       "      <td>1 владелец</td>\n",
       "      <td>NaN</td>\n",
       "      <td>Оригинал</td>\n",
       "      <td>передний</td>\n",
       "      <td>Левый</td>\n",
       "      <td>Не требует ремонта</td>\n",
       "      <td>Растаможен</td>\n",
       "      <td>0</td>\n",
       "      <td>NaN</td>\n",
       "    </tr>\n",
       "    <tr>\n",
       "      <th>2</th>\n",
       "      <td>лифтбек</td>\n",
       "      <td>SKODA</td>\n",
       "      <td>серый</td>\n",
       "      <td>{\"id\":\"20026336\",\"name\":\"Ambition\",\"available_...</td>\n",
       "      <td>1.8 LTR</td>\n",
       "      <td>152 N12</td>\n",
       "      <td>бензин</td>\n",
       "      <td>88000</td>\n",
       "      <td>2013.0</td>\n",
       "      <td>SUPERB</td>\n",
       "      <td>...</td>\n",
       "      <td>EUROPEAN</td>\n",
       "      <td>1 владелец</td>\n",
       "      <td>NaN</td>\n",
       "      <td>Оригинал</td>\n",
       "      <td>передний</td>\n",
       "      <td>Левый</td>\n",
       "      <td>Не требует ремонта</td>\n",
       "      <td>Растаможен</td>\n",
       "      <td>0</td>\n",
       "      <td>NaN</td>\n",
       "    </tr>\n",
       "    <tr>\n",
       "      <th>3</th>\n",
       "      <td>лифтбек</td>\n",
       "      <td>SKODA</td>\n",
       "      <td>коричневый</td>\n",
       "      <td>{\"id\":\"20803582\",\"name\":\"Ambition\",\"available_...</td>\n",
       "      <td>1.6 LTR</td>\n",
       "      <td>110 N12</td>\n",
       "      <td>бензин</td>\n",
       "      <td>95000</td>\n",
       "      <td>2013.0</td>\n",
       "      <td>OCTAVIA</td>\n",
       "      <td>...</td>\n",
       "      <td>EUROPEAN</td>\n",
       "      <td>1 владелец</td>\n",
       "      <td>NaN</td>\n",
       "      <td>Оригинал</td>\n",
       "      <td>передний</td>\n",
       "      <td>Левый</td>\n",
       "      <td>Не требует ремонта</td>\n",
       "      <td>Растаможен</td>\n",
       "      <td>0</td>\n",
       "      <td>NaN</td>\n",
       "    </tr>\n",
       "    <tr>\n",
       "      <th>4</th>\n",
       "      <td>лифтбек</td>\n",
       "      <td>SKODA</td>\n",
       "      <td>белый</td>\n",
       "      <td>NaN</td>\n",
       "      <td>1.8 LTR</td>\n",
       "      <td>152 N12</td>\n",
       "      <td>бензин</td>\n",
       "      <td>58536</td>\n",
       "      <td>2008.0</td>\n",
       "      <td>OCTAVIA</td>\n",
       "      <td>...</td>\n",
       "      <td>EUROPEAN</td>\n",
       "      <td>1 владелец</td>\n",
       "      <td>NaN</td>\n",
       "      <td>Оригинал</td>\n",
       "      <td>передний</td>\n",
       "      <td>Левый</td>\n",
       "      <td>Не требует ремонта</td>\n",
       "      <td>Растаможен</td>\n",
       "      <td>0</td>\n",
       "      <td>NaN</td>\n",
       "    </tr>\n",
       "  </tbody>\n",
       "</table>\n",
       "<p>5 rows × 26 columns</p>\n",
       "</div>"
      ],
      "text/plain": [
       "  body_type  brand       color  \\\n",
       "0   лифтбек  SKODA       синий   \n",
       "1   лифтбек  SKODA      чёрный   \n",
       "2   лифтбек  SKODA       серый   \n",
       "3   лифтбек  SKODA  коричневый   \n",
       "4   лифтбек  SKODA       белый   \n",
       "\n",
       "                                  complectation_dict engine_displacement  \\\n",
       "0                                                NaN             1.2 LTR   \n",
       "1                                                NaN             1.6 LTR   \n",
       "2  {\"id\":\"20026336\",\"name\":\"Ambition\",\"available_...             1.8 LTR   \n",
       "3  {\"id\":\"20803582\",\"name\":\"Ambition\",\"available_...             1.6 LTR   \n",
       "4                                                NaN             1.8 LTR   \n",
       "\n",
       "  engine_power fuel_type  mileage  model_date    model  ...    vendor  \\\n",
       "0      105 N12    бензин    74000      2013.0  OCTAVIA  ...  EUROPEAN   \n",
       "1      110 N12    бензин    60563      2017.0  OCTAVIA  ...  EUROPEAN   \n",
       "2      152 N12    бензин    88000      2013.0   SUPERB  ...  EUROPEAN   \n",
       "3      110 N12    бензин    95000      2013.0  OCTAVIA  ...  EUROPEAN   \n",
       "4      152 N12    бензин    58536      2008.0  OCTAVIA  ...  EUROPEAN   \n",
       "\n",
       "   amount_of_owners  car_ownership_time       pts     drive  wheel  \\\n",
       "0       3 или более                 NaN  Оригинал  передний  Левый   \n",
       "1        1 владелец                 NaN  Оригинал  передний  Левый   \n",
       "2        1 владелец                 NaN  Оригинал  передний  Левый   \n",
       "3        1 владелец                 NaN  Оригинал  передний  Левый   \n",
       "4        1 владелец                 NaN  Оригинал  передний  Левый   \n",
       "\n",
       "            condition cleared_by_customs temp price  \n",
       "0  Не требует ремонта         Растаможен    0   NaN  \n",
       "1  Не требует ремонта         Растаможен    0   NaN  \n",
       "2  Не требует ремонта         Растаможен    0   NaN  \n",
       "3  Не требует ремонта         Растаможен    0   NaN  \n",
       "4  Не требует ремонта         Растаможен    0   NaN  \n",
       "\n",
       "[5 rows x 26 columns]"
      ]
     },
     "execution_count": 21,
     "metadata": {},
     "output_type": "execute_result"
    }
   ],
   "source": [
    "data.head()"
   ]
  },
  {
   "cell_type": "code",
   "execution_count": 22,
   "metadata": {
    "execution": {
     "iopub.execute_input": "2022-03-26T22:04:37.908715Z",
     "iopub.status.busy": "2022-03-26T22:04:37.907958Z",
     "iopub.status.idle": "2022-03-26T22:04:38.153607Z",
     "shell.execute_reply": "2022-03-26T22:04:38.152735Z",
     "shell.execute_reply.started": "2022-03-26T22:04:37.908655Z"
    }
   },
   "outputs": [
    {
     "name": "stdout",
     "output_type": "stream",
     "text": [
      "<class 'pandas.core.frame.DataFrame'>\n",
      "RangeIndex: 123654 entries, 0 to 123653\n",
      "Data columns (total 26 columns):\n",
      " #   Column                 Non-Null Count   Dtype  \n",
      "---  ------                 --------------   -----  \n",
      " 0   body_type              123653 non-null  object \n",
      " 1   brand                  123654 non-null  object \n",
      " 2   color                  123654 non-null  object \n",
      " 3   complectation_dict     95386 non-null   object \n",
      " 4   engine_displacement    123653 non-null  object \n",
      " 5   engine_power           123653 non-null  object \n",
      " 6   fuel_type              123654 non-null  object \n",
      " 7   mileage                123654 non-null  int64  \n",
      " 8   model_date             123653 non-null  float64\n",
      " 9   model                  123654 non-null  object \n",
      " 10  name                   123653 non-null  object \n",
      " 11  number_of_doors        123653 non-null  float64\n",
      " 12  production_date        123654 non-null  int64  \n",
      " 13  sell_id                34686 non-null   float64\n",
      " 14  vehicle_configuration  123653 non-null  object \n",
      " 15  vehicle_transmission   123653 non-null  object \n",
      " 16  vendor                 34686 non-null   object \n",
      " 17  amount_of_owners       110085 non-null  object \n",
      " 18  car_ownership_time     41040 non-null   object \n",
      " 19  pts                    123292 non-null  object \n",
      " 20  drive                  123653 non-null  object \n",
      " 21  wheel                  123654 non-null  object \n",
      " 22  condition              34686 non-null   object \n",
      " 23  cleared_by_customs     123654 non-null  object \n",
      " 24  temp                   123654 non-null  int64  \n",
      " 25  price                  88968 non-null   float64\n",
      "dtypes: float64(4), int64(3), object(19)\n",
      "memory usage: 24.5+ MB\n"
     ]
    }
   ],
   "source": [
    "data.info()"
   ]
  },
  {
   "cell_type": "markdown",
   "metadata": {},
   "source": [
    "#### Легко видеть, что в признаках присутствуют пропуски.\n",
    "### Пройдемся по всем признакам и проведем первичную обработку.\n",
    "#### Создадим словари для типов признаков"
   ]
  },
  {
   "cell_type": "code",
   "execution_count": 23,
   "metadata": {
    "execution": {
     "iopub.execute_input": "2022-03-26T22:04:38.155952Z",
     "iopub.status.busy": "2022-03-26T22:04:38.155333Z",
     "iopub.status.idle": "2022-03-26T22:04:38.161591Z",
     "shell.execute_reply": "2022-03-26T22:04:38.160274Z",
     "shell.execute_reply.started": "2022-03-26T22:04:38.155905Z"
    }
   },
   "outputs": [],
   "source": [
    "data_num = []  # колличественные признаки\n",
    "data_cat = []  # категориальные признаки\n",
    "data_bin = []  # бинарные признаки"
   ]
  },
  {
   "cell_type": "markdown",
   "metadata": {},
   "source": [
    "#### body_type\n",
    "Категориальный признак"
   ]
  },
  {
   "cell_type": "code",
   "execution_count": 24,
   "metadata": {
    "execution": {
     "iopub.execute_input": "2022-03-26T22:04:38.163777Z",
     "iopub.status.busy": "2022-03-26T22:04:38.162838Z",
     "iopub.status.idle": "2022-03-26T22:04:38.196854Z",
     "shell.execute_reply": "2022-03-26T22:04:38.195835Z",
     "shell.execute_reply.started": "2022-03-26T22:04:38.163738Z"
    }
   },
   "outputs": [
    {
     "data": {
      "text/plain": [
       "Внедорожник 5 дв.                   31748\n",
       "Седан                               30458\n",
       "седан                               13147\n",
       "внедорожник 5 дв.                   12228\n",
       "Хэтчбек 5 дв.                        8613\n",
       "                                    ...  \n",
       "Родстер Roadster                        1\n",
       "Хэтчбек 5 дв. Runx                      1\n",
       "Пикап Полуторная кабина Rap Cab         1\n",
       "Седан SRT                               1\n",
       "Пикап Полуторная кабина Club Cab        1\n",
       "Name: body_type, Length: 192, dtype: int64"
      ]
     },
     "execution_count": 24,
     "metadata": {},
     "output_type": "execute_result"
    }
   ],
   "source": [
    "data.body_type.value_counts()"
   ]
  },
  {
   "cell_type": "code",
   "execution_count": 25,
   "metadata": {
    "execution": {
     "iopub.execute_input": "2022-03-26T22:04:38.198644Z",
     "iopub.status.busy": "2022-03-26T22:04:38.198319Z",
     "iopub.status.idle": "2022-03-26T22:04:46.193063Z",
     "shell.execute_reply": "2022-03-26T22:04:46.192395Z",
     "shell.execute_reply.started": "2022-03-26T22:04:38.198599Z"
    }
   },
   "outputs": [
    {
     "data": {
      "image/png": "[encoded data removed]",
      "text/plain": [
       "<Figure size 432x288 with 1 Axes>"
      ]
     },
     "metadata": {
      "needs_background": "light"
     },
     "output_type": "display_data"
    }
   ],
   "source": [
    "sns.countplot(x=data.body_type)\n",
    "plt.show()"
   ]
  },
  {
   "cell_type": "code",
   "execution_count": 26,
   "metadata": {
    "execution": {
     "iopub.execute_input": "2022-03-26T22:04:46.194525Z",
     "iopub.status.busy": "2022-03-26T22:04:46.194055Z",
     "iopub.status.idle": "2022-03-26T22:04:46.213456Z",
     "shell.execute_reply": "2022-03-26T22:04:46.212322Z",
     "shell.execute_reply.started": "2022-03-26T22:04:46.194480Z"
    }
   },
   "outputs": [
    {
     "name": "stdout",
     "output_type": "stream",
     "text": [
      "Уникальных значений: 193\n"
     ]
    }
   ],
   "source": [
    "print('Уникальных значений: ' + str(len(data.body_type.unique())))"
   ]
  },
  {
   "cell_type": "markdown",
   "metadata": {},
   "source": [
    "График из-за колличества переменных получился не особо красивый, но по нему легко видеть что огромное колличество переменных используется редко, необходимо изменить признак, либо удалив редко встречающиеся переменные, либо объединить переменные так, чтобы разброс был не таким сильным.\n",
    "Поделим корпуса на типы."
   ]
  },
  {
   "cell_type": "code",
   "execution_count": 27,
   "metadata": {
    "execution": {
     "iopub.execute_input": "2022-03-26T22:04:46.215570Z",
     "iopub.status.busy": "2022-03-26T22:04:46.215070Z",
     "iopub.status.idle": "2022-03-26T22:04:46.360634Z",
     "shell.execute_reply": "2022-03-26T22:04:46.359740Z",
     "shell.execute_reply.started": "2022-03-26T22:04:46.215521Z"
    }
   },
   "outputs": [
    {
     "data": {
      "text/plain": [
       "седан            44974\n",
       "внедорожник      44736\n",
       "хэтчбек          13399\n",
       "лифтбек           5644\n",
       "универсал         4719\n",
       "минивэн           3412\n",
       "компактвэн        2566\n",
       "купе              2119\n",
       "пикап              905\n",
       "купе-хардтоп       353\n",
       "кабриолет          258\n",
       "родстер            250\n",
       "фургон             231\n",
       "микровэн            31\n",
       "седан-хардтоп       29\n",
       "лимузин             12\n",
       "тарга               11\n",
       "фастбек              4\n",
       "nan                  1\n",
       "Name: body_type, dtype: int64"
      ]
     },
     "execution_count": 27,
     "metadata": {},
     "output_type": "execute_result"
    }
   ],
   "source": [
    "data.body_type = data.body_type.apply(\n",
    "    lambda row: str(row).lower().split()[0].strip())\n",
    "data.body_type.value_counts()"
   ]
  },
  {
   "cell_type": "code",
   "execution_count": 28,
   "metadata": {
    "execution": {
     "iopub.execute_input": "2022-03-26T22:04:46.362416Z",
     "iopub.status.busy": "2022-03-26T22:04:46.362117Z",
     "iopub.status.idle": "2022-03-26T22:04:46.411456Z",
     "shell.execute_reply": "2022-03-26T22:04:46.410535Z",
     "shell.execute_reply.started": "2022-03-26T22:04:46.362375Z"
    }
   },
   "outputs": [],
   "source": [
    "data = data[data.body_type != 'nan']  # удаляем единственный nan\n",
    "# добавляем body_type в список категориальных признаков\n",
    "data_cat.append('body_type')"
   ]
  },
  {
   "cell_type": "markdown",
   "metadata": {},
   "source": [
    "Уместили 193 значения в 16, в будущем, для отимизации, возможно нужно будет объединить их еще сильнее или удалить редко встречающиеся, но пока что оставим как есть\n",
    "\n",
    "### brand\n",
    "Еще один категориальный признак, для корректного заполнения пропусков в vendor пока что не будем удалять редко встречающиеся бренды, пропусков нет"
   ]
  },
  {
   "cell_type": "code",
   "execution_count": 29,
   "metadata": {
    "execution": {
     "iopub.execute_input": "2022-03-26T22:04:46.412925Z",
     "iopub.status.busy": "2022-03-26T22:04:46.412630Z",
     "iopub.status.idle": "2022-03-26T22:04:46.438850Z",
     "shell.execute_reply": "2022-03-26T22:04:46.437864Z",
     "shell.execute_reply.started": "2022-03-26T22:04:46.412893Z"
    }
   },
   "outputs": [
    {
     "data": {
      "text/plain": [
       "MERCEDES      12159\n",
       "BMW           11838\n",
       "VOLKSWAGEN    11515\n",
       "NISSAN        10143\n",
       "TOYOTA         8708\n",
       "AUDI           7491\n",
       "MITSUBISHI     6762\n",
       "HYUNDAI        5710\n",
       "KIA            5600\n",
       "SKODA          5536\n",
       "FORD           4780\n",
       "CHEVROLET      3615\n",
       "VOLVO          3525\n",
       "OPEL           3100\n",
       "RENAULT        2700\n",
       "HONDA          2322\n",
       "MAZDA          2296\n",
       "INFINITI       1907\n",
       "LEXUS          1880\n",
       "PEUGEOT        1627\n",
       "LAND_ROVER     1616\n",
       "CITROEN        1140\n",
       "DAEWOO         1034\n",
       "SUBARU          930\n",
       "SUZUKI          865\n",
       "SSANG_YONG      714\n",
       "PORSCHE         709\n",
       "CHERY           562\n",
       "JEEP            480\n",
       "GREAT_WALL      418\n",
       "DODGE           417\n",
       "CHRYSLER        321\n",
       "CADILLAC        319\n",
       "JAGUAR          311\n",
       "MINI            310\n",
       "GEELY           293\n",
       "Name: brand, dtype: int64"
      ]
     },
     "execution_count": 29,
     "metadata": {},
     "output_type": "execute_result"
    }
   ],
   "source": [
    "data.brand.value_counts()"
   ]
  },
  {
   "cell_type": "code",
   "execution_count": 30,
   "metadata": {
    "execution": {
     "iopub.execute_input": "2022-03-26T22:04:46.440761Z",
     "iopub.status.busy": "2022-03-26T22:04:46.440422Z",
     "iopub.status.idle": "2022-03-26T22:04:47.100094Z",
     "shell.execute_reply": "2022-03-26T22:04:47.099229Z",
     "shell.execute_reply.started": "2022-03-26T22:04:46.440717Z"
    }
   },
   "outputs": [
    {
     "data": {
      "image/png": "[encoded data removed]",
      "text/plain": [
       "<Figure size 432x288 with 1 Axes>"
      ]
     },
     "metadata": {
      "needs_background": "light"
     },
     "output_type": "display_data"
    }
   ],
   "source": [
    "sns.countplot(x=data.brand)\n",
    "plt.show()"
   ]
  },
  {
   "cell_type": "code",
   "execution_count": 31,
   "metadata": {
    "execution": {
     "iopub.execute_input": "2022-03-26T22:04:47.101458Z",
     "iopub.status.busy": "2022-03-26T22:04:47.101227Z",
     "iopub.status.idle": "2022-03-26T22:04:47.105723Z",
     "shell.execute_reply": "2022-03-26T22:04:47.104750Z",
     "shell.execute_reply.started": "2022-03-26T22:04:47.101430Z"
    }
   },
   "outputs": [],
   "source": [
    "data_cat.append('brand')"
   ]
  },
  {
   "cell_type": "markdown",
   "metadata": {},
   "source": [
    "#### color\n",
    "Пропусков нет,категориальный признак, часть из них в шестнадцатеричном коде, часть написана на русском, стоит привести их к одному типу."
   ]
  },
  {
   "cell_type": "code",
   "execution_count": 32,
   "metadata": {
    "execution": {
     "iopub.execute_input": "2022-03-26T22:04:47.108197Z",
     "iopub.status.busy": "2022-03-26T22:04:47.107525Z",
     "iopub.status.idle": "2022-03-26T22:04:47.139988Z",
     "shell.execute_reply": "2022-03-26T22:04:47.138757Z",
     "shell.execute_reply.started": "2022-03-26T22:04:47.108140Z"
    }
   },
   "outputs": [
    {
     "data": {
      "text/plain": [
       "040001         25094\n",
       "FAFBFB         15761\n",
       "CACECB         11282\n",
       "чёрный         11010\n",
       "97948F         10773\n",
       "0000CC          8825\n",
       "белый           6133\n",
       "EE1D19          4489\n",
       "серебристый     4113\n",
       "серый           3984\n",
       "200204          3562\n",
       "синий           3289\n",
       "007F00          2592\n",
       "C49648          1841\n",
       "красный         1531\n",
       "коричневый      1501\n",
       "22A0F8          1392\n",
       "зелёный          952\n",
       "DEA522           771\n",
       "660099           746\n",
       "FFD600           699\n",
       "бежевый          639\n",
       "4A2197           600\n",
       "FF8649           515\n",
       "голубой          457\n",
       "золотистый       266\n",
       "пурпурный        254\n",
       "фиолетовый       219\n",
       "жёлтый           194\n",
       "оранжевый        131\n",
       "FFC0CB            25\n",
       "розовый           13\n",
       "Name: color, dtype: int64"
      ]
     },
     "execution_count": 32,
     "metadata": {},
     "output_type": "execute_result"
    }
   ],
   "source": [
    "data.color.value_counts()"
   ]
  },
  {
   "cell_type": "code",
   "execution_count": 33,
   "metadata": {
    "execution": {
     "iopub.execute_input": "2022-03-26T22:04:47.142313Z",
     "iopub.status.busy": "2022-03-26T22:04:47.141763Z",
     "iopub.status.idle": "2022-03-26T22:04:47.274599Z",
     "shell.execute_reply": "2022-03-26T22:04:47.273553Z",
     "shell.execute_reply.started": "2022-03-26T22:04:47.142271Z"
    }
   },
   "outputs": [
    {
     "data": {
      "text/plain": [
       "040001    36104\n",
       "FAFBFB    21894\n",
       "CACECB    15395\n",
       "97948F    14757\n",
       "0000CC    12114\n",
       "EE1D19     6020\n",
       "200204     5063\n",
       "007F00     3544\n",
       "C49648     2480\n",
       "22A0F8     1849\n",
       "DEA522     1037\n",
       "660099     1000\n",
       "FFD600      893\n",
       "4A2197      819\n",
       "FF8649      646\n",
       "FFC0CB       38\n",
       "Name: color, dtype: int64"
      ]
     },
     "execution_count": 33,
     "metadata": {},
     "output_type": "execute_result"
    }
   ],
   "source": [
    "colors = {'чёрный': '040001', 'белый': 'FAFBFB', 'серый': '97948F', 'серебристый': 'CACECB', 'синий': '0000CC', 'коричневый': '200204',\n",
    "          'красный': 'EE1D19',  'зелёный': '007F00', 'бежевый': 'C49648', 'голубой': '22A0F8', 'пурпурный': '660099', 'золотистый': 'DEA522',\n",
    "          'фиолетовый': '4A2197', 'жёлтый': 'FFD600', 'оранжевый': 'FF8649', 'розовый': 'FFC0CB'}\n",
    "data.color.replace(to_replace=colors, inplace=True)\n",
    "data.color.value_counts()"
   ]
  },
  {
   "cell_type": "code",
   "execution_count": 34,
   "metadata": {
    "execution": {
     "iopub.execute_input": "2022-03-26T22:04:47.275911Z",
     "iopub.status.busy": "2022-03-26T22:04:47.275695Z",
     "iopub.status.idle": "2022-03-26T22:04:47.279824Z",
     "shell.execute_reply": "2022-03-26T22:04:47.278978Z",
     "shell.execute_reply.started": "2022-03-26T22:04:47.275884Z"
    }
   },
   "outputs": [],
   "source": [
    "data_cat.append('color')"
   ]
  },
  {
   "cell_type": "markdown",
   "metadata": {},
   "source": [
    "### engine_displacement\n",
    "Рабочий объем двигателя, оторбражается в литрах, дюймах, вольтах и т.п. Очевидно, что будет крайне высокая корреляция с мощностью и лошадиными силами, удалим этот признак. "
   ]
  },
  {
   "cell_type": "code",
   "execution_count": 35,
   "metadata": {
    "execution": {
     "iopub.execute_input": "2022-03-26T22:04:47.281447Z",
     "iopub.status.busy": "2022-03-26T22:04:47.281150Z",
     "iopub.status.idle": "2022-03-26T22:04:47.318096Z",
     "shell.execute_reply": "2022-03-26T22:04:47.317220Z",
     "shell.execute_reply.started": "2022-03-26T22:04:47.281408Z"
    }
   },
   "outputs": [],
   "source": [
    "data = data.drop(['engine_displacement'], axis=1)"
   ]
  },
  {
   "cell_type": "markdown",
   "metadata": {},
   "source": [
    "#### engine_power\n",
    "Еще один колличественный признак, нужнающийся в обработке. Половина значений написана как str и имеет приписку N12, вторая половина float, приведем к одному типу."
   ]
  },
  {
   "cell_type": "code",
   "execution_count": 36,
   "metadata": {
    "execution": {
     "iopub.execute_input": "2022-03-26T22:04:47.319841Z",
     "iopub.status.busy": "2022-03-26T22:04:47.319593Z",
     "iopub.status.idle": "2022-03-26T22:04:47.560804Z",
     "shell.execute_reply": "2022-03-26T22:04:47.560013Z",
     "shell.execute_reply.started": "2022-03-26T22:04:47.319813Z"
    }
   },
   "outputs": [],
   "source": [
    "data.engine_power = data.engine_power.apply(\n",
    "    lambda row: row[:-4] if re.search('N12', str(row)) else row)\n",
    "data.engine_power = data.engine_power.astype('float64')\n",
    "data_num.append('engine_power')"
   ]
  },
  {
   "cell_type": "markdown",
   "metadata": {},
   "source": [
    "Посмотрим на выбросы"
   ]
  },
  {
   "cell_type": "code",
   "execution_count": 37,
   "metadata": {
    "execution": {
     "iopub.execute_input": "2022-03-26T22:04:47.562333Z",
     "iopub.status.busy": "2022-03-26T22:04:47.562096Z",
     "iopub.status.idle": "2022-03-26T22:04:47.886867Z",
     "shell.execute_reply": "2022-03-26T22:04:47.885959Z",
     "shell.execute_reply.started": "2022-03-26T22:04:47.562307Z"
    }
   },
   "outputs": [
    {
     "name": "stdout",
     "output_type": "stream",
     "text": [
      "Выбросы для: engine_power\n"
     ]
    },
    {
     "data": {
      "image/png": "[encoded data removed]",
      "text/plain": [
       "<Figure size 432x288 with 1 Axes>"
      ]
     },
     "metadata": {
      "needs_background": "light"
     },
     "output_type": "display_data"
    },
    {
     "name": "stdout",
     "output_type": "stream",
     "text": [
      "Всего выбросов: 5793  Минимум: -22.5  Максимум: 349.5\n"
     ]
    }
   ],
   "source": [
    "num_check('engine_power')"
   ]
  },
  {
   "cell_type": "markdown",
   "metadata": {},
   "source": [
    "Попробуем уменьшить колличество выбросов, посмотрим сколько машин в тестовой подборке имеют \"мощность\" больше 350"
   ]
  },
  {
   "cell_type": "code",
   "execution_count": 38,
   "metadata": {
    "execution": {
     "iopub.execute_input": "2022-03-26T22:04:47.888381Z",
     "iopub.status.busy": "2022-03-26T22:04:47.888134Z",
     "iopub.status.idle": "2022-03-26T22:04:47.902571Z",
     "shell.execute_reply": "2022-03-26T22:04:47.901382Z",
     "shell.execute_reply.started": "2022-03-26T22:04:47.888351Z"
    }
   },
   "outputs": [
    {
     "data": {
      "text/plain": [
       "1867"
      ]
     },
     "execution_count": 38,
     "metadata": {},
     "output_type": "execute_result"
    }
   ],
   "source": [
    "data[(data['temp'] == 0) & (data['engine_power'] > 350)].engine_power.count()"
   ]
  },
  {
   "cell_type": "code",
   "execution_count": 39,
   "metadata": {
    "execution": {
     "iopub.execute_input": "2022-03-26T22:04:47.904824Z",
     "iopub.status.busy": "2022-03-26T22:04:47.904569Z",
     "iopub.status.idle": "2022-03-26T22:04:47.922506Z",
     "shell.execute_reply": "2022-03-26T22:04:47.921626Z",
     "shell.execute_reply.started": "2022-03-26T22:04:47.904795Z"
    }
   },
   "outputs": [
    {
     "data": {
      "text/plain": [
       "639.0"
      ]
     },
     "execution_count": 39,
     "metadata": {},
     "output_type": "execute_result"
    }
   ],
   "source": [
    "data[(data['temp'] == 0)].engine_power.max()"
   ]
  },
  {
   "cell_type": "markdown",
   "metadata": {},
   "source": [
    "Итак, в тестовой выборке так же есть выбросы. Попробуем прологарифмировать"
   ]
  },
  {
   "cell_type": "code",
   "execution_count": 40,
   "metadata": {
    "execution": {
     "iopub.execute_input": "2022-03-26T22:04:47.923875Z",
     "iopub.status.busy": "2022-03-26T22:04:47.923607Z",
     "iopub.status.idle": "2022-03-26T22:04:48.209788Z",
     "shell.execute_reply": "2022-03-26T22:04:48.207835Z",
     "shell.execute_reply.started": "2022-03-26T22:04:47.923846Z"
    }
   },
   "outputs": [
    {
     "name": "stdout",
     "output_type": "stream",
     "text": [
      "Выбросы для: engine_power\n"
     ]
    },
    {
     "data": {
      "image/png": "[encoded data removed]",
      "text/plain": [
       "<Figure size 432x288 with 1 Axes>"
      ]
     },
     "metadata": {
      "needs_background": "light"
     },
     "output_type": "display_data"
    },
    {
     "name": "stdout",
     "output_type": "stream",
     "text": [
      "Всего выбросов: 1447  Минимум: 3.898924360950063  Максимум: 6.223618396991669\n"
     ]
    }
   ],
   "source": [
    "data['engine_power'] = np.log(data['engine_power'] + 1)\n",
    "num_check('engine_power')"
   ]
  },
  {
   "cell_type": "markdown",
   "metadata": {},
   "source": [
    "Удалим из датасета все выбросы, больше максимальных и меньше минимальных значений тестовой выборки."
   ]
  },
  {
   "cell_type": "code",
   "execution_count": 41,
   "metadata": {
    "execution": {
     "iopub.execute_input": "2022-03-26T22:04:48.218623Z",
     "iopub.status.busy": "2022-03-26T22:04:48.218347Z",
     "iopub.status.idle": "2022-03-26T22:04:48.270781Z",
     "shell.execute_reply": "2022-03-26T22:04:48.269857Z",
     "shell.execute_reply.started": "2022-03-26T22:04:48.218589Z"
    }
   },
   "outputs": [],
   "source": [
    "eng_max = data[(data['temp'] == 0)].engine_power.max()\n",
    "eng_min = data[(data['temp'] == 0)].engine_power.min()\n",
    "data = data[(data['engine_power'] < eng_max) |\n",
    "            (data['engine_power'] > eng_min)]"
   ]
  },
  {
   "cell_type": "markdown",
   "metadata": {},
   "source": [
    "#### fuel_type\n",
    "категориальный признак, самые непопулярные типы встречаются в тестовой подборке."
   ]
  },
  {
   "cell_type": "code",
   "execution_count": 42,
   "metadata": {
    "execution": {
     "iopub.execute_input": "2022-03-26T22:04:48.272579Z",
     "iopub.status.busy": "2022-03-26T22:04:48.272281Z",
     "iopub.status.idle": "2022-03-26T22:04:48.298693Z",
     "shell.execute_reply": "2022-03-26T22:04:48.298049Z",
     "shell.execute_reply.started": "2022-03-26T22:04:48.272540Z"
    }
   },
   "outputs": [
    {
     "data": {
      "text/plain": [
       "бензин     103311\n",
       "дизель      19641\n",
       "гибрид        517\n",
       "электро       166\n",
       "газ            18\n",
       "Name: fuel_type, dtype: int64"
      ]
     },
     "execution_count": 42,
     "metadata": {},
     "output_type": "execute_result"
    }
   ],
   "source": [
    "data.fuel_type.value_counts()"
   ]
  },
  {
   "cell_type": "code",
   "execution_count": 43,
   "metadata": {
    "execution": {
     "iopub.execute_input": "2022-03-26T22:04:48.300394Z",
     "iopub.status.busy": "2022-03-26T22:04:48.299719Z",
     "iopub.status.idle": "2022-03-26T22:04:48.318297Z",
     "shell.execute_reply": "2022-03-26T22:04:48.317641Z",
     "shell.execute_reply.started": "2022-03-26T22:04:48.300350Z"
    }
   },
   "outputs": [
    {
     "data": {
      "text/plain": [
       "бензин     28601\n",
       "дизель      5800\n",
       "гибрид       223\n",
       "электро       55\n",
       "газ            7\n",
       "Name: fuelType, dtype: int64"
      ]
     },
     "execution_count": 43,
     "metadata": {},
     "output_type": "execute_result"
    }
   ],
   "source": [
    "data_test.fuelType.value_counts()"
   ]
  },
  {
   "cell_type": "code",
   "execution_count": 44,
   "metadata": {
    "execution": {
     "iopub.execute_input": "2022-03-26T22:04:48.320075Z",
     "iopub.status.busy": "2022-03-26T22:04:48.319835Z",
     "iopub.status.idle": "2022-03-26T22:04:48.323959Z",
     "shell.execute_reply": "2022-03-26T22:04:48.323061Z",
     "shell.execute_reply.started": "2022-03-26T22:04:48.320046Z"
    }
   },
   "outputs": [],
   "source": [
    "data_cat.append('fuel_type')"
   ]
  },
  {
   "cell_type": "markdown",
   "metadata": {},
   "source": [
    "#### Mileage\n",
    "Колличественный признак, выбросы есть, пропусков нет."
   ]
  },
  {
   "cell_type": "code",
   "execution_count": 45,
   "metadata": {
    "execution": {
     "iopub.execute_input": "2022-03-26T22:04:48.325529Z",
     "iopub.status.busy": "2022-03-26T22:04:48.325086Z",
     "iopub.status.idle": "2022-03-26T22:04:48.634108Z",
     "shell.execute_reply": "2022-03-26T22:04:48.633152Z",
     "shell.execute_reply.started": "2022-03-26T22:04:48.325498Z"
    }
   },
   "outputs": [
    {
     "name": "stdout",
     "output_type": "stream",
     "text": [
      "Выбросы для: mileage\n"
     ]
    },
    {
     "data": {
      "image/png": "[encoded data removed]",
      "text/plain": [
       "<Figure size 432x288 with 1 Axes>"
      ]
     },
     "metadata": {
      "needs_background": "light"
     },
     "output_type": "display_data"
    },
    {
     "name": "stdout",
     "output_type": "stream",
     "text": [
      "Всего выбросов: 2269  Минимум: -126620.0  Максимум: 395972.0\n"
     ]
    }
   ],
   "source": [
    "num_check('mileage')"
   ]
  },
  {
   "cell_type": "markdown",
   "metadata": {},
   "source": [
    "Из графика видно, что причина наличия выборосов кроется в новых машинах, у которых нет пробега. Отсюда направшивается так же новый признак, так как использвали машину или нет, очевидно влияет на цену."
   ]
  },
  {
   "cell_type": "code",
   "execution_count": 46,
   "metadata": {
    "execution": {
     "iopub.execute_input": "2022-03-26T22:04:48.636489Z",
     "iopub.status.busy": "2022-03-26T22:04:48.636155Z",
     "iopub.status.idle": "2022-03-26T22:04:48.652720Z",
     "shell.execute_reply": "2022-03-26T22:04:48.651843Z",
     "shell.execute_reply.started": "2022-03-26T22:04:48.636445Z"
    }
   },
   "outputs": [
    {
     "data": {
      "text/plain": [
       "1"
      ]
     },
     "execution_count": 46,
     "metadata": {},
     "output_type": "execute_result"
    }
   ],
   "source": [
    "data[(data['temp'] == 0)].mileage.min()"
   ]
  },
  {
   "cell_type": "markdown",
   "metadata": {},
   "source": [
    "Увы, в новом признаке не будет смысла, так как все машины имеют пробег. Удалим машины без пробега, это должно помочь с выбросами, так же благоприятно повлиять на модель в целом, так как опять же факт того, что машина новая и без пробега поднимает ее цену."
   ]
  },
  {
   "cell_type": "code",
   "execution_count": 47,
   "metadata": {
    "execution": {
     "iopub.execute_input": "2022-03-26T22:04:48.654065Z",
     "iopub.status.busy": "2022-03-26T22:04:48.653846Z",
     "iopub.status.idle": "2022-03-26T22:04:48.683617Z",
     "shell.execute_reply": "2022-03-26T22:04:48.682896Z",
     "shell.execute_reply.started": "2022-03-26T22:04:48.654039Z"
    }
   },
   "outputs": [],
   "source": [
    "data = data[data.mileage > 0]"
   ]
  },
  {
   "cell_type": "code",
   "execution_count": 48,
   "metadata": {
    "execution": {
     "iopub.execute_input": "2022-03-26T22:04:48.685125Z",
     "iopub.status.busy": "2022-03-26T22:04:48.684908Z",
     "iopub.status.idle": "2022-03-26T22:04:48.690752Z",
     "shell.execute_reply": "2022-03-26T22:04:48.690003Z",
     "shell.execute_reply.started": "2022-03-26T22:04:48.685099Z"
    }
   },
   "outputs": [],
   "source": [
    "data_num.append('mileage')"
   ]
  },
  {
   "cell_type": "markdown",
   "metadata": {},
   "source": [
    "Заодно добавим новый признак, машины, у которых пробег больше 100 тысяч киллометров"
   ]
  },
  {
   "cell_type": "code",
   "execution_count": 49,
   "metadata": {
    "execution": {
     "iopub.execute_input": "2022-03-26T22:04:48.692859Z",
     "iopub.status.busy": "2022-03-26T22:04:48.692530Z",
     "iopub.status.idle": "2022-03-26T22:04:48.773093Z",
     "shell.execute_reply": "2022-03-26T22:04:48.772100Z",
     "shell.execute_reply.started": "2022-03-26T22:04:48.692817Z"
    }
   },
   "outputs": [],
   "source": [
    "data['mileage_over_100'] = data.mileage.apply(\n",
    "    lambda row: 1 if row > 100000 else 0)\n",
    "data_bin.append('mileage_over_100')"
   ]
  },
  {
   "cell_type": "code",
   "execution_count": 50,
   "metadata": {
    "execution": {
     "iopub.execute_input": "2022-03-26T22:04:48.775192Z",
     "iopub.status.busy": "2022-03-26T22:04:48.774857Z",
     "iopub.status.idle": "2022-03-26T22:04:48.784256Z",
     "shell.execute_reply": "2022-03-26T22:04:48.783273Z",
     "shell.execute_reply.started": "2022-03-26T22:04:48.775148Z"
    }
   },
   "outputs": [
    {
     "data": {
      "text/plain": [
       "1    79464\n",
       "0    30620\n",
       "Name: mileage_over_100, dtype: int64"
      ]
     },
     "execution_count": 50,
     "metadata": {},
     "output_type": "execute_result"
    }
   ],
   "source": [
    "data['mileage_over_100'].value_counts()"
   ]
  },
  {
   "cell_type": "markdown",
   "metadata": {},
   "source": [
    "#### model_date          \n",
    "Дата создание модели автомобиля. Есть выборосы, но их не много и они вероятно являются реальными данными."
   ]
  },
  {
   "cell_type": "code",
   "execution_count": 51,
   "metadata": {
    "execution": {
     "iopub.execute_input": "2022-03-26T22:04:48.785943Z",
     "iopub.status.busy": "2022-03-26T22:04:48.785611Z",
     "iopub.status.idle": "2022-03-26T22:04:49.069024Z",
     "shell.execute_reply": "2022-03-26T22:04:49.068363Z",
     "shell.execute_reply.started": "2022-03-26T22:04:48.785903Z"
    }
   },
   "outputs": [
    {
     "name": "stdout",
     "output_type": "stream",
     "text": [
      "Выбросы для: model_date\n"
     ]
    },
    {
     "data": {
      "image/png": "[encoded data removed]",
      "text/plain": [
       "<Figure size 432x288 with 1 Axes>"
      ]
     },
     "metadata": {
      "needs_background": "light"
     },
     "output_type": "display_data"
    },
    {
     "name": "stdout",
     "output_type": "stream",
     "text": [
      "Всего выбросов: 3887  Минимум: 1992.0  Максимум: 2024.0\n"
     ]
    }
   ],
   "source": [
    "num_check('model_date')"
   ]
  },
  {
   "cell_type": "code",
   "execution_count": 52,
   "metadata": {
    "execution": {
     "iopub.execute_input": "2022-03-26T22:04:49.070898Z",
     "iopub.status.busy": "2022-03-26T22:04:49.070244Z",
     "iopub.status.idle": "2022-03-26T22:04:49.076328Z",
     "shell.execute_reply": "2022-03-26T22:04:49.075194Z",
     "shell.execute_reply.started": "2022-03-26T22:04:49.070861Z"
    }
   },
   "outputs": [],
   "source": [
    "data_num.append('model_date')"
   ]
  },
  {
   "cell_type": "markdown",
   "metadata": {},
   "source": [
    "#### model\n",
    "Модели автомобилей,категориальный признак,уникальных значений довольно много. Вероятно стоит заменить редко встречающиеся на \"other\"."
   ]
  },
  {
   "cell_type": "code",
   "execution_count": 53,
   "metadata": {
    "execution": {
     "iopub.execute_input": "2022-03-26T22:04:49.079072Z",
     "iopub.status.busy": "2022-03-26T22:04:49.078140Z",
     "iopub.status.idle": "2022-03-26T22:04:49.100257Z",
     "shell.execute_reply": "2022-03-26T22:04:49.099273Z",
     "shell.execute_reply.started": "2022-03-26T22:04:49.079019Z"
    }
   },
   "outputs": [
    {
     "data": {
      "text/plain": [
       "1095"
      ]
     },
     "execution_count": 53,
     "metadata": {},
     "output_type": "execute_result"
    }
   ],
   "source": [
    "len(data.model.unique())"
   ]
  },
  {
   "cell_type": "code",
   "execution_count": 54,
   "metadata": {
    "execution": {
     "iopub.execute_input": "2022-03-26T22:04:49.101727Z",
     "iopub.status.busy": "2022-03-26T22:04:49.101301Z",
     "iopub.status.idle": "2022-03-26T22:04:49.110435Z",
     "shell.execute_reply": "2022-03-26T22:04:49.109702Z",
     "shell.execute_reply.started": "2022-03-26T22:04:49.101695Z"
    }
   },
   "outputs": [
    {
     "data": {
      "text/plain": [
       "544"
      ]
     },
     "execution_count": 54,
     "metadata": {},
     "output_type": "execute_result"
    }
   ],
   "source": [
    "len(data_test.model.unique())"
   ]
  },
  {
   "cell_type": "code",
   "execution_count": 55,
   "metadata": {
    "execution": {
     "iopub.execute_input": "2022-03-26T22:04:49.111780Z",
     "iopub.status.busy": "2022-03-26T22:04:49.111469Z",
     "iopub.status.idle": "2022-03-26T22:04:49.141189Z",
     "shell.execute_reply": "2022-03-26T22:04:49.140566Z",
     "shell.execute_reply.started": "2022-03-26T22:04:49.111750Z"
    }
   },
   "outputs": [
    {
     "data": {
      "text/plain": [
       "OCTAVIA     2772\n",
       "FOCUS       2458\n",
       "5ER         2377\n",
       "PASSAT      2045\n",
       "E_KLASSE    1906\n",
       "            ... \n",
       "XT6            1\n",
       "FOCUS_RS       1\n",
       "DART           1\n",
       "LM             1\n",
       "XJS            1\n",
       "Name: model, Length: 1095, dtype: int64"
      ]
     },
     "execution_count": 55,
     "metadata": {},
     "output_type": "execute_result"
    }
   ],
   "source": [
    "data['model'].value_counts()"
   ]
  },
  {
   "cell_type": "code",
   "execution_count": 56,
   "metadata": {
    "execution": {
     "iopub.execute_input": "2022-03-26T22:04:49.142554Z",
     "iopub.status.busy": "2022-03-26T22:04:49.142237Z",
     "iopub.status.idle": "2022-03-26T22:04:49.146212Z",
     "shell.execute_reply": "2022-03-26T22:04:49.145251Z",
     "shell.execute_reply.started": "2022-03-26T22:04:49.142528Z"
    }
   },
   "outputs": [],
   "source": [
    "data_cat.append('model')"
   ]
  },
  {
   "cell_type": "markdown",
   "metadata": {},
   "source": [
    "#### name \n",
    "Колличественный признак, тут вероятно стоит \"вынуть\" лошадиные силы"
   ]
  },
  {
   "cell_type": "code",
   "execution_count": 57,
   "metadata": {
    "execution": {
     "iopub.execute_input": "2022-03-26T22:04:49.147675Z",
     "iopub.status.busy": "2022-03-26T22:04:49.147161Z",
     "iopub.status.idle": "2022-03-26T22:04:49.181122Z",
     "shell.execute_reply": "2022-03-26T22:04:49.180307Z",
     "shell.execute_reply.started": "2022-03-26T22:04:49.147629Z"
    }
   },
   "outputs": [
    {
     "data": {
      "text/plain": [
       "2.0 AT (150 л.с.)                 1473\n",
       "1.6 AT (110 л.с.)                 1319\n",
       "1.6 MT (105 л.с.)                 1181\n",
       "1.6 AT (123 л.с.)                  980\n",
       "1.6 MT (102 л.с.)                  954\n",
       "                                  ... \n",
       "520d 2.0d MT (190 л.с.)              1\n",
       "2.2d MT (75 л.с.) 4WD                1\n",
       "Fifth Avenue 3.3 AT (150 л.с.)       1\n",
       "2.2 AT (122 л.с.)                    1\n",
       "1.9d MT (150 л.с.)                   1\n",
       "Name: name, Length: 4729, dtype: int64"
      ]
     },
     "execution_count": 57,
     "metadata": {},
     "output_type": "execute_result"
    }
   ],
   "source": [
    "data.name.value_counts()"
   ]
  },
  {
   "cell_type": "code",
   "execution_count": 58,
   "metadata": {
    "execution": {
     "iopub.execute_input": "2022-03-26T22:04:49.182872Z",
     "iopub.status.busy": "2022-03-26T22:04:49.182471Z",
     "iopub.status.idle": "2022-03-26T22:04:49.388603Z",
     "shell.execute_reply": "2022-03-26T22:04:49.387630Z",
     "shell.execute_reply.started": "2022-03-26T22:04:49.182830Z"
    }
   },
   "outputs": [
    {
     "data": {
      "text/plain": [
       "150 л.с.    6723\n",
       "140 л.с.    3641\n",
       "249 л.с.    3585\n",
       "105 л.с.    3305\n",
       "170 л.с.    2433\n",
       "            ... \n",
       "565 л.с.       1\n",
       "513 л.с.       1\n",
       "391 кВт        1\n",
       "236 л.с.       1\n",
       "403 л.с.       1\n",
       "Name: name, Length: 404, dtype: int64"
      ]
     },
     "execution_count": 58,
     "metadata": {},
     "output_type": "execute_result"
    }
   ],
   "source": [
    "data.name = data.name.apply(lambda row: row.split('(', 1)[1].lstrip())\n",
    "data.name = data.name.apply(lambda row: row.split(')', 1)[0].lstrip())\n",
    "data.name.value_counts()"
   ]
  },
  {
   "cell_type": "markdown",
   "metadata": {},
   "source": [
    "#### Посмотрим есть ли что-то помимо л.с."
   ]
  },
  {
   "cell_type": "code",
   "execution_count": 59,
   "metadata": {
    "execution": {
     "iopub.execute_input": "2022-03-26T22:04:49.390817Z",
     "iopub.status.busy": "2022-03-26T22:04:49.390263Z",
     "iopub.status.idle": "2022-03-26T22:04:49.418937Z",
     "shell.execute_reply": "2022-03-26T22:04:49.418083Z",
     "shell.execute_reply.started": "2022-03-26T22:04:49.390769Z"
    }
   },
   "outputs": [
    {
     "data": {
      "text/plain": [
       "array(['105 л.с.', '110 л.с.', '152 л.с.', '200 л.с.', '102 л.с.',\n",
       "       '150 л.с.', '90 л.с.', '180 л.с.', '220 л.с.', '122 л.с.',\n",
       "       '70 л.с.', '140 л.с.', '125 л.с.', '54 л.с.', '86 л.с.', '75 л.с.',\n",
       "       '64 л.с.', '95 л.с.', '260 л.с.', '170 л.с.', '80 л.с.', '68 л.с.',\n",
       "       '160 л.с.', '115 л.с.', '280 л.с.', '53 л.с.', '60 л.с.',\n",
       "       '143 л.с.', '42 л.с.', '101 л.с.', '58 л.с.', '193 л.с.',\n",
       "       '79 л.с.', '30 л.с.', '100 л.с.', '50 л.с.', '163 л.с.',\n",
       "       '225 л.с.', '420 л.с.', '211 л.с.', '245 л.с.', '560 л.с.',\n",
       "       '500 л.с.', '249 л.с.', '450 л.с.', '605 л.с.', '250 л.с.',\n",
       "       '354 л.с.', '120 л.с.', '290 л.с.', '230 л.с.', '350 л.с.',\n",
       "       '204 л.с.', '255 л.с.', '340 л.с.', '177 л.с.', '272 л.с.',\n",
       "       '372 л.с.', '210 л.с.', '130 л.с.', '300 л.с.', '190 л.с.',\n",
       "       '239 л.с.', '435 л.с.', '333 л.с.', '271 л.с.', '326 л.с.',\n",
       "       '238 л.с.', '310 л.с.', '233 л.с.', '252 л.с.', '133 л.с.',\n",
       "       '460 л.с.', '520 л.с.', '400 л.с.', '525 л.с.', '367 л.с.',\n",
       "       '265 л.с.', '550 л.с.', '580 л.с.', '88 л.с.', '165 л.с.',\n",
       "       '430 л.с.', '335 л.с.', '174 л.с.', '224 л.с.', '136 л.с.',\n",
       "       '256 л.с.', '338 л.с.', '112 л.с.', '218 л.с.', '360 л.с.',\n",
       "       '93 л.с.', '182 л.с.', '113 л.с.', '240 л.с.', '270 л.с.',\n",
       "       '137 л.с.', '155 л.с.', '61 л.с.', '254 л.с.', '116 л.с.',\n",
       "       '71 л.с.', '285 л.с.', '301 кВт', '166 л.с.', '156 л.с.',\n",
       "       '257 л.с.', '201 л.с.', '162 л.с.', '194 л.с.', '142 л.с.',\n",
       "       '154 л.с.', '147 л.с.', '281 л.с.', '243 л.с.', '118 л.с.',\n",
       "       '128 л.с.', '91 л.с.', '83 л.с.', '205 л.с.', '247 л.с.',\n",
       "       '188 л.с.', '295 л.с.', '275 л.с.', '78 л.с.', '109 л.с.',\n",
       "       '94 л.с.', '185 л.с.', '258 л.с.', '145 л.с.', '132 л.с.',\n",
       "       '135 л.с.', '52 л.с.', '66 л.с.', '124 л.с.', '98 л.с.',\n",
       "       '215 л.с.', '158 л.с.', '99 л.с.', '103 л.с.', '131 л.с.',\n",
       "       '126 л.с.', '235 л.с.', '181 л.с.', '315 л.с.', '203 л.с.',\n",
       "       '231 л.с.', '82 л.с.', '304 л.с.', '175 л.с.', '320 л.с.',\n",
       "       '213 л.с.', '144 л.с.', '146 л.с.', '151 л.с.', '111 л.с.',\n",
       "       '286 л.с.', '306 л.с.', '107 л.с.', '184 л.с.', '313 л.с.',\n",
       "       '264 л.с.', '575 л.с.', '407 л.с.', '192 л.с.', '129 л.с.',\n",
       "       '555 л.с.', '625 л.с.', '329 л.с.', '370 л.с.', '381 л.с.',\n",
       "       '269 л.с.', '600 л.с.', '510 л.с.', '544 л.с.', '462 л.с.',\n",
       "       '355 л.с.', '507 л.с.', '609 л.с.', '126 кВт', '431 л.с.',\n",
       "       '530 л.с.', '387 л.с.', '610 л.с.', '197 л.с.', '343 л.с.',\n",
       "       '445 л.с.', '171 л.с.', '51 л.с.', '46 л.с.', '347 л.с.',\n",
       "       '321 л.с.', '167 л.с.', '141 л.с.', '169 л.с.', '405 л.с.',\n",
       "       '117 л.с.', '114 л.с.', '173 л.с.', '234 л.с.', '81 кВт',\n",
       "       '540 л.с.', '106 л.с.', '49 л.с.', '248 л.с.', '317 л.с.',\n",
       "       '111 кВт', '309 л.с.', '97 л.с.', '121 л.с.', '268 л.с.',\n",
       "       '149 л.с.', '87 л.с.', '85 л.с.', '65 л.с.', '67 л.с.', '127 л.с.',\n",
       "       '485 л.с.', '186 л.с.', '222 л.с.', '307 л.с.', '262 л.с.',\n",
       "       '302 л.с.', '284 л.с.', '325 л.с.', '168 л.с.', '221 л.с.',\n",
       "       '408 л.с.', '330 л.с.', '283 л.с.', '328 л.с.', '303 л.с.',\n",
       "       '278 л.с.', '388 л.с.', '571 л.с.', '585 л.с.', '612 л.с.',\n",
       "       '401 л.с.', '279 л.с.', '455 л.с.', '382 л.с.', '557 л.с.',\n",
       "       '517 л.с.', '394 л.с.', '422 л.с.', '292 л.с.', '469 л.с.',\n",
       "       '522 л.с.', '296 л.с.', '639 л.с.', '390 л.с.', '476 л.с.',\n",
       "       '630 л.с.', '402 л.с.', '487 л.с.', '558 л.с.', '421 л.с.',\n",
       "       '316 л.с.', '514 л.с.', '457 л.с.', '626 л.с.', '242 л.с.',\n",
       "       '38 л.с.', '32 л.с.', '223 л.с.', '72 л.с.', '305 л.с.',\n",
       "       '183 л.с.', '273 л.с.', '159 л.с.', '76 л.с.', '148 л.с.',\n",
       "       '179 л.с.', '73 л.с.', '277 л.с.', '282 л.с.', '178 л.с.',\n",
       "       '288 л.с.', '199 л.с.', '266 л.с.', '92 л.с.', '74 л.с.',\n",
       "       '324 л.с.', '232 л.с.', '157 л.с.', '69 л.с.', '212 л.с.',\n",
       "       '276 л.с.', '202 л.с.', '77 л.с.', '164 л.с.', '96 л.с.',\n",
       "       '84 л.с.', '228 л.с.', '108 л.с.', '208 л.с.', '263 л.с.',\n",
       "       '294 л.с.', '318 л.с.', '380 л.с.', '219 л.с.', '214 л.с.',\n",
       "       '383 л.с.', '241 л.с.', '85 кВт', '57 л.с.', '55 л.с.', '104 л.с.',\n",
       "       '48 л.с.', '40 л.с.', '44 л.с.', '227 л.с.', '139 л.с.',\n",
       "       '209 л.с.', '50 кВт', '195 л.с.', '189 л.с.', '480 л.с.',\n",
       "       '591 л.с.', '301 л.с.', '132 кВт', '226 л.с.', '311 л.с.',\n",
       "       '322 л.с.', '564 л.с.', '409 л.с.', '426 л.с.', '349 л.с.',\n",
       "       '299 л.с.', '314 л.с.', '119 л.с.', '161 л.с.', '589 л.с.',\n",
       "       '312 л.с.', '172 л.с.', '466 л.с.', '513 л.с.', '437 л.с.',\n",
       "       '365 л.с.', '323 л.с.', '345 л.с.', '403 л.с.', '106 кВт',\n",
       "       '63 л.с.', '359 л.с.', '396 л.с.', '425 л.с.', '253 л.с.',\n",
       "       '237 л.с.', '287 л.с.', '138 л.с.', '207 л.с.', '41 л.с.',\n",
       "       '251 л.с.', '717 л.с.', '492 л.с.', '395 л.с.', '470 л.с.',\n",
       "       '123 л.с.', '411 л.с.', '385 л.с.', '107 кВт', '20 л.с.',\n",
       "       '662 л.с.', '412 л.с.', '56 л.с.', '334 л.с.', '373 л.с.',\n",
       "       '81 л.с.', '198 л.с.', '495 л.с.', '173 кВт', '196 л.с.',\n",
       "       '298 л.с.', '416 л.с.', '375 л.с.', '363 л.с.', '468 л.с.',\n",
       "       '352 л.с.', '274 л.с.', '187 л.с.', '62 л.с.', '424 л.с.',\n",
       "       '261 л.с.', '477 л.с.', '244 л.с.', '153 л.с.', '45 л.с.',\n",
       "       '89 л.с.', '475 л.с.', '608 л.с.', '440 л.с.', '570 л.с.',\n",
       "       '521 л.с.', '391 кВт', '501 кВт', '13 кВт', '9 кВт', '236 л.с.',\n",
       "       '134 л.с.', '339 л.с.', '565 л.с.', '300.0 кВт'], dtype=object)"
      ]
     },
     "execution_count": 59,
     "metadata": {},
     "output_type": "execute_result"
    }
   ],
   "source": [
    "data.name.unique()"
   ]
  },
  {
   "cell_type": "markdown",
   "metadata": {},
   "source": [
    "И да, таки затисались киловаты электрокаров. Переведем их в лошадиные силы. Заодно переведем все в float"
   ]
  },
  {
   "cell_type": "code",
   "execution_count": 60,
   "metadata": {
    "execution": {
     "iopub.execute_input": "2022-03-26T22:04:49.420385Z",
     "iopub.status.busy": "2022-03-26T22:04:49.420112Z",
     "iopub.status.idle": "2022-03-26T22:04:49.710055Z",
     "shell.execute_reply": "2022-03-26T22:04:49.709083Z",
     "shell.execute_reply.started": "2022-03-26T22:04:49.420356Z"
    }
   },
   "outputs": [
    {
     "data": {
      "text/plain": [
       "count    110084.000000\n",
       "mean        173.260310\n",
       "std          85.160422\n",
       "min          12.240000\n",
       "25%         115.000000\n",
       "50%         150.000000\n",
       "75%         204.000000\n",
       "max         717.000000\n",
       "Name: name, dtype: float64"
      ]
     },
     "execution_count": 60,
     "metadata": {},
     "output_type": "execute_result"
    }
   ],
   "source": [
    "data.name = data.name.apply(lambda row: float(row.split(' кВт', 1)[0].lstrip()) * 1.36\n",
    "                            if re.search('кВт', row) else float(row.split(' л.с', 1)[0].lstrip()))\n",
    "data_num.append('name')\n",
    "data.name.describe()"
   ]
  },
  {
   "cell_type": "markdown",
   "metadata": {},
   "source": [
    "#### number_of_doors\n",
    "Колличество дверей в машине, признак скорее категориальный нежели числовой. Есть две машины с нулем дверей, одна из них к сожалению закралась в test, заменим значение с 0, на 5, как самое популярное, вреда от этого очевидно меньше чем от лишней категории."
   ]
  },
  {
   "cell_type": "code",
   "execution_count": 61,
   "metadata": {
    "execution": {
     "iopub.execute_input": "2022-03-26T22:04:49.711543Z",
     "iopub.status.busy": "2022-03-26T22:04:49.711301Z",
     "iopub.status.idle": "2022-03-26T22:04:49.724467Z",
     "shell.execute_reply": "2022-03-26T22:04:49.723539Z",
     "shell.execute_reply.started": "2022-03-26T22:04:49.711516Z"
    }
   },
   "outputs": [
    {
     "data": {
      "text/plain": [
       "5.0    60398\n",
       "4.0    43953\n",
       "2.0     2972\n",
       "3.0     2759\n",
       "0.0        2\n",
       "Name: number_of_doors, dtype: int64"
      ]
     },
     "execution_count": 61,
     "metadata": {},
     "output_type": "execute_result"
    }
   ],
   "source": [
    "data.number_of_doors.value_counts()"
   ]
  },
  {
   "cell_type": "code",
   "execution_count": 62,
   "metadata": {
    "execution": {
     "iopub.execute_input": "2022-03-26T22:04:49.726773Z",
     "iopub.status.busy": "2022-03-26T22:04:49.726308Z",
     "iopub.status.idle": "2022-03-26T22:04:49.785930Z",
     "shell.execute_reply": "2022-03-26T22:04:49.785047Z",
     "shell.execute_reply.started": "2022-03-26T22:04:49.726697Z"
    }
   },
   "outputs": [
    {
     "data": {
      "text/plain": [
       "5.0    60400\n",
       "4.0    43953\n",
       "2.0     2972\n",
       "3.0     2759\n",
       "Name: number_of_doors, dtype: int64"
      ]
     },
     "execution_count": 62,
     "metadata": {},
     "output_type": "execute_result"
    }
   ],
   "source": [
    "data.number_of_doors = data.number_of_doors.apply(\n",
    "    lambda row: 5 if row == 0 else row)\n",
    "data_cat.append('number_of_doors')\n",
    "data.number_of_doors.value_counts()"
   ]
  },
  {
   "cell_type": "markdown",
   "metadata": {},
   "source": [
    "#### production date\n",
    "Год производства машины, колличественный признак без пропусков."
   ]
  },
  {
   "cell_type": "code",
   "execution_count": 63,
   "metadata": {
    "execution": {
     "iopub.execute_input": "2022-03-26T22:04:49.787386Z",
     "iopub.status.busy": "2022-03-26T22:04:49.787088Z",
     "iopub.status.idle": "2022-03-26T22:04:50.058917Z",
     "shell.execute_reply": "2022-03-26T22:04:50.056911Z",
     "shell.execute_reply.started": "2022-03-26T22:04:49.787348Z"
    }
   },
   "outputs": [
    {
     "name": "stdout",
     "output_type": "stream",
     "text": [
      "Выбросы для: production_date\n"
     ]
    },
    {
     "data": {
      "image/png": "[encoded data removed]",
      "text/plain": [
       "<Figure size 432x288 with 1 Axes>"
      ]
     },
     "metadata": {
      "needs_background": "light"
     },
     "output_type": "display_data"
    },
    {
     "name": "stdout",
     "output_type": "stream",
     "text": [
      "Всего выбросов: 3082  Минимум: 1994.0  Максимум: 2026.0\n"
     ]
    }
   ],
   "source": [
    "num_check('production_date')"
   ]
  },
  {
   "cell_type": "code",
   "execution_count": 64,
   "metadata": {
    "execution": {
     "iopub.execute_input": "2022-03-26T22:04:50.061034Z",
     "iopub.status.busy": "2022-03-26T22:04:50.060711Z",
     "iopub.status.idle": "2022-03-26T22:04:50.082468Z",
     "shell.execute_reply": "2022-03-26T22:04:50.081084Z",
     "shell.execute_reply.started": "2022-03-26T22:04:50.060990Z"
    }
   },
   "outputs": [
    {
     "data": {
      "text/plain": [
       "1904"
      ]
     },
     "execution_count": 64,
     "metadata": {},
     "output_type": "execute_result"
    }
   ],
   "source": [
    "data[data.temp == 0].production_date.min()"
   ]
  },
  {
   "cell_type": "markdown",
   "metadata": {},
   "source": [
    "В продаже невероятно старые машины. Создадим новый признак age, в котором будет возраст машины, а этот признак переделаем из колличественного в категориальный."
   ]
  },
  {
   "cell_type": "code",
   "execution_count": 65,
   "metadata": {
    "execution": {
     "iopub.execute_input": "2022-03-26T22:04:50.084674Z",
     "iopub.status.busy": "2022-03-26T22:04:50.084312Z",
     "iopub.status.idle": "2022-03-26T22:04:50.091476Z",
     "shell.execute_reply": "2022-03-26T22:04:50.090600Z",
     "shell.execute_reply.started": "2022-03-26T22:04:50.084612Z"
    }
   },
   "outputs": [
    {
     "data": {
      "text/plain": [
       "2020"
      ]
     },
     "execution_count": 65,
     "metadata": {},
     "output_type": "execute_result"
    }
   ],
   "source": [
    "data.production_date.max()"
   ]
  },
  {
   "cell_type": "code",
   "execution_count": 66,
   "metadata": {
    "execution": {
     "iopub.execute_input": "2022-03-26T22:04:50.093235Z",
     "iopub.status.busy": "2022-03-26T22:04:50.092986Z",
     "iopub.status.idle": "2022-03-26T22:04:50.169685Z",
     "shell.execute_reply": "2022-03-26T22:04:50.169016Z",
     "shell.execute_reply.started": "2022-03-26T22:04:50.093205Z"
    }
   },
   "outputs": [],
   "source": [
    "data['age'] = data.production_date.apply(lambda row: 2020 - row)\n",
    "data_num.append('age')"
   ]
  },
  {
   "cell_type": "code",
   "execution_count": 67,
   "metadata": {
    "execution": {
     "iopub.execute_input": "2022-03-26T22:04:50.171111Z",
     "iopub.status.busy": "2022-03-26T22:04:50.170755Z",
     "iopub.status.idle": "2022-03-26T22:04:50.225340Z",
     "shell.execute_reply": "2022-03-26T22:04:50.224325Z",
     "shell.execute_reply.started": "2022-03-26T22:04:50.171076Z"
    }
   },
   "outputs": [],
   "source": [
    "def production_date_changer(row):\n",
    "    if row < 1990:\n",
    "        return 'rarity'\n",
    "    elif row < 2010:\n",
    "        return 'standart'\n",
    "    else:\n",
    "        return 'modern'\n",
    "\n",
    "\n",
    "data.production_date = data.production_date.apply(\n",
    "    lambda row: production_date_changer(row))"
   ]
  },
  {
   "cell_type": "code",
   "execution_count": 68,
   "metadata": {
    "execution": {
     "iopub.execute_input": "2022-03-26T22:04:50.227163Z",
     "iopub.status.busy": "2022-03-26T22:04:50.226875Z",
     "iopub.status.idle": "2022-03-26T22:04:50.231099Z",
     "shell.execute_reply": "2022-03-26T22:04:50.230265Z",
     "shell.execute_reply.started": "2022-03-26T22:04:50.227134Z"
    }
   },
   "outputs": [],
   "source": [
    "data_cat.append('production_date')"
   ]
  },
  {
   "cell_type": "markdown",
   "metadata": {},
   "source": [
    "\n",
    "#### vehicle_transmission\n",
    "Тип коробки передач, категориальный признак, пропусков нет, но необходимо привести к одному виду"
   ]
  },
  {
   "cell_type": "code",
   "execution_count": 69,
   "metadata": {
    "execution": {
     "iopub.execute_input": "2022-03-26T22:04:50.232735Z",
     "iopub.status.busy": "2022-03-26T22:04:50.232280Z",
     "iopub.status.idle": "2022-03-26T22:04:50.263149Z",
     "shell.execute_reply": "2022-03-26T22:04:50.262449Z",
     "shell.execute_reply.started": "2022-03-26T22:04:50.232701Z"
    }
   },
   "outputs": [
    {
     "data": {
      "text/plain": [
       "AUTOMATIC           40771\n",
       "MECHANICAL          24326\n",
       "автоматическая      19596\n",
       "механическая         7209\n",
       "ROBOT                5792\n",
       "VARIATOR             4509\n",
       "вариатор             3999\n",
       "роботизированная     3882\n",
       "Name: vehicle_transmission, dtype: int64"
      ]
     },
     "execution_count": 69,
     "metadata": {},
     "output_type": "execute_result"
    }
   ],
   "source": [
    "data.vehicle_transmission.value_counts()"
   ]
  },
  {
   "cell_type": "code",
   "execution_count": 70,
   "metadata": {
    "execution": {
     "iopub.execute_input": "2022-03-26T22:04:50.264909Z",
     "iopub.status.busy": "2022-03-26T22:04:50.264210Z",
     "iopub.status.idle": "2022-03-26T22:04:50.324594Z",
     "shell.execute_reply": "2022-03-26T22:04:50.323726Z",
     "shell.execute_reply.started": "2022-03-26T22:04:50.264873Z"
    }
   },
   "outputs": [
    {
     "data": {
      "text/plain": [
       "AUTOMATIC     60367\n",
       "MECHANICAL    31535\n",
       "ROBOT          9674\n",
       "VARIATOR       8508\n",
       "Name: vehicle_transmission, dtype: int64"
      ]
     },
     "execution_count": 70,
     "metadata": {},
     "output_type": "execute_result"
    }
   ],
   "source": [
    "transmission = {'автоматическая': 'AUTOMATIC', 'механическая': 'MECHANICAL',\n",
    "                'вариатор': 'VARIATOR', 'роботизированная': 'ROBOT'}\n",
    "data.vehicle_transmission.replace(to_replace=transmission, inplace=True)\n",
    "data_cat.append('vehicle_transmission')\n",
    "data.vehicle_transmission.value_counts()"
   ]
  },
  {
   "cell_type": "markdown",
   "metadata": {},
   "source": [
    "####  vehicle_configuration\n",
    "Все данные отсюда судя по всему уже присутствуют в других признаках, просто избавимся от него."
   ]
  },
  {
   "cell_type": "code",
   "execution_count": 71,
   "metadata": {
    "execution": {
     "iopub.execute_input": "2022-03-26T22:04:50.326545Z",
     "iopub.status.busy": "2022-03-26T22:04:50.326203Z",
     "iopub.status.idle": "2022-03-26T22:04:50.354186Z",
     "shell.execute_reply": "2022-03-26T22:04:50.353264Z",
     "shell.execute_reply.started": "2022-03-26T22:04:50.326475Z"
    }
   },
   "outputs": [
    {
     "data": {
      "text/plain": [
       "SEDAN MECHANICAL 1.6                5369\n",
       "SEDAN AUTOMATIC 1.6                 4138\n",
       "SEDAN AUTOMATIC 2.0                 3579\n",
       "ALLROAD_5_DOORS AUTOMATIC 2.0       3439\n",
       "ALLROAD_5_DOORS AUTOMATIC 3.0       2871\n",
       "                                    ... \n",
       "COMPACTVAN MECHANICAL 7                1\n",
       "ALLROAD_5_DOORS AUTOMATIC 40e          1\n",
       "WAGON_5_DOORS MECHANICAL Shuttle       1\n",
       "ALLROAD_5_DOORS MECHANICAL STi         1\n",
       "SEDAN AUTOMATIC 4.9d                   1\n",
       "Name: vehicle_configuration, Length: 1990, dtype: int64"
      ]
     },
     "execution_count": 71,
     "metadata": {},
     "output_type": "execute_result"
    }
   ],
   "source": [
    "data.vehicle_configuration.value_counts()"
   ]
  },
  {
   "cell_type": "code",
   "execution_count": 72,
   "metadata": {
    "execution": {
     "iopub.execute_input": "2022-03-26T22:04:50.355787Z",
     "iopub.status.busy": "2022-03-26T22:04:50.355257Z",
     "iopub.status.idle": "2022-03-26T22:04:50.415348Z",
     "shell.execute_reply": "2022-03-26T22:04:50.414713Z",
     "shell.execute_reply.started": "2022-03-26T22:04:50.355751Z"
    }
   },
   "outputs": [],
   "source": [
    "data = data.drop(['vehicle_configuration'], axis=1)"
   ]
  },
  {
   "cell_type": "markdown",
   "metadata": {},
   "source": [
    "####  vendor \n",
    "Относительно интересный признак региона производителя машины. Тут нам нужно будет взять пользуясь данным из тестовой выборки заполнить пустые значения в датасете. Создадим словарь групп региона и бреднов и подставим из него подставим регион в пустые значения."
   ]
  },
  {
   "cell_type": "code",
   "execution_count": 73,
   "metadata": {
    "execution": {
     "iopub.execute_input": "2022-03-26T22:04:50.416891Z",
     "iopub.status.busy": "2022-03-26T22:04:50.416502Z",
     "iopub.status.idle": "2022-03-26T22:04:50.431385Z",
     "shell.execute_reply": "2022-03-26T22:04:50.430601Z",
     "shell.execute_reply.started": "2022-03-26T22:04:50.416843Z"
    }
   },
   "outputs": [
    {
     "data": {
      "text/plain": [
       "EUROPEAN    20682\n",
       "JAPANESE    14004\n",
       "Name: vendor, dtype: int64"
      ]
     },
     "execution_count": 73,
     "metadata": {},
     "output_type": "execute_result"
    }
   ],
   "source": [
    "data.vendor.value_counts()"
   ]
  },
  {
   "cell_type": "code",
   "execution_count": 74,
   "metadata": {
    "execution": {
     "iopub.execute_input": "2022-03-26T22:04:50.432751Z",
     "iopub.status.busy": "2022-03-26T22:04:50.432493Z",
     "iopub.status.idle": "2022-03-26T22:04:50.498196Z",
     "shell.execute_reply": "2022-03-26T22:04:50.497320Z",
     "shell.execute_reply.started": "2022-03-26T22:04:50.432722Z"
    }
   },
   "outputs": [
    {
     "data": {
      "text/plain": [
       "EUROPEAN    44265\n",
       "JAPANESE    28568\n",
       "Name: vendor, dtype: int64"
      ]
     },
     "execution_count": 74,
     "metadata": {},
     "output_type": "execute_result"
    }
   ],
   "source": [
    "vendor = data.groupby(['vendor', 'brand']).temp.count().index\n",
    "vendordict = {i: j for j, i in vendor}\n",
    "data['vendor'] = data.brand.map(vendordict)\n",
    "data.vendor.value_counts()"
   ]
  },
  {
   "cell_type": "markdown",
   "metadata": {},
   "source": [
    "#### заполнили лишь часть, вероятно большая часть брендов машин не пресутствовала в test, придется видимо заполнять в ручную, но учитывая что большая часть машин в новом списке не из европы или японии было принято решение поделить их на west и east, так как добавлять новые значения, которых не будет в test нет смысла."
   ]
  },
  {
   "cell_type": "code",
   "execution_count": 75,
   "metadata": {
    "execution": {
     "iopub.execute_input": "2022-03-26T22:04:50.499584Z",
     "iopub.status.busy": "2022-03-26T22:04:50.499358Z",
     "iopub.status.idle": "2022-03-26T22:04:50.579883Z",
     "shell.execute_reply": "2022-03-26T22:04:50.578978Z",
     "shell.execute_reply.started": "2022-03-26T22:04:50.499556Z"
    }
   },
   "outputs": [],
   "source": [
    "newvenddict = {'CADILLAC': 'west', 'CHERY': 'east', 'CHEVROLET': 'west', 'CHRYSLER': 'west', 'CITROEN': 'west', 'DAEWOO': 'east',\n",
    "               'DODGE': 'west', 'FORD': 'west', 'GEELY': 'east', 'HYUNDAI': 'east', 'JAGUAR': 'west', 'JEEP': 'west', 'KIA': 'east',\n",
    "               'MAZDA': 'east', 'OPEL': 'west', 'PEUGEOT': 'west', 'PORSCHE': 'west', 'RENAULT': 'west', 'SUBARU': 'east',\n",
    "               'SUZUKI': 'east', 'GREAT_WALL': 'east', 'LAND_ROVER': 'east', 'SSANG_YONG': 'east'}\n",
    "vendordict = {**vendordict, **newvenddict}\n",
    "data['vendor'] = data.brand.map(vendordict)\n",
    "data.vendor = data.vendor.apply(\n",
    "    lambda row: 'west' if row == 'EUROPEAN' else row)\n",
    "data.vendor = data.vendor.apply(\n",
    "    lambda row: 'east' if row == 'JAPANESE' else row)"
   ]
  },
  {
   "cell_type": "code",
   "execution_count": 76,
   "metadata": {
    "execution": {
     "iopub.execute_input": "2022-03-26T22:04:50.581791Z",
     "iopub.status.busy": "2022-03-26T22:04:50.581357Z",
     "iopub.status.idle": "2022-03-26T22:04:50.602018Z",
     "shell.execute_reply": "2022-03-26T22:04:50.601160Z",
     "shell.execute_reply.started": "2022-03-26T22:04:50.581752Z"
    }
   },
   "outputs": [
    {
     "data": {
      "text/plain": [
       "west    63073\n",
       "east    46806\n",
       "Name: vendor, dtype: int64"
      ]
     },
     "execution_count": 76,
     "metadata": {},
     "output_type": "execute_result"
    }
   ],
   "source": [
    "data.vendor.value_counts()"
   ]
  },
  {
   "cell_type": "markdown",
   "metadata": {},
   "source": [
    "так как варианта у нас всего два сделаем признак бинарным"
   ]
  },
  {
   "cell_type": "code",
   "execution_count": 77,
   "metadata": {
    "execution": {
     "iopub.execute_input": "2022-03-26T22:04:50.603403Z",
     "iopub.status.busy": "2022-03-26T22:04:50.603174Z",
     "iopub.status.idle": "2022-03-26T22:04:50.696913Z",
     "shell.execute_reply": "2022-03-26T22:04:50.695886Z",
     "shell.execute_reply.started": "2022-03-26T22:04:50.603375Z"
    }
   },
   "outputs": [
    {
     "data": {
      "text/plain": [
       "0    63278\n",
       "1    46806\n",
       "Name: vendor, dtype: int64"
      ]
     },
     "execution_count": 77,
     "metadata": {},
     "output_type": "execute_result"
    }
   ],
   "source": [
    "data.vendor = data.vendor.apply(lambda row: 1 if row == 'east' else 0)\n",
    "data_bin.append('vendor')\n",
    "data.vendor.value_counts()"
   ]
  },
  {
   "cell_type": "markdown",
   "metadata": {},
   "source": [
    "####  amount_of_owners\n",
    "Колличество владельцев машины, категориальный признак(так как у нас идет 1,2, и 3+), нужно привести к общему виду(их опять же 2) и разобраться с пропусками. Они присутствуют лишь в train части, так что их всегда можно просто удалить. Но возможно пропуск означает, что машина продается сразу от произовдителя или ретейлора и владельцев у нее небыло."
   ]
  },
  {
   "cell_type": "code",
   "execution_count": 78,
   "metadata": {
    "execution": {
     "iopub.execute_input": "2022-03-26T22:04:50.698783Z",
     "iopub.status.busy": "2022-03-26T22:04:50.698462Z",
     "iopub.status.idle": "2022-03-26T22:04:51.010603Z",
     "shell.execute_reply": "2022-03-26T22:04:51.009931Z",
     "shell.execute_reply.started": "2022-03-26T22:04:50.698742Z"
    }
   },
   "outputs": [],
   "source": [
    "data.amount_of_owners = data.amount_of_owners.apply(lambda row: float(\n",
    "    re.split('\\s', row)[0].lstrip()) if re.search('\\s', str(row)) else row)"
   ]
  },
  {
   "cell_type": "code",
   "execution_count": 79,
   "metadata": {
    "execution": {
     "iopub.execute_input": "2022-03-26T22:04:51.012054Z",
     "iopub.status.busy": "2022-03-26T22:04:51.011712Z",
     "iopub.status.idle": "2022-03-26T22:04:51.020722Z",
     "shell.execute_reply": "2022-03-26T22:04:51.019877Z",
     "shell.execute_reply.started": "2022-03-26T22:04:51.012025Z"
    }
   },
   "outputs": [
    {
     "data": {
      "text/plain": [
       "3.0    52055\n",
       "2.0    30172\n",
       "1.0    27857\n",
       "Name: amount_of_owners, dtype: int64"
      ]
     },
     "execution_count": 79,
     "metadata": {},
     "output_type": "execute_result"
    }
   ],
   "source": [
    "data.amount_of_owners.value_counts()"
   ]
  },
  {
   "cell_type": "markdown",
   "metadata": {},
   "source": [
    "да, как и ожидалось это новые машины, поставим всем пустым значениям 0."
   ]
  },
  {
   "cell_type": "code",
   "execution_count": 80,
   "metadata": {
    "execution": {
     "iopub.execute_input": "2022-03-26T22:04:51.022234Z",
     "iopub.status.busy": "2022-03-26T22:04:51.021992Z",
     "iopub.status.idle": "2022-03-26T22:04:51.036265Z",
     "shell.execute_reply": "2022-03-26T22:04:51.035689Z",
     "shell.execute_reply.started": "2022-03-26T22:04:51.022206Z"
    }
   },
   "outputs": [
    {
     "data": {
      "text/plain": [
       "3.0    52055\n",
       "2.0    30172\n",
       "1.0    27857\n",
       "Name: amount_of_owners, dtype: int64"
      ]
     },
     "execution_count": 80,
     "metadata": {},
     "output_type": "execute_result"
    }
   ],
   "source": [
    "data_cat.append('amount_of_owners')\n",
    "data.amount_of_owners.value_counts()"
   ]
  },
  {
   "cell_type": "markdown",
   "metadata": {},
   "source": [
    "#### car_ownership_time\n",
    "Большое колличество пропусков в test, без хорошего способа заменить их. Сам по себе признак спорный, и как мне кажется заменяется другими. Удалим его."
   ]
  },
  {
   "cell_type": "code",
   "execution_count": 81,
   "metadata": {
    "execution": {
     "iopub.execute_input": "2022-03-26T22:04:51.037742Z",
     "iopub.status.busy": "2022-03-26T22:04:51.037435Z",
     "iopub.status.idle": "2022-03-26T22:04:51.062284Z",
     "shell.execute_reply": "2022-03-26T22:04:51.061433Z",
     "shell.execute_reply.started": "2022-03-26T22:04:51.037711Z"
    }
   },
   "outputs": [
    {
     "data": {
      "text/plain": [
       "{'year': 2018, 'month': 10}    494\n",
       "{'year': 2019, 'month': 8}     494\n",
       "{'year': 2018, 'month': 8}     491\n",
       "{'year': 2018, 'month': 9}     476\n",
       "{'year': 2018, 'month': 11}    471\n",
       "                              ... \n",
       "{'year': 2003, 'month': 2}       1\n",
       "18 лет и 2 месяца                1\n",
       "{'year': 1997, 'month': 10}      1\n",
       "{'year': 1990, 'month': 11}      1\n",
       "{'year': 2001, 'month': 1}       1\n",
       "Name: car_ownership_time, Length: 565, dtype: int64"
      ]
     },
     "execution_count": 81,
     "metadata": {},
     "output_type": "execute_result"
    }
   ],
   "source": [
    "data.car_ownership_time.value_counts()"
   ]
  },
  {
   "cell_type": "code",
   "execution_count": 82,
   "metadata": {
    "execution": {
     "iopub.execute_input": "2022-03-26T22:04:51.063518Z",
     "iopub.status.busy": "2022-03-26T22:04:51.063271Z",
     "iopub.status.idle": "2022-03-26T22:04:51.091462Z",
     "shell.execute_reply": "2022-03-26T22:04:51.090651Z",
     "shell.execute_reply.started": "2022-03-26T22:04:51.063492Z"
    }
   },
   "outputs": [],
   "source": [
    "data = data.drop(['car_ownership_time'], axis=1)"
   ]
  },
  {
   "cell_type": "markdown",
   "metadata": {},
   "source": [
    "####  pts\n",
    "Оригинал или дубликат паспорта транспортного средства, пропусков нет. Приведем к одному виду."
   ]
  },
  {
   "cell_type": "code",
   "execution_count": 83,
   "metadata": {
    "execution": {
     "iopub.execute_input": "2022-03-26T22:04:51.092911Z",
     "iopub.status.busy": "2022-03-26T22:04:51.092691Z",
     "iopub.status.idle": "2022-03-26T22:04:51.117215Z",
     "shell.execute_reply": "2022-03-26T22:04:51.116568Z",
     "shell.execute_reply.started": "2022-03-26T22:04:51.092885Z"
    }
   },
   "outputs": [
    {
     "data": {
      "text/plain": [
       "ORIGINAL     65022\n",
       "Оригинал     30098\n",
       "DUPLICATE    10376\n",
       "Дубликат      4587\n",
       "Name: pts, dtype: int64"
      ]
     },
     "execution_count": 83,
     "metadata": {},
     "output_type": "execute_result"
    }
   ],
   "source": [
    "data.pts.value_counts()"
   ]
  },
  {
   "cell_type": "code",
   "execution_count": 84,
   "metadata": {
    "execution": {
     "iopub.execute_input": "2022-03-26T22:04:51.119131Z",
     "iopub.status.busy": "2022-03-26T22:04:51.118355Z",
     "iopub.status.idle": "2022-03-26T22:04:51.235882Z",
     "shell.execute_reply": "2022-03-26T22:04:51.235252Z",
     "shell.execute_reply.started": "2022-03-26T22:04:51.119097Z"
    }
   },
   "outputs": [
    {
     "data": {
      "text/plain": [
       "1    95120\n",
       "0    14964\n",
       "Name: pts, dtype: int64"
      ]
     },
     "execution_count": 84,
     "metadata": {},
     "output_type": "execute_result"
    }
   ],
   "source": [
    "pts = {'Оригинал': 'ORIGINAL', 'Дубликат': 'DUPLICATE'}\n",
    "data.pts.replace(to_replace=pts, inplace=True)\n",
    "data_bin.append('pts')\n",
    "data.pts = data.pts.apply(lambda row: 1 if row == 'ORIGINAL' else 0)\n",
    "data.pts.value_counts()"
   ]
  },
  {
   "cell_type": "markdown",
   "metadata": {},
   "source": [
    "#### drive\n",
    "Тип привода у автомобиля, всего представлено 3. Категориальный признак без пропусков."
   ]
  },
  {
   "cell_type": "code",
   "execution_count": 85,
   "metadata": {
    "execution": {
     "iopub.execute_input": "2022-03-26T22:04:51.237237Z",
     "iopub.status.busy": "2022-03-26T22:04:51.236811Z",
     "iopub.status.idle": "2022-03-26T22:04:51.266374Z",
     "shell.execute_reply": "2022-03-26T22:04:51.265516Z",
     "shell.execute_reply.started": "2022-03-26T22:04:51.237204Z"
    }
   },
   "outputs": [
    {
     "data": {
      "text/plain": [
       "передний    58350\n",
       "полный      41173\n",
       "задний      10561\n",
       "Name: drive, dtype: int64"
      ]
     },
     "execution_count": 85,
     "metadata": {},
     "output_type": "execute_result"
    }
   ],
   "source": [
    "data_cat.append('drive')\n",
    "data.drive.value_counts()"
   ]
  },
  {
   "cell_type": "markdown",
   "metadata": {},
   "source": [
    "#### wheel\n",
    "Бинарный признак без пропусков, приведем к одному виду."
   ]
  },
  {
   "cell_type": "code",
   "execution_count": 86,
   "metadata": {
    "execution": {
     "iopub.execute_input": "2022-03-26T22:04:51.268634Z",
     "iopub.status.busy": "2022-03-26T22:04:51.267871Z",
     "iopub.status.idle": "2022-03-26T22:04:51.294526Z",
     "shell.execute_reply": "2022-03-26T22:04:51.293408Z",
     "shell.execute_reply.started": "2022-03-26T22:04:51.268589Z"
    }
   },
   "outputs": [
    {
     "data": {
      "text/plain": [
       "LEFT      73619\n",
       "Левый     33287\n",
       "RIGHT      1779\n",
       "Правый     1399\n",
       "Name: wheel, dtype: int64"
      ]
     },
     "execution_count": 86,
     "metadata": {},
     "output_type": "execute_result"
    }
   ],
   "source": [
    "data.wheel.value_counts()"
   ]
  },
  {
   "cell_type": "code",
   "execution_count": 87,
   "metadata": {
    "execution": {
     "iopub.execute_input": "2022-03-26T22:04:51.296593Z",
     "iopub.status.busy": "2022-03-26T22:04:51.296243Z",
     "iopub.status.idle": "2022-03-26T22:04:51.407277Z",
     "shell.execute_reply": "2022-03-26T22:04:51.406208Z",
     "shell.execute_reply.started": "2022-03-26T22:04:51.296535Z"
    }
   },
   "outputs": [
    {
     "data": {
      "text/plain": [
       "0    106906\n",
       "1      3178\n",
       "Name: wheel, dtype: int64"
      ]
     },
     "execution_count": 87,
     "metadata": {},
     "output_type": "execute_result"
    }
   ],
   "source": [
    "wheel = {'Левый': 'LEFT', 'Правый': 'RIGHT'}\n",
    "data.wheel.replace(to_replace=wheel, inplace=True)\n",
    "data.wheel = data.wheel.apply(lambda row: 1 if row == 'RIGHT' else 0)\n",
    "data_bin.append('wheel')\n",
    "data.wheel.value_counts()"
   ]
  },
  {
   "cell_type": "markdown",
   "metadata": {},
   "source": [
    "#### condition\n",
    "Все машины в тестовой выборке не требуют ремонта, когда как в тренировочной значение пустует. Смысла как мне кажется в этом признаке никакого, удалим его."
   ]
  },
  {
   "cell_type": "code",
   "execution_count": 88,
   "metadata": {
    "execution": {
     "iopub.execute_input": "2022-03-26T22:04:51.408931Z",
     "iopub.status.busy": "2022-03-26T22:04:51.408619Z",
     "iopub.status.idle": "2022-03-26T22:04:51.434155Z",
     "shell.execute_reply": "2022-03-26T22:04:51.432906Z",
     "shell.execute_reply.started": "2022-03-26T22:04:51.408888Z"
    }
   },
   "outputs": [],
   "source": [
    "data = data.drop(['condition'], axis=1)"
   ]
  },
  {
   "cell_type": "markdown",
   "metadata": {},
   "source": [
    "#### cleared_by_customs\n",
    "Еще один бесполезный признак, все автомобили в обеих выборках растаможены, удалим его."
   ]
  },
  {
   "cell_type": "code",
   "execution_count": 89,
   "metadata": {
    "execution": {
     "iopub.execute_input": "2022-03-26T22:04:51.436437Z",
     "iopub.status.busy": "2022-03-26T22:04:51.435603Z",
     "iopub.status.idle": "2022-03-26T22:04:51.457833Z",
     "shell.execute_reply": "2022-03-26T22:04:51.457105Z",
     "shell.execute_reply.started": "2022-03-26T22:04:51.436400Z"
    }
   },
   "outputs": [],
   "source": [
    "data = data.drop(['cleared_by_customs'], axis=1)"
   ]
  },
  {
   "cell_type": "code",
   "execution_count": 90,
   "metadata": {
    "execution": {
     "iopub.execute_input": "2022-03-26T22:04:51.459424Z",
     "iopub.status.busy": "2022-03-26T22:04:51.459120Z",
     "iopub.status.idle": "2022-03-26T22:04:51.581690Z",
     "shell.execute_reply": "2022-03-26T22:04:51.580743Z",
     "shell.execute_reply.started": "2022-03-26T22:04:51.459388Z"
    }
   },
   "outputs": [
    {
     "name": "stdout",
     "output_type": "stream",
     "text": [
      "<class 'pandas.core.frame.DataFrame'>\n",
      "Int64Index: 110084 entries, 0 to 123653\n",
      "Data columns (total 23 columns):\n",
      " #   Column                Non-Null Count   Dtype  \n",
      "---  ------                --------------   -----  \n",
      " 0   body_type             110084 non-null  object \n",
      " 1   brand                 110084 non-null  object \n",
      " 2   color                 110084 non-null  object \n",
      " 3   complectation_dict    81816 non-null   object \n",
      " 4   engine_power          110084 non-null  float64\n",
      " 5   fuel_type             110084 non-null  object \n",
      " 6   mileage               110084 non-null  int64  \n",
      " 7   model_date            110084 non-null  float64\n",
      " 8   model                 110084 non-null  object \n",
      " 9   name                  110084 non-null  float64\n",
      " 10  number_of_doors       110084 non-null  float64\n",
      " 11  production_date       110084 non-null  object \n",
      " 12  sell_id               34686 non-null   float64\n",
      " 13  vehicle_transmission  110084 non-null  object \n",
      " 14  vendor                110084 non-null  int64  \n",
      " 15  amount_of_owners      110084 non-null  float64\n",
      " 16  pts                   110084 non-null  int64  \n",
      " 17  drive                 110084 non-null  object \n",
      " 18  wheel                 110084 non-null  int64  \n",
      " 19  temp                  110084 non-null  int64  \n",
      " 20  price                 75398 non-null   float64\n",
      " 21  mileage_over_100      110084 non-null  int64  \n",
      " 22  age                   110084 non-null  int64  \n",
      "dtypes: float64(7), int64(7), object(9)\n",
      "memory usage: 20.2+ MB\n"
     ]
    }
   ],
   "source": [
    "data.info()"
   ]
  },
  {
   "cell_type": "markdown",
   "metadata": {},
   "source": [
    "#### complectation_dict\n",
    "В теории из этого признака можно было бы вынуть дополнительные признаки, но его проблема в том, что в тестовой выборке уж слишком много пропусков. Пока что удалим, но возхможно вернемся к нему позже"
   ]
  },
  {
   "cell_type": "code",
   "execution_count": 91,
   "metadata": {
    "execution": {
     "iopub.execute_input": "2022-03-26T22:04:51.582943Z",
     "iopub.status.busy": "2022-03-26T22:04:51.582737Z",
     "iopub.status.idle": "2022-03-26T22:04:51.601698Z",
     "shell.execute_reply": "2022-03-26T22:04:51.600845Z",
     "shell.execute_reply.started": "2022-03-26T22:04:51.582917Z"
    }
   },
   "outputs": [],
   "source": [
    "data = data.drop(['complectation_dict'], axis=1)"
   ]
  },
  {
   "cell_type": "markdown",
   "metadata": {},
   "source": [
    "Теперь проанализируем столбцы по типам. Для начала посмотрим, какие столбцы какому типу принадлежат."
   ]
  },
  {
   "cell_type": "code",
   "execution_count": 92,
   "metadata": {
    "execution": {
     "iopub.execute_input": "2022-03-26T22:04:51.604213Z",
     "iopub.status.busy": "2022-03-26T22:04:51.603387Z",
     "iopub.status.idle": "2022-03-26T22:04:51.611275Z",
     "shell.execute_reply": "2022-03-26T22:04:51.610430Z",
     "shell.execute_reply.started": "2022-03-26T22:04:51.604164Z"
    }
   },
   "outputs": [
    {
     "name": "stdout",
     "output_type": "stream",
     "text": [
      "Категориальные:  ['body_type', 'brand', 'color', 'fuel_type', 'model', 'number_of_doors', 'production_date', 'vehicle_transmission', 'amount_of_owners', 'drive']\n",
      "Колличественные:  ['engine_power', 'mileage', 'model_date', 'name', 'age']\n",
      "Бинарные:  ['mileage_over_100', 'vendor', 'pts', 'wheel']\n"
     ]
    }
   ],
   "source": [
    "print('Категориальные: ', data_cat)\n",
    "print('Колличественные: ', data_num)\n",
    "print('Бинарные: ', data_bin)"
   ]
  },
  {
   "cell_type": "markdown",
   "metadata": {},
   "source": [
    "#### Колличественные признаки"
   ]
  },
  {
   "cell_type": "code",
   "execution_count": 93,
   "metadata": {
    "execution": {
     "iopub.execute_input": "2022-03-26T22:04:51.613411Z",
     "iopub.status.busy": "2022-03-26T22:04:51.612963Z",
     "iopub.status.idle": "2022-03-26T22:05:07.353876Z",
     "shell.execute_reply": "2022-03-26T22:05:07.353000Z",
     "shell.execute_reply.started": "2022-03-26T22:04:51.613369Z"
    }
   },
   "outputs": [
    {
     "data": {
      "text/plain": [
       "<seaborn.axisgrid.PairGrid at 0x176284007c0>"
      ]
     },
     "execution_count": 93,
     "metadata": {},
     "output_type": "execute_result"
    },
    {
     "data": {
      "image/png": "[encoded data removed]",
      "text/plain": [
       "<Figure size 900x900 with 30 Axes>"
      ]
     },
     "metadata": {
      "needs_background": "light"
     },
     "output_type": "display_data"
    }
   ],
   "source": [
    "sns.pairplot(data[data_num])"
   ]
  },
  {
   "cell_type": "markdown",
   "metadata": {},
   "source": [
    "Легко увидеть корреляцию name и engine power(что логично учитывая что в name у нас лошадиные силы машины) и так же model_date и production date."
   ]
  },
  {
   "cell_type": "code",
   "execution_count": 94,
   "metadata": {
    "execution": {
     "iopub.execute_input": "2022-03-26T22:05:07.355833Z",
     "iopub.status.busy": "2022-03-26T22:05:07.355205Z",
     "iopub.status.idle": "2022-03-26T22:05:07.828493Z",
     "shell.execute_reply": "2022-03-26T22:05:07.827614Z",
     "shell.execute_reply.started": "2022-03-26T22:05:07.355798Z"
    }
   },
   "outputs": [
    {
     "data": {
      "text/plain": [
       "<AxesSubplot:>"
      ]
     },
     "execution_count": 94,
     "metadata": {},
     "output_type": "execute_result"
    },
    {
     "data": {
      "image/png": "[encoded data removed]",
      "text/plain": [
       "<Figure size 1008x576 with 2 Axes>"
      ]
     },
     "metadata": {
      "needs_background": "light"
     },
     "output_type": "display_data"
    }
   ],
   "source": [
    "plt.figure(figsize=(14, 8))\n",
    "sns.heatmap(data[data_num+['price']].corr(), annot=True)"
   ]
  },
  {
   "cell_type": "markdown",
   "metadata": {},
   "source": [
    "уберем name из-за корреляции "
   ]
  },
  {
   "cell_type": "code",
   "execution_count": 95,
   "metadata": {
    "execution": {
     "iopub.execute_input": "2022-03-26T22:05:07.830739Z",
     "iopub.status.busy": "2022-03-26T22:05:07.830398Z",
     "iopub.status.idle": "2022-03-26T22:05:07.853943Z",
     "shell.execute_reply": "2022-03-26T22:05:07.853024Z",
     "shell.execute_reply.started": "2022-03-26T22:05:07.830696Z"
    }
   },
   "outputs": [],
   "source": [
    "data = data.drop(['name'], axis=1)\n",
    "data_num.remove('name')"
   ]
  },
  {
   "cell_type": "code",
   "execution_count": 96,
   "metadata": {
    "execution": {
     "iopub.execute_input": "2022-03-26T22:05:07.855823Z",
     "iopub.status.busy": "2022-03-26T22:05:07.855264Z",
     "iopub.status.idle": "2022-03-26T22:05:09.234666Z",
     "shell.execute_reply": "2022-03-26T22:05:09.233692Z",
     "shell.execute_reply.started": "2022-03-26T22:05:07.855776Z"
    }
   },
   "outputs": [
    {
     "data": {
      "text/plain": [
       "<AxesSubplot:>"
      ]
     },
     "execution_count": 96,
     "metadata": {},
     "output_type": "execute_result"
    },
    {
     "data": {
      "image/png": "[encoded data removed]",
      "text/plain": [
       "<Figure size 432x288 with 1 Axes>"
      ]
     },
     "metadata": {
      "needs_background": "light"
     },
     "output_type": "display_data"
    }
   ],
   "source": [
    "imp_num = pd.Series(f_classif(data[data['price'].isna(\n",
    ") == False][data_num], data[data['price'].isna() == False]['price'])[0], index=data_num)\n",
    "imp_num.sort_values(inplace=True)\n",
    "imp_num.plot(kind='barh')"
   ]
  },
  {
   "cell_type": "markdown",
   "metadata": {},
   "source": [
    "#### Категориальные и бинарные признаки"
   ]
  },
  {
   "cell_type": "code",
   "execution_count": 97,
   "metadata": {
    "execution": {
     "iopub.execute_input": "2022-03-26T22:05:09.236126Z",
     "iopub.status.busy": "2022-03-26T22:05:09.235889Z",
     "iopub.status.idle": "2022-03-26T22:05:40.095284Z",
     "shell.execute_reply": "2022-03-26T22:05:40.094312Z",
     "shell.execute_reply.started": "2022-03-26T22:05:09.236099Z"
    }
   },
   "outputs": [
    {
     "data": {
      "image/png": "[encoded data removed]",
      "text/plain": [
       "<Figure size 720x432 with 1 Axes>"
      ]
     },
     "metadata": {},
     "output_type": "display_data"
    },
    {
     "data": {
      "image/png": "[encoded data removed]",
      "text/plain": [
       "<Figure size 720x432 with 1 Axes>"
      ]
     },
     "metadata": {},
     "output_type": "display_data"
    },
    {
     "data": {
      "image/png": "[encoded data removed]",
      "text/plain": [
       "<Figure size 720x432 with 1 Axes>"
      ]
     },
     "metadata": {},
     "output_type": "display_data"
    },
    {
     "data": {
      "image/png": "[encoded data removed]",
      "text/plain": [
       "<Figure size 720x432 with 1 Axes>"
      ]
     },
     "metadata": {},
     "output_type": "display_data"
    },
    {
     "data": {
      "image/png": "[encoded data removed]",
      "text/plain": [
       "<Figure size 720x432 with 1 Axes>"
      ]
     },
     "metadata": {},
     "output_type": "display_data"
    },
    {
     "data": {
      "image/png": "[encoded data removed]",
      "text/plain": [
       "<Figure size 720x432 with 1 Axes>"
      ]
     },
     "metadata": {},
     "output_type": "display_data"
    },
    {
     "data": {
      "image/png": "[encoded data removed]",
      "text/plain": [
       "<Figure size 720x432 with 1 Axes>"
      ]
     },
     "metadata": {},
     "output_type": "display_data"
    },
    {
     "data": {
      "image/png": "[encoded data removed]",
      "text/plain": [
       "<Figure size 720x432 with 1 Axes>"
      ]
     },
     "metadata": {},
     "output_type": "display_data"
    },
    {
     "data": {
      "image/png": "[encoded data removed]",
      "text/plain": [
       "<Figure size 720x432 with 1 Axes>"
      ]
     },
     "metadata": {},
     "output_type": "display_data"
    },
    {
     "data": {
      "image/png": "[encoded data removed]",
      "text/plain": [
       "<Figure size 720x432 with 1 Axes>"
      ]
     },
     "metadata": {},
     "output_type": "display_data"
    },
    {
     "data": {
      "image/png": "[encoded data removed]",
      "text/plain": [
       "<Figure size 720x432 with 1 Axes>"
      ]
     },
     "metadata": {},
     "output_type": "display_data"
    },
    {
     "data": {
      "image/png": "[encoded data removed]",
      "text/plain": [
       "<Figure size 720x432 with 1 Axes>"
      ]
     },
     "metadata": {},
     "output_type": "display_data"
    },
    {
     "data": {
      "image/png": "[encoded data removed]",
      "text/plain": [
       "<Figure size 720x432 with 1 Axes>"
      ]
     },
     "metadata": {},
     "output_type": "display_data"
    },
    {
     "data": {
      "image/png": "[encoded data removed]",
      "text/plain": [
       "<Figure size 720x432 with 1 Axes>"
      ]
     },
     "metadata": {},
     "output_type": "display_data"
    }
   ],
   "source": [
    "sns.set(rc={'figure.figsize': (10, 6)})\n",
    "for col in data_cat+data_bin:\n",
    "    sns.countplot(x=data[col])\n",
    "    plt.show()"
   ]
  },
  {
   "cell_type": "markdown",
   "metadata": {},
   "source": [
    "Легко можно выделить, тот факт что у нас много редко встречающихся категорий. Пока что оставим как есть, но позже вероятно избавимся от них. Так же хорошей идеей может быть добавление признаков по типу top 5 модель/цвет/бренд."
   ]
  },
  {
   "cell_type": "code",
   "execution_count": 98,
   "metadata": {
    "execution": {
     "iopub.execute_input": "2022-03-26T22:05:40.096692Z",
     "iopub.status.busy": "2022-03-26T22:05:40.096428Z",
     "iopub.status.idle": "2022-03-26T22:05:40.815788Z",
     "shell.execute_reply": "2022-03-26T22:05:40.814868Z",
     "shell.execute_reply.started": "2022-03-26T22:05:40.096639Z"
    }
   },
   "outputs": [
    {
     "data": {
      "text/plain": [
       "<AxesSubplot:>"
      ]
     },
     "execution_count": 98,
     "metadata": {},
     "output_type": "execute_result"
    },
    {
     "data": {
      "image/png": "[encoded data removed]",
      "text/plain": [
       "<Figure size 2160x1080 with 2 Axes>"
      ]
     },
     "metadata": {},
     "output_type": "display_data"
    }
   ],
   "source": [
    "plt.figure(figsize=(30, 15))\n",
    "sns.heatmap(data[data_cat + data_bin+['price']].corr(), annot=True)"
   ]
  },
  {
   "cell_type": "code",
   "execution_count": 99,
   "metadata": {
    "execution": {
     "iopub.execute_input": "2022-03-26T22:05:40.817283Z",
     "iopub.status.busy": "2022-03-26T22:05:40.817053Z",
     "iopub.status.idle": "2022-03-26T22:05:40.949167Z",
     "shell.execute_reply": "2022-03-26T22:05:40.948172Z",
     "shell.execute_reply.started": "2022-03-26T22:05:40.817254Z"
    }
   },
   "outputs": [],
   "source": [
    "for col in data_cat + data_bin:\n",
    "    data[col] = data[col].astype('category').cat.codes"
   ]
  },
  {
   "cell_type": "code",
   "execution_count": 100,
   "metadata": {
    "execution": {
     "iopub.execute_input": "2022-03-26T22:05:40.950953Z",
     "iopub.status.busy": "2022-03-26T22:05:40.950706Z",
     "iopub.status.idle": "2022-03-26T22:05:42.419074Z",
     "shell.execute_reply": "2022-03-26T22:05:42.418205Z",
     "shell.execute_reply.started": "2022-03-26T22:05:40.950922Z"
    }
   },
   "outputs": [
    {
     "data": {
      "text/plain": [
       "<AxesSubplot:>"
      ]
     },
     "execution_count": 100,
     "metadata": {},
     "output_type": "execute_result"
    },
    {
     "data": {
      "image/png": "[encoded data removed]",
      "text/plain": [
       "<Figure size 720x432 with 1 Axes>"
      ]
     },
     "metadata": {},
     "output_type": "display_data"
    }
   ],
   "source": [
    "imp_num = pd.Series(f_classif(data[data['price'].isna() == False][data_cat + data_bin],\n",
    "                    data[data['price'].isna() == False]['price'])[0], index=data_cat + data_bin)\n",
    "imp_num.sort_values(inplace=True)\n",
    "imp_num.plot(kind='barh')"
   ]
  },
  {
   "cell_type": "markdown",
   "metadata": {},
   "source": [
    "### Так же разделим, маленькие категориальные признаки на фиктивные переменные, большие оставим такими, какие есть. Колличественные же нормализуем."
   ]
  },
  {
   "cell_type": "code",
   "execution_count": 101,
   "metadata": {
    "execution": {
     "iopub.execute_input": "2022-03-26T22:05:42.421558Z",
     "iopub.status.busy": "2022-03-26T22:05:42.420961Z",
     "iopub.status.idle": "2022-03-26T22:05:42.465024Z",
     "shell.execute_reply": "2022-03-26T22:05:42.464341Z",
     "shell.execute_reply.started": "2022-03-26T22:05:42.421512Z"
    }
   },
   "outputs": [],
   "source": [
    "data_col_small = ['fuel_type', 'number_of_doors', 'production_date',\n",
    "                  'vehicle_transmission', 'amount_of_owners', 'drive']\n",
    "data = pd.get_dummies(data, columns=data_col_small)"
   ]
  },
  {
   "cell_type": "code",
   "execution_count": 102,
   "metadata": {
    "execution": {
     "iopub.execute_input": "2022-03-26T22:05:42.467388Z",
     "iopub.status.busy": "2022-03-26T22:05:42.466770Z",
     "iopub.status.idle": "2022-03-26T22:05:42.515111Z",
     "shell.execute_reply": "2022-03-26T22:05:42.514241Z",
     "shell.execute_reply.started": "2022-03-26T22:05:42.467343Z"
    }
   },
   "outputs": [
    {
     "data": {
      "text/html": [
       "<div>\n",
       "<style scoped>\n",
       "    .dataframe tbody tr th:only-of-type {\n",
       "        vertical-align: middle;\n",
       "    }\n",
       "\n",
       "    .dataframe tbody tr th {\n",
       "        vertical-align: top;\n",
       "    }\n",
       "\n",
       "    .dataframe thead th {\n",
       "        text-align: right;\n",
       "    }\n",
       "</style>\n",
       "<table border=\"1\" class=\"dataframe\">\n",
       "  <thead>\n",
       "    <tr style=\"text-align: right;\">\n",
       "      <th></th>\n",
       "      <th>body_type</th>\n",
       "      <th>brand</th>\n",
       "      <th>color</th>\n",
       "      <th>engine_power</th>\n",
       "      <th>mileage</th>\n",
       "      <th>model_date</th>\n",
       "      <th>model</th>\n",
       "      <th>sell_id</th>\n",
       "      <th>vendor</th>\n",
       "      <th>pts</th>\n",
       "      <th>...</th>\n",
       "      <th>vehicle_transmission_0</th>\n",
       "      <th>vehicle_transmission_1</th>\n",
       "      <th>vehicle_transmission_2</th>\n",
       "      <th>vehicle_transmission_3</th>\n",
       "      <th>amount_of_owners_0</th>\n",
       "      <th>amount_of_owners_1</th>\n",
       "      <th>amount_of_owners_2</th>\n",
       "      <th>drive_0</th>\n",
       "      <th>drive_1</th>\n",
       "      <th>drive_2</th>\n",
       "    </tr>\n",
       "  </thead>\n",
       "  <tbody>\n",
       "    <tr>\n",
       "      <th>0</th>\n",
       "      <td>6</td>\n",
       "      <td>29</td>\n",
       "      <td>0</td>\n",
       "      <td>0.532445</td>\n",
       "      <td>0.073999</td>\n",
       "      <td>0.939655</td>\n",
       "      <td>679</td>\n",
       "      <td>1.100575e+09</td>\n",
       "      <td>0</td>\n",
       "      <td>1</td>\n",
       "      <td>...</td>\n",
       "      <td>0</td>\n",
       "      <td>0</td>\n",
       "      <td>1</td>\n",
       "      <td>0</td>\n",
       "      <td>0</td>\n",
       "      <td>0</td>\n",
       "      <td>1</td>\n",
       "      <td>0</td>\n",
       "      <td>1</td>\n",
       "      <td>0</td>\n",
       "    </tr>\n",
       "    <tr>\n",
       "      <th>1</th>\n",
       "      <td>6</td>\n",
       "      <td>29</td>\n",
       "      <td>2</td>\n",
       "      <td>0.543710</td>\n",
       "      <td>0.060562</td>\n",
       "      <td>0.974138</td>\n",
       "      <td>679</td>\n",
       "      <td>1.100549e+09</td>\n",
       "      <td>0</td>\n",
       "      <td>1</td>\n",
       "      <td>...</td>\n",
       "      <td>0</td>\n",
       "      <td>1</td>\n",
       "      <td>0</td>\n",
       "      <td>0</td>\n",
       "      <td>1</td>\n",
       "      <td>0</td>\n",
       "      <td>0</td>\n",
       "      <td>0</td>\n",
       "      <td>1</td>\n",
       "      <td>0</td>\n",
       "    </tr>\n",
       "    <tr>\n",
       "      <th>2</th>\n",
       "      <td>6</td>\n",
       "      <td>29</td>\n",
       "      <td>7</td>\n",
       "      <td>0.622142</td>\n",
       "      <td>0.087999</td>\n",
       "      <td>0.939655</td>\n",
       "      <td>913</td>\n",
       "      <td>1.100658e+09</td>\n",
       "      <td>0</td>\n",
       "      <td>1</td>\n",
       "      <td>...</td>\n",
       "      <td>0</td>\n",
       "      <td>0</td>\n",
       "      <td>1</td>\n",
       "      <td>0</td>\n",
       "      <td>1</td>\n",
       "      <td>0</td>\n",
       "      <td>0</td>\n",
       "      <td>0</td>\n",
       "      <td>1</td>\n",
       "      <td>0</td>\n",
       "    </tr>\n",
       "    <tr>\n",
       "      <th>3</th>\n",
       "      <td>6</td>\n",
       "      <td>29</td>\n",
       "      <td>3</td>\n",
       "      <td>0.543710</td>\n",
       "      <td>0.094999</td>\n",
       "      <td>0.939655</td>\n",
       "      <td>679</td>\n",
       "      <td>1.100937e+09</td>\n",
       "      <td>0</td>\n",
       "      <td>1</td>\n",
       "      <td>...</td>\n",
       "      <td>1</td>\n",
       "      <td>0</td>\n",
       "      <td>0</td>\n",
       "      <td>0</td>\n",
       "      <td>1</td>\n",
       "      <td>0</td>\n",
       "      <td>0</td>\n",
       "      <td>0</td>\n",
       "      <td>1</td>\n",
       "      <td>0</td>\n",
       "    </tr>\n",
       "    <tr>\n",
       "      <th>4</th>\n",
       "      <td>6</td>\n",
       "      <td>29</td>\n",
       "      <td>12</td>\n",
       "      <td>0.622142</td>\n",
       "      <td>0.058535</td>\n",
       "      <td>0.896552</td>\n",
       "      <td>679</td>\n",
       "      <td>1.101038e+09</td>\n",
       "      <td>0</td>\n",
       "      <td>1</td>\n",
       "      <td>...</td>\n",
       "      <td>1</td>\n",
       "      <td>0</td>\n",
       "      <td>0</td>\n",
       "      <td>0</td>\n",
       "      <td>1</td>\n",
       "      <td>0</td>\n",
       "      <td>0</td>\n",
       "      <td>0</td>\n",
       "      <td>1</td>\n",
       "      <td>0</td>\n",
       "    </tr>\n",
       "  </tbody>\n",
       "</table>\n",
       "<p>5 rows × 37 columns</p>\n",
       "</div>"
      ],
      "text/plain": [
       "   body_type  brand  color  engine_power   mileage  model_date  model  \\\n",
       "0          6     29      0      0.532445  0.073999    0.939655    679   \n",
       "1          6     29      2      0.543710  0.060562    0.974138    679   \n",
       "2          6     29      7      0.622142  0.087999    0.939655    913   \n",
       "3          6     29      3      0.543710  0.094999    0.939655    679   \n",
       "4          6     29     12      0.622142  0.058535    0.896552    679   \n",
       "\n",
       "        sell_id  vendor  pts  ...  vehicle_transmission_0  \\\n",
       "0  1.100575e+09       0    1  ...                       0   \n",
       "1  1.100549e+09       0    1  ...                       0   \n",
       "2  1.100658e+09       0    1  ...                       0   \n",
       "3  1.100937e+09       0    1  ...                       1   \n",
       "4  1.101038e+09       0    1  ...                       1   \n",
       "\n",
       "   vehicle_transmission_1  vehicle_transmission_2  vehicle_transmission_3  \\\n",
       "0                       0                       1                       0   \n",
       "1                       1                       0                       0   \n",
       "2                       0                       1                       0   \n",
       "3                       0                       0                       0   \n",
       "4                       0                       0                       0   \n",
       "\n",
       "   amount_of_owners_0  amount_of_owners_1  amount_of_owners_2  drive_0  \\\n",
       "0                   0                   0                   1        0   \n",
       "1                   1                   0                   0        0   \n",
       "2                   1                   0                   0        0   \n",
       "3                   1                   0                   0        0   \n",
       "4                   1                   0                   0        0   \n",
       "\n",
       "   drive_1  drive_2  \n",
       "0        1        0  \n",
       "1        1        0  \n",
       "2        1        0  \n",
       "3        1        0  \n",
       "4        1        0  \n",
       "\n",
       "[5 rows x 37 columns]"
      ]
     },
     "execution_count": 102,
     "metadata": {},
     "output_type": "execute_result"
    }
   ],
   "source": [
    "data.reset_index(inplace=True)\n",
    "scaler = MinMaxScaler()\n",
    "d = scaler.fit_transform(data[data_num])\n",
    "data[data_num] = pd.DataFrame(d, columns=data_num)\n",
    "data = data.drop(['index'], axis=1)\n",
    "data.head()"
   ]
  },
  {
   "cell_type": "markdown",
   "metadata": {},
   "source": [
    "# Machine learning"
   ]
  },
  {
   "cell_type": "code",
   "execution_count": 103,
   "metadata": {
    "execution": {
     "iopub.execute_input": "2022-03-26T22:05:42.517060Z",
     "iopub.status.busy": "2022-03-26T22:05:42.516632Z",
     "iopub.status.idle": "2022-03-26T22:05:42.563162Z",
     "shell.execute_reply": "2022-03-26T22:05:42.562137Z",
     "shell.execute_reply.started": "2022-03-26T22:05:42.517005Z"
    }
   },
   "outputs": [],
   "source": [
    "x = data[data.temp == 1].drop(['temp', 'price', 'sell_id'], axis=1)\n",
    "y = data[data.temp == 1].price\n",
    "x_for_sub = data[data.temp == 0].drop(['temp', 'price', 'sell_id'], axis=1)"
   ]
  },
  {
   "cell_type": "code",
   "execution_count": 104,
   "metadata": {
    "execution": {
     "iopub.execute_input": "2022-03-26T22:05:42.565257Z",
     "iopub.status.busy": "2022-03-26T22:05:42.564915Z",
     "iopub.status.idle": "2022-03-26T22:05:42.593516Z",
     "shell.execute_reply": "2022-03-26T22:05:42.592519Z",
     "shell.execute_reply.started": "2022-03-26T22:05:42.565213Z"
    }
   },
   "outputs": [],
   "source": [
    "x_train, x_test, y_train, y_test = train_test_split(\n",
    "    x, y, test_size=VAL_SIZE, shuffle=True, random_state=RANDOM_SEED)"
   ]
  },
  {
   "cell_type": "markdown",
   "metadata": {},
   "source": [
    "## Model 1: Наивная модель"
   ]
  },
  {
   "cell_type": "code",
   "execution_count": 105,
   "metadata": {
    "execution": {
     "iopub.execute_input": "2022-03-26T22:05:42.595554Z",
     "iopub.status.busy": "2022-03-26T22:05:42.595228Z",
     "iopub.status.idle": "2022-03-26T22:05:42.603092Z",
     "shell.execute_reply": "2022-03-26T22:05:42.602093Z",
     "shell.execute_reply.started": "2022-03-26T22:05:42.595510Z"
    }
   },
   "outputs": [],
   "source": [
    "tmp_train = x_train.copy()\n",
    "tmp_train['price'] = y_train"
   ]
  },
  {
   "cell_type": "code",
   "execution_count": 106,
   "metadata": {
    "execution": {
     "iopub.execute_input": "2022-03-26T22:05:42.606061Z",
     "iopub.status.busy": "2022-03-26T22:05:42.605579Z",
     "iopub.status.idle": "2022-03-26T22:05:42.621446Z",
     "shell.execute_reply": "2022-03-26T22:05:42.620426Z",
     "shell.execute_reply.started": "2022-03-26T22:05:42.606019Z"
    }
   },
   "outputs": [
    {
     "name": "stdout",
     "output_type": "stream",
     "text": [
      "Точность наивной модели по метрике MAPE: 53.21%\n"
     ]
    }
   ],
   "source": [
    "predict = x_test['engine_power'].map(\n",
    "    tmp_train.groupby('engine_power')['price'].median())\n",
    "print(\n",
    "    f\"Точность наивной модели по метрике MAPE: {(mape(y_test, predict.values))*100:0.2f}%\")"
   ]
  },
  {
   "cell_type": "markdown",
   "metadata": {},
   "source": [
    "## Model 2: CatBoost"
   ]
  },
  {
   "cell_type": "code",
   "execution_count": 107,
   "metadata": {
    "execution": {
     "iopub.execute_input": "2022-03-26T22:05:42.623535Z",
     "iopub.status.busy": "2022-03-26T22:05:42.622861Z",
     "iopub.status.idle": "2022-03-26T22:05:42.628901Z",
     "shell.execute_reply": "2022-03-26T22:05:42.627888Z",
     "shell.execute_reply.started": "2022-03-26T22:05:42.623497Z"
    }
   },
   "outputs": [
    {
     "name": "stdout",
     "output_type": "stream",
     "text": [
      "Точность модели по метрике MAPE: 16.03%\n"
     ]
    }
   ],
   "source": [
    "model = CatBoostRegressor(iterations=5000,\n",
    "                          random_seed=RANDOM_SEED,\n",
    "                          eval_metric='MAPE',\n",
    "                          custom_metric=['R2', 'MAE'],\n",
    "                          silent=True,\n",
    "                          )\n",
    "model.fit(x_train, y_train,\n",
    "          # cat_features=cat_features_ids,\n",
    "          eval_set=(x_test, y_test),\n",
    "          verbose_eval=0,\n",
    "          use_best_model=True,\n",
    "          # plot=True\n",
    "          )\n",
    "#оцениваем точность\n",
    "predict = model.predict(x_test)\n",
    "print(f\"Точность модели по метрике MAPE: {(mape(y_test, predict))*100:0.2f}%\")"
   ]
  },
  {
   "cell_type": "markdown",
   "metadata": {},
   "source": [
    "#### Log Traget\n",
    "Попробуем взять таргет в логорифм - это позволит уменьшить влияние выбросов на обучение модели."
   ]
  },
  {
   "cell_type": "code",
   "execution_count": 108,
   "metadata": {
    "execution": {
     "iopub.execute_input": "2022-03-26T22:05:42.630872Z",
     "iopub.status.busy": "2022-03-26T22:05:42.630156Z",
     "iopub.status.idle": "2022-03-26T22:05:42.639840Z",
     "shell.execute_reply": "2022-03-26T22:05:42.638928Z",
     "shell.execute_reply.started": "2022-03-26T22:05:42.630833Z"
    }
   },
   "outputs": [
    {
     "name": "stdout",
     "output_type": "stream",
     "text": [
      "Точность модели по метрике MAPE: 13.43%\n"
     ]
    }
   ],
   "source": [
    "model = CatBoostRegressor(iterations=5000,\n",
    "                          random_seed=RANDOM_SEED,\n",
    "                          eval_metric='MAPE',\n",
    "                          custom_metric=['R2', 'MAE'],\n",
    "                          silent=True,\n",
    "                          )\n",
    "model.fit(x_train, np.log(y_train),\n",
    "          # cat_features=cat_features_ids,\n",
    "          eval_set=(x_test, np.log(y_test)),\n",
    "          verbose_eval=0,\n",
    "          use_best_model=True,\n",
    "          # plot=True\n",
    "          )\n",
    "predict_test = np.exp(model.predict(x_test))\n",
    "print(f\"Точность модели по метрике MAPE: {(mape(y_test, predict_test))*100:0.2f}%\")"
   ]
  },
  {
   "cell_type": "markdown",
   "metadata": {},
   "source": [
    "сабмит 13.04703\n",
    "\n",
    "Улучшение на 2.5%\n",
    "### Model 3: RandomForestRegressor\n",
    "Для начала попробуем посмотреть на точность метрики без подбора гиперпараметров"
   ]
  },
  {
   "cell_type": "code",
   "execution_count": 109,
   "metadata": {
    "execution": {
     "iopub.execute_input": "2022-03-26T22:05:42.641535Z",
     "iopub.status.busy": "2022-03-26T22:05:42.641297Z",
     "iopub.status.idle": "2022-03-26T22:05:42.652239Z",
     "shell.execute_reply": "2022-03-26T22:05:42.651215Z",
     "shell.execute_reply.started": "2022-03-26T22:05:42.641506Z"
    }
   },
   "outputs": [
    {
     "name": "stdout",
     "output_type": "stream",
     "text": [
      "Точность модели по метрике MAPE: 15.80%\n"
     ]
    }
   ],
   "source": [
    "rfr = RandomForestRegressor(random_state=RANDOM_SEED)\n",
    "rfr.fit(x_train, y_train)\n",
    "predict_test = rfr.predict(x_test)\n",
    "print(f\"Точность модели по метрике MAPE: {(mape(y_test, predict_test))*100:0.2f}%\")"
   ]
  },
  {
   "cell_type": "code",
   "execution_count": 110,
   "metadata": {
    "execution": {
     "iopub.execute_input": "2022-03-26T22:05:42.654837Z",
     "iopub.status.busy": "2022-03-26T22:05:42.654051Z",
     "iopub.status.idle": "2022-03-26T22:05:42.663931Z",
     "shell.execute_reply": "2022-03-26T22:05:42.663002Z",
     "shell.execute_reply.started": "2022-03-26T22:05:42.654787Z"
    }
   },
   "outputs": [
    {
     "name": "stdout",
     "output_type": "stream",
     "text": [
      "Точность модели по метрике MAPE: 14.37%\n"
     ]
    }
   ],
   "source": [
    "rfr_log = RandomForestRegressor(random_state=RANDOM_SEED)\n",
    "rfr_log.fit(x_train, np.log(y_train))\n",
    "predict_test = np.exp(rfr_log.predict(x_test))\n",
    "print(f\"Точность модели по метрике MAPE: {(mape(y_test, predict_test))*100:0.2f}%\")"
   ]
  },
  {
   "cell_type": "markdown",
   "metadata": {},
   "source": [
    "#### Подберем гиперпараметры."
   ]
  },
  {
   "cell_type": "code",
   "execution_count": 111,
   "metadata": {
    "execution": {
     "iopub.execute_input": "2022-03-26T22:05:42.665840Z",
     "iopub.status.busy": "2022-03-26T22:05:42.665575Z",
     "iopub.status.idle": "2022-03-26T22:05:42.676253Z",
     "shell.execute_reply": "2022-03-26T22:05:42.675207Z",
     "shell.execute_reply.started": "2022-03-26T22:05:42.665809Z"
    }
   },
   "outputs": [],
   "source": [
    "# random_grid = {'n_estimators': range(100,1000,10),\n",
    "#               'max_features': ['auto','sqrt', 'log2'],\n",
    "#               'max_depth': [int(x) for x in np.linspace(5, 15, num=10)] + [None],\n",
    "#               'min_samples_split': [2, 5, 10],\n",
    "#               'min_samples_leaf': [1, 2, 4],\n",
    "#               'bootstrap': [True, False]}\n",
    "#\n",
    "#rfr = RandomForestRegressor(random_state=RANDOM_SEED)\n",
    "# rfr_random = RandomizedSearchCV(estimator=rfr, param_distributions=random_grid,\n",
    "#                               n_iter=100, cv=3, verbose=1, random_state=RANDOM_SEED, n_jobs=-1)\n",
    "#\n",
    "#rfr_random.fit(x_train, np.log(y_train))\n",
    "# rfr_random.best_params_"
   ]
  },
  {
   "cell_type": "markdown",
   "metadata": {},
   "source": [
    "Мощностей моего комьпютера явно не хватает, чтобы быстро подбирать гиперпараметры, спустя 2 часа такой результат.\n",
    "\n",
    "{'n_estimators': 120,\n",
    " 'min_samples_split': 10,\n",
    " 'min_samples_leaf': 1,\n",
    " 'max_features': 'auto',\n",
    " 'max_depth': None,\n",
    " 'bootstrap': True}"
   ]
  },
  {
   "cell_type": "code",
   "execution_count": 112,
   "metadata": {
    "execution": {
     "iopub.execute_input": "2022-03-26T22:05:42.678603Z",
     "iopub.status.busy": "2022-03-26T22:05:42.677856Z",
     "iopub.status.idle": "2022-03-26T22:05:42.693134Z",
     "shell.execute_reply": "2022-03-26T22:05:42.692092Z",
     "shell.execute_reply.started": "2022-03-26T22:05:42.678549Z"
    }
   },
   "outputs": [
    {
     "name": "stdout",
     "output_type": "stream",
     "text": [
      "Точность модели по метрике MAPE: 14.18%\n"
     ]
    }
   ],
   "source": [
    "param_log_rfr = RandomForestRegressor(n_estimators=120, min_samples_split=10, min_samples_leaf=1,\n",
    "                                      max_features='auto', max_depth=None, bootstrap=True, random_state=RANDOM_SEED)\n",
    "param_log_rfr.fit(x_train, np.log(y_train))\n",
    "predict_test = np.exp(param_log_rfr.predict(x_test))\n",
    "print(f\"Точность модели по метрике MAPE: {(mape(y_test, predict_test))*100:0.2f}%\")"
   ]
  },
  {
   "cell_type": "markdown",
   "metadata": {},
   "source": [
    "12.95945 сабмит \n",
    "Результаты слегка улучшились.\n",
    "### Model 4: XGBRegresson"
   ]
  },
  {
   "cell_type": "code",
   "execution_count": 113,
   "metadata": {
    "execution": {
     "iopub.execute_input": "2022-03-26T22:05:42.694954Z",
     "iopub.status.busy": "2022-03-26T22:05:42.694568Z",
     "iopub.status.idle": "2022-03-26T22:05:42.705143Z",
     "shell.execute_reply": "2022-03-26T22:05:42.704106Z",
     "shell.execute_reply.started": "2022-03-26T22:05:42.694895Z"
    }
   },
   "outputs": [
    {
     "name": "stdout",
     "output_type": "stream",
     "text": [
      "Точность модели по метрике MAPE: 13.44%\n"
     ]
    }
   ],
   "source": [
    "xgboost = xgb.XGBRegressor(objective='reg:squarederror', colsample_bytree=0.5,\n",
    "                           learning_rate=0.05, max_depth=15, alpha=1, n_jobs=-1, n_estimators=900)\n",
    "xgboost.fit(x_train, np.log(y_train+1))\n",
    "predict_test = np.exp(xgboost.predict(x_test))\n",
    "print(f\"Точность модели по метрике MAPE: {(mape(y_test, predict_test))*100:0.2f}%\")"
   ]
  },
  {
   "cell_type": "markdown",
   "metadata": {},
   "source": [
    "11.35575 сабмит\n",
    "\n",
    "#### Model 6: StackingRegressor\n",
    "Для стека возьмем модели с лучшими результатами XGBoost и RandomForestRegressor "
   ]
  },
  {
   "cell_type": "code",
   "execution_count": 114,
   "metadata": {
    "execution": {
     "iopub.execute_input": "2022-03-26T22:05:42.707057Z",
     "iopub.status.busy": "2022-03-26T22:05:42.706450Z",
     "iopub.status.idle": "2022-03-26T22:05:42.718024Z",
     "shell.execute_reply": "2022-03-26T22:05:42.717156Z",
     "shell.execute_reply.started": "2022-03-26T22:05:42.707015Z"
    }
   },
   "outputs": [],
   "source": [
    "estimators = [('xgboost', xgb.XGBRegressor(objective='reg:squarederror', colsample_bytree=0.5, learning_rate=0.05,\n",
    "                                           max_depth=15, alpha=1, n_jobs=-1, n_estimators=900)),\n",
    "              ('xgboost2', xgb.XGBRegressor(objective='reg:squarederror', colsample_bytree=0.5, learning_rate=0.05,\n",
    "                                            max_depth=15, alpha=1, n_jobs=-1, n_estimators=900)),\n",
    "              ('param_log_rfr', RandomForestRegressor(n_estimators=120, min_samples_split=10, min_samples_leaf=1,\n",
    "                                                      max_features='auto', max_depth=None, bootstrap=True,\n",
    "                                                      random_state=RANDOM_SEED))\n",
    "              ]"
   ]
  },
  {
   "cell_type": "markdown",
   "metadata": {},
   "source": [
    "последним возьмем линейную регрессию"
   ]
  },
  {
   "cell_type": "code",
   "execution_count": 115,
   "metadata": {
    "execution": {
     "iopub.execute_input": "2022-03-26T22:05:42.719917Z",
     "iopub.status.busy": "2022-03-26T22:05:42.719461Z",
     "iopub.status.idle": "2022-03-26T22:24:30.983995Z",
     "shell.execute_reply": "2022-03-26T22:24:30.982626Z",
     "shell.execute_reply.started": "2022-03-26T22:05:42.719868Z"
    },
    "jupyter": {
     "outputs_hidden": true
    }
   },
   "outputs": [
    {
     "data": {
      "text/plain": [
       "StackingRegressor(estimators=[('xgboost',\n",
       "                               XGBRegressor(alpha=1, base_score=None,\n",
       "                                            booster=None,\n",
       "                                            colsample_bylevel=None,\n",
       "                                            colsample_bynode=None,\n",
       "                                            colsample_bytree=0.5,\n",
       "                                            enable_categorical=False,\n",
       "                                            gamma=None, gpu_id=None,\n",
       "                                            importance_type=None,\n",
       "                                            interaction_constraints=None,\n",
       "                                            learning_rate=0.05,\n",
       "                                            max_delta_step=None, max_depth=15,\n",
       "                                            min_child_weight=None, missing=nan,\n",
       "                                            monotone_...\n",
       "                                            monotone_constraints=None,\n",
       "                                            n_estimators=900, n_jobs=-1,\n",
       "                                            num_parallel_tree=None,\n",
       "                                            predictor=None, random_state=None,\n",
       "                                            reg_alpha=None, reg_lambda=None,\n",
       "                                            scale_pos_weight=None,\n",
       "                                            subsample=None, tree_method=None,\n",
       "                                            validate_parameters=None,\n",
       "                                            verbosity=None)),\n",
       "                              ('param_log_rfr',\n",
       "                               RandomForestRegressor(min_samples_split=10,\n",
       "                                                     n_estimators=120,\n",
       "                                                     random_state=37))],\n",
       "                  final_estimator=LinearRegression())"
      ]
     },
     "execution_count": 115,
     "metadata": {},
     "output_type": "execute_result"
    }
   ],
   "source": [
    "stack_reg = StackingRegressor(\n",
    "    estimators=estimators, final_estimator=LinearRegression())\n",
    "stack_reg.fit(x_train, np.log(y_train))"
   ]
  },
  {
   "cell_type": "code",
   "execution_count": 116,
   "metadata": {
    "execution": {
     "iopub.execute_input": "2022-03-26T22:25:03.840743Z",
     "iopub.status.busy": "2022-03-26T22:25:03.840446Z",
     "iopub.status.idle": "2022-03-26T22:25:05.711602Z",
     "shell.execute_reply": "2022-03-26T22:25:05.710634Z",
     "shell.execute_reply.started": "2022-03-26T22:25:03.840714Z"
    }
   },
   "outputs": [
    {
     "name": "stdout",
     "output_type": "stream",
     "text": [
      "Точность модели по метрике MAPE: 13.35%\n"
     ]
    }
   ],
   "source": [
    "predict = np.exp(stack_reg.predict(x_test))\n",
    "print(f\"Точность модели по метрике MAPE: {(mape(y_test, predict))*100:0.2f}%\")"
   ]
  },
  {
   "cell_type": "code",
   "execution_count": 117,
   "metadata": {
    "execution": {
     "iopub.execute_input": "2022-03-26T22:25:17.277728Z",
     "iopub.status.busy": "2022-03-26T22:25:17.277042Z",
     "iopub.status.idle": "2022-03-26T22:25:21.304253Z",
     "shell.execute_reply": "2022-03-26T22:25:21.302742Z",
     "shell.execute_reply.started": "2022-03-26T22:25:17.277689Z"
    }
   },
   "outputs": [
    {
     "data": {
      "text/html": [
       "<div>\n",
       "<style scoped>\n",
       "    .dataframe tbody tr th:only-of-type {\n",
       "        vertical-align: middle;\n",
       "    }\n",
       "\n",
       "    .dataframe tbody tr th {\n",
       "        vertical-align: top;\n",
       "    }\n",
       "\n",
       "    .dataframe thead th {\n",
       "        text-align: right;\n",
       "    }\n",
       "</style>\n",
       "<table border=\"1\" class=\"dataframe\">\n",
       "  <thead>\n",
       "    <tr style=\"text-align: right;\">\n",
       "      <th></th>\n",
       "      <th>sell_id</th>\n",
       "      <th>price</th>\n",
       "    </tr>\n",
       "  </thead>\n",
       "  <tbody>\n",
       "    <tr>\n",
       "      <th>0</th>\n",
       "      <td>1100575026</td>\n",
       "      <td>607037.685300</td>\n",
       "    </tr>\n",
       "    <tr>\n",
       "      <th>1</th>\n",
       "      <td>1100549428</td>\n",
       "      <td>910697.721536</td>\n",
       "    </tr>\n",
       "    <tr>\n",
       "      <th>2</th>\n",
       "      <td>1100658222</td>\n",
       "      <td>945014.729491</td>\n",
       "    </tr>\n",
       "    <tr>\n",
       "      <th>3</th>\n",
       "      <td>1100937408</td>\n",
       "      <td>706194.318601</td>\n",
       "    </tr>\n",
       "    <tr>\n",
       "      <th>4</th>\n",
       "      <td>1101037972</td>\n",
       "      <td>718670.837604</td>\n",
       "    </tr>\n",
       "  </tbody>\n",
       "</table>\n",
       "</div>"
      ],
      "text/plain": [
       "      sell_id          price\n",
       "0  1100575026  607037.685300\n",
       "1  1100549428  910697.721536\n",
       "2  1100658222  945014.729491\n",
       "3  1100937408  706194.318601\n",
       "4  1101037972  718670.837604"
      ]
     },
     "execution_count": 117,
     "metadata": {},
     "output_type": "execute_result"
    }
   ],
   "source": [
    "predict_submission = np.exp(stack_reg.predict(x_for_sub))\n",
    "sample_submission['price'] = predict_submission\n",
    "sample_submission.to_csv(f'submission.csv', index=False)\n",
    "sample_submission.head()"
   ]
  }
 ],
 "metadata": {
  "kernelspec": {
   "display_name": "Python 3",
   "language": "python",
   "name": "python3"
  },
  "language_info": {
   "codemirror_mode": {
    "name": "ipython",
    "version": 3
   },
   "file_extension": ".py",
   "mimetype": "text/x-python",
   "name": "python",
   "nbconvert_exporter": "python",
   "pygments_lexer": "ipython3",
   "version": "3.8.8"
  }
 },
 "nbformat": 4,
 "nbformat_minor": 4
}
